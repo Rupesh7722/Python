{
 "cells": [
  {
   "cell_type": "markdown",
   "metadata": {},
   "source": [
    "# Trades\n",
    "\n",
    "All trade representations in `gs_quant` are part of the `Instrument` package. `Instrument` is used to represent any financial object that can be priced - like a derivative. See the [Instruments Guide](https://developer.gs.com/docs/gsquant/guides/Pricing-and-Risk/instruments/) for more information. \n",
    "\n",
    "All externally supported instruments are listed in the [supported instruments](https://developer.gs.com/docs/gsquant/guides/Pricing-and-Risk/instruments/#supported-instruments) section of the page. The remainder of the notebooks in this folders show case the available instruments by asset asset."
   ]
  },
  {
   "cell_type": "markdown",
   "metadata": {},
   "source": [
    "## Instrument Properties\n",
    "\n",
    "Each instrument takes a number of properties as defined by it's signature. Instrument signatures are available [here](https://developer.gs.com/docs/gsquant/api/instrument.html#instruments/). For examples, an `IRSwap` has properties like `notional_currency` and `termination_date`. Let's define an `IRSwap` as example to explore the basics on. The asset class specific guides walk through how to define each instrument."
   ]
  },
  {
   "cell_type": "code",
   "execution_count": 64,
   "metadata": {},
   "outputs": [],
   "source": [
    "from gs_quant.instrument import IRSwap # import instruments\n",
    "from gs_quant.common import PayReceive, Currency # import constants\n",
    "\n",
    "my_swap = IRSwap(PayReceive.Pay, '5y', Currency.USD ) # 5y USD payer"
   ]
  },
  {
   "cell_type": "markdown",
   "metadata": {},
   "source": [
    "### Getting a Property\n",
    "\n",
    "Once an instrument is defined, a property can be called on the instrument. For example:"
   ]
  },
  {
   "cell_type": "code",
   "execution_count": 56,
   "metadata": {},
   "outputs": [
    {
     "data": {
      "text/plain": [
       "'5y'"
      ]
     },
     "execution_count": 56,
     "metadata": {},
     "output_type": "execute_result"
    }
   ],
   "source": [
    "my_swap.termination_date"
   ]
  },
  {
   "cell_type": "markdown",
   "metadata": {},
   "source": [
    "### Setting a Property\n",
    "\n",
    "Properties can be set using the same framework:"
   ]
  },
  {
   "cell_type": "code",
   "execution_count": 57,
   "metadata": {},
   "outputs": [
    {
     "data": {
      "text/plain": [
       "'1y'"
      ]
     },
     "execution_count": 57,
     "metadata": {},
     "output_type": "execute_result"
    }
   ],
   "source": [
    "my_swap.termination_date = '1y' # change termination 10y\n",
    "my_swap.termination_date"
   ]
  },
  {
   "cell_type": "code",
   "execution_count": 58,
   "metadata": {},
   "outputs": [
    {
     "data": {
      "text/plain": [
       "5000000.0"
      ]
     },
     "execution_count": 58,
     "metadata": {},
     "output_type": "execute_result"
    }
   ],
   "source": [
    "my_swap.notional_amount = 5e6 # set notional amount\n",
    "my_swap.notional_amount "
   ]
  },
  {
   "cell_type": "markdown",
   "metadata": {},
   "source": [
    "### Viewing Properties\n",
    "\n",
    "Any set properties can be viewed using `as_dict()`"
   ]
  },
  {
   "cell_type": "code",
   "execution_count": 59,
   "metadata": {},
   "outputs": [
    {
     "data": {
      "text/plain": [
       "{'notional_currency': USD,\n",
       " 'pay_or_receive': Pay,\n",
       " 'asset_class': Rates,\n",
       " 'notional_amount': 5000000.0,\n",
       " 'termination_date': '1y',\n",
       " 'type': Swap,\n",
       " 'fee': 0}"
      ]
     },
     "execution_count": 59,
     "metadata": {},
     "output_type": "execute_result"
    }
   ],
   "source": [
    "my_swap.as_dict()"
   ]
  },
  {
   "cell_type": "markdown",
   "metadata": {},
   "source": [
    "### Enum Properties\n",
    "Some of the available properties are enums available in the common modules. You can use autocomplete (tab) to see all available values like `Currency` in the example above."
   ]
  },
  {
   "cell_type": "markdown",
   "metadata": {},
   "source": [
    "## Resolving \n",
    "\n",
    "The above output shows only the parameters specified, many of which are relative (i.e. expiration date, strike) but additional fields are needed to price the instrument. Calling the `resolve()` method will resolve any relative parameters to absolute values as well as fill in any defaulted parameters using the `PricingContext`. More on `PricingContext` [here](https://developer.gs.com/docs/gsquant/guides/Pricing-and-Risk/pricing-context/)."
   ]
  },
  {
   "cell_type": "code",
   "execution_count": 68,
   "metadata": {},
   "outputs": [
    {
     "data": {
      "text/plain": [
       "{'fixed_rate_business_day_convention': Modified Following,\n",
       " 'effective_date': '2019-11-21',\n",
       " 'fixed_rate_day_count_fraction': 30/360,\n",
       " 'notional_currency': USD,\n",
       " 'pay_or_receive': Pay,\n",
       " 'floating_rate_business_day_convention': Modified Following,\n",
       " 'floating_rate_frequency': '3m',\n",
       " 'asset_class': Rates,\n",
       " 'notional_amount': 1000000.0,\n",
       " 'floating_rate_day_count_fraction': ACT/360,\n",
       " 'termination_date': '2024-11-21',\n",
       " 'floating_rate_spread': 0.0,\n",
       " 'type': Swap,\n",
       " 'fixed_rate': 0.015759407491421337,\n",
       " 'fee': 0.0,\n",
       " 'fixed_rate_frequency': '6m',\n",
       " 'floating_rate_option': 'USD-LIBOR-BBA',\n",
       " 'floating_rate_designated_maturity': '3m'}"
      ]
     },
     "execution_count": 68,
     "metadata": {},
     "output_type": "execute_result"
    }
   ],
   "source": [
    "my_swap.resolve(in_place=False).as_dict()"
   ]
  },
  {
   "cell_type": "markdown",
   "metadata": {},
   "source": [
    "Note `resolve()` will change the state of the instrument object in place by default unless `in_place=False` like in the example above.\n",
    "\n",
    "In the example above `resolve()` changes several specified relative parameters - for example `termination_date` transforms `10y` into a date as well as adds any unspecified default parameters - like `fixed_rate` and `effective date`."
   ]
  },
  {
   "cell_type": "markdown",
   "metadata": {},
   "source": [
    "### When to Use Resolve\n",
    "\n",
    "`resolve` can be used to \"fix\" the instrument parameters when evaluating pricing & risk. If you do not resolve and evaluate the instrument under a pricing context, it will be resolved under that pricing context. For example, if the `termination_date` is `1y`, the unresolved swap it will be `1y` from each date vs in the resolved it will always be the same specific date.\n",
    "\n",
    "To illustrate the point, let's price the swap above in both states (resolved and unresolved) and examine the difference in price:"
   ]
  },
  {
   "cell_type": "code",
   "execution_count": 66,
   "metadata": {},
   "outputs": [],
   "source": [
    "from gs_quant.risk import HistoricalPricingContext\n",
    "from datetime import timedelta, date\n",
    "from copy import copy\n",
    "\n",
    "end_date = date.today()\n",
    "start_date = end_date - timedelta(days=33)\n",
    "\n",
    "fixed_swap = copy(my_swap)\n",
    "fixed_swap.resolve() # \"fix\" the parameters of this swap\n",
    "\n",
    "with HistoricalPricingContext(start_date, end_date):\n",
    "    d_price = my_swap.price()\n",
    "    f_price = fixed_swap.price()\n",
    "    \n",
    "dynamic_price = d_price.result()\n",
    "fixed_price = f_price.result()"
   ]
  },
  {
   "cell_type": "markdown",
   "metadata": {},
   "source": [
    "Let's now plot the difference in price between the price of the swap with the fixed parameters and swap with changing parameters. As we can see below, there is a relatively significant difference in price."
   ]
  },
  {
   "cell_type": "code",
   "execution_count": 67,
   "metadata": {},
   "outputs": [
    {
     "data": {
      "text/plain": [
       "[<matplotlib.lines.Line2D at 0x7f05a2793518>]"
      ]
     },
     "execution_count": 67,
     "metadata": {},
     "output_type": "execute_result"
    },
    {
     "data": {
      "image/png": "[encoded data removed]",
      "text/plain": [
       "<Figure size 720x432 with 1 Axes>"
      ]
     },
     "metadata": {
      "needs_background": "light"
     },
     "output_type": "display_data"
    }
   ],
   "source": [
    "import matplotlib.pyplot as plt\n",
    "plt.figure(figsize=(10,6))\n",
    "plt.plot(dynamic_price-fixed_price)"
   ]
  },
  {
   "cell_type": "code",
   "execution_count": null,
   "metadata": {},
   "outputs": [],
   "source": []
  }
 ],
 "metadata": {
  "kernelspec": {
   "display_name": "Python 3",
   "language": "python",
   "name": "python3"
  },
  "language_info": {
   "codemirror_mode": {
    "name": "ipython",
    "version": 3
   },
   "file_extension": ".py",
   "mimetype": "text/x-python",
   "name": "python",
   "nbconvert_exporter": "python",
   "pygments_lexer": "ipython3",
   "version": "3.6.2"
  }
 },
 "nbformat": 4,
 "nbformat_minor": 2
}
