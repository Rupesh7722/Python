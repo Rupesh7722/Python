{
 "cells": [
  {
   "cell_type": "markdown",
   "metadata": {},
   "source": [
    "# Portfolios\n",
    "\n",
    "Portfolios are used to represent collections of instruments. All `Instrument` methods are also available for a `Portfolio`. This notebook shows examples of creating and working with a `Portfolio`. "
   ]
  },
  {
   "cell_type": "markdown",
   "metadata": {},
   "source": [
    "Let's first create a few instruments that will be included in our portfolio. Note that instruments can also take an optional `name` parameter. They can be refered to by this name or other parameters within a portfolio as shown in [Referring to Instruments](#Referring-to-Instruments)."
   ]
  },
  {
   "cell_type": "code",
   "execution_count": 31,
   "metadata": {},
   "outputs": [],
   "source": [
    "from gs_quant.instrument import IRSwaption\n",
    "swaption1 = IRSwaption('Pay', '5y', 'EUR', expiration_date='3m', name='EUR-5y3m')\n",
    "swaption2 = IRSwaption('Pay', '5y', 'EUR', expiration_date='6m', name='EUR-5y6m')"
   ]
  },
  {
   "cell_type": "markdown",
   "metadata": {},
   "source": [
    "## Portfolio Construction"
   ]
  },
  {
   "cell_type": "code",
   "execution_count": 32,
   "metadata": {},
   "outputs": [],
   "source": [
    "from gs_quant.markets.portfolio import Portfolio\n",
    "portfolio = Portfolio((swaption1, swaption2))"
   ]
  },
  {
   "cell_type": "markdown",
   "metadata": {},
   "source": [
    "### Reseting Constituents"
   ]
  },
  {
   "cell_type": "code",
   "execution_count": 33,
   "metadata": {},
   "outputs": [],
   "source": [
    "portfolio.instruments = (swaption1, swaption2)"
   ]
  },
  {
   "cell_type": "markdown",
   "metadata": {},
   "source": [
    "### Referring to Instruments\n",
    "\n",
    "Instruments can be referred to by position, by instrument object and by name."
   ]
  },
  {
   "cell_type": "code",
   "execution_count": 61,
   "metadata": {},
   "outputs": [],
   "source": [
    "portfolio[0] # by position\n",
    "portfolio[swaption2] # by instrument object\n",
    "portfolio['EUR-5y6m'] # by instrument name"
   ]
  },
  {
   "cell_type": "markdown",
   "metadata": {},
   "source": [
    "## Portfolio Evaluation\n",
    "\n",
    "`Portfolio` supports the same methods as `Instrument` including `resolve()`, `calc()`, and `price()`. All the measures will be evaluated and can be accessed for the individual instruments in the `Portfolio` as well as top level.\n",
    "\n",
    "### Calling Instrument Methods"
   ]
  },
  {
   "cell_type": "code",
   "execution_count": 35,
   "metadata": {},
   "outputs": [],
   "source": [
    "# resolve\n",
    "portfolio.resolve()"
   ]
  },
  {
   "cell_type": "code",
   "execution_count": 57,
   "metadata": {},
   "outputs": [],
   "source": [
    "# price\n",
    "portfolio.price()"
   ]
  },
  {
   "cell_type": "code",
   "execution_count": 37,
   "metadata": {},
   "outputs": [],
   "source": [
    "# calculate risk measures\n",
    "import gs_quant.risk as risk\n",
    "result = portfolio.calc((risk.DollarPrice, risk.IRDelta))"
   ]
  },
  {
   "cell_type": "markdown",
   "metadata": {},
   "source": [
    "### Accessing Results for Constituents\n",
    "\n"
   ]
  },
  {
   "cell_type": "code",
   "execution_count": 59,
   "metadata": {},
   "outputs": [],
   "source": [
    "result[risk.DollarPrice]['EUR-5y3m'] # or\n",
    "result['EUR-5y3m'][risk.DollarPrice]"
   ]
  },
  {
   "cell_type": "markdown",
   "metadata": {},
   "source": [
    "### Accessing Aggregated Results"
   ]
  },
  {
   "cell_type": "code",
   "execution_count": 60,
   "metadata": {},
   "outputs": [],
   "source": [
    "result[risk.IRDelta].aggregate()"
   ]
  }
 ],
 "metadata": {
  "kernelspec": {
   "display_name": "Python 3",
   "language": "python",
   "name": "python3"
  },
  "language_info": {
   "codemirror_mode": {
    "name": "ipython",
    "version": 3
   },
   "file_extension": ".py",
   "mimetype": "text/x-python",
   "name": "python",
   "nbconvert_exporter": "python",
   "pygments_lexer": "ipython3",
   "version": "3.6.2"
  }
 },
 "nbformat": 4,
 "nbformat_minor": 2
}
