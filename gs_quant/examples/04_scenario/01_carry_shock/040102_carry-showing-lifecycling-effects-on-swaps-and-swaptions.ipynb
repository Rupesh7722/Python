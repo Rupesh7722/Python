{
 "cells": [
  {
   "cell_type": "code",
   "execution_count": null,
   "metadata": {},
   "outputs": [],
   "source": [
    "from gs_quant.session import GsSession, Environment\n",
    "client_id = None # Supply your application id\n",
    "client_secret = None # Supply your client secret\n",
    "scopes = ('run_analytics',)\n",
    "\n",
    "GsSession.use(Environment.PROD, client_id, client_secret, scopes)"
   ]
  },
  {
   "cell_type": "code",
   "execution_count": null,
   "metadata": {},
   "outputs": [],
   "source": [
    "from gs_quant.risk import CarryScenario, IRDeltaParallelLocalCcy, Price\n",
    "from gs_quant.markets.portfolio import Portfolio\n",
    "\n",
    "# create a swap which has a 1m floating frequency\n",
    "\n",
    "swap = IRSwap('Pay', '10y', 'EUR', fixed_rate='ATM-5', floating_rate_frequency='1m', name='EUR10y')\n",
    "\n",
    "# resolve the trade as of today to fix the dates and strike\n",
    "swap.resolve()\n",
    "\n",
    "# roll daily for 66 business days assuming both forward curve is realised and spot curve is realised\n",
    "fwd_results = []\n",
    "spot_results = []\n",
    "# by wrapping all the scenarios into one PricingContext we package all the requests into one call to GS\n",
    "with PricingContext():\n",
    "    for time_shift in range(66):\n",
    "        with CarryScenario(time_shift, roll_to_fwds=True):\n",
    "            fwd_results.append(swap.price())\n",
    "        with CarryScenario(time_shift, roll_to_fwds=False):\n",
    "            spot_results.append(swap.price())\n",
    "\n"
   ]
  },
  {
   "cell_type": "code",
   "execution_count": null,
   "metadata": {},
   "outputs": [],
   "source": [
    "import matplotlib.pyplot as plt\n",
    "import pandas as pd\n",
    "\n",
    "pd.Series(r.result() for r in fwd_results).plot(figsize=(10,6), \n",
    "                                             title='Swap Carry', \n",
    "                                             label='{} fwd curve carry'.format(swap.name))\n",
    "pd.Series(r.result() for r in spot_results).plot(label='{} spot curve carry'.format(swap.name))\n",
    "\n",
    "plt.xlabel('TimeShift')\n",
    "plt.ylabel('PV')\n",
    "plt.legend()\n",
    "\n",
    "# note that the steps represent the move in MTM as the cashflows are paid.  The libor fixing is implied from the fwd\n"
   ]
  },
  {
   "cell_type": "code",
   "execution_count": null,
   "metadata": {},
   "outputs": [],
   "source": [
    "itm_swaption = IRSwaption('Receive', '10y', 'EUR', strike='ATM+50', expiration_date='1m', name='ITM swaption')\n",
    "otm_swaption = IRSwaption('Receive', '10y', 'EUR', strike='ATM-50', expiration_date='1m', name='OTM swaption')\n",
    "port = Portfolio([itm_swaption, otm_swaption])\n",
    "port.resolve()\n",
    "\n",
    "# roll daily for 44 business days assuming both forward curve is realised and spot curve is realised\n",
    "fwd_results = []\n",
    "spot_results = []\n",
    "# by wrapping all the scenarios into one PricingContext we package all the requests into one call to GS\n",
    "with PricingContext():\n",
    "    for time_shift in range(44):\n",
    "        with CarryScenario(time_shift, roll_to_fwds=True):\n",
    "            fwd_results.append(port.price())"
   ]
  },
  {
   "cell_type": "code",
   "execution_count": null,
   "metadata": {},
   "outputs": [],
   "source": [
    "pd.Series(r[itm_swaption] for r in fwd_results).plot(figsize=(10,6), \n",
    "                                             title='Swaption Carry', \n",
    "                                             label='{} carry'.format(itm_swaption.name))\n",
    "pd.Series(r[otm_swaption] for r in fwd_results).plot(label='{} carry'.format(otm_swaption.name), secondary_y=True)\n",
    "\n",
    "plt.xlabel('TimeShift')\n",
    "plt.ylabel('PV')\n",
    "plt.legend()\n",
    "\n",
    "# note that the OTM swaption prices at 0 post expiry whereas the ITM swaption prices at the value of the swap."
   ]
  },
  {
   "cell_type": "code",
   "execution_count": null,
   "metadata": {},
   "outputs": [],
   "source": []
  }
 ],
 "metadata": {
  "kernelspec": {
   "display_name": "Python 3",
   "language": "python",
   "name": "python3"
  },
  "language_info": {
   "codemirror_mode": {
    "name": "ipython",
    "version": 3
   },
   "file_extension": ".py",
   "mimetype": "text/x-python",
   "name": "python",
   "nbconvert_exporter": "python",
   "pygments_lexer": "ipython3",
   "version": "3.7.4"
  }
 },
 "nbformat": 4,
 "nbformat_minor": 4
}
