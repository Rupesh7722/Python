{
 "cells": [
  {
   "cell_type": "code",
   "execution_count": null,
   "metadata": {},
   "outputs": [],
   "source": [
    "from gs_quant.session import GsSession, Environment\n",
    "client_id = None # Supply your application id\n",
    "client_secret = None # Supply your client secret\n",
    "scopes = ('run_analytics',)\n",
    "\n",
    "GsSession.use(Environment.PROD, client_id, client_secret, scopes)"
   ]
  },
  {
   "cell_type": "code",
   "execution_count": null,
   "metadata": {},
   "outputs": [],
   "source": [
    "from gs_quant.markets import PricingContext\n",
    "from gs_quant.markets.portfolio import Portfolio\n",
    "from gs_quant.instrument import IRSwap\n",
    "from gs_quant.risk import CarryScenario, IRFwdRate\n",
    "import matplotlib.pyplot as plt\n",
    "import pandas as pd"
   ]
  },
  {
   "cell_type": "code",
   "execution_count": null,
   "metadata": {},
   "outputs": [],
   "source": [
    "# construct a portfolio of swaps with tenors 6m apart and resolve these trades\n",
    "\n",
    "%%time\n",
    "tenor=['42m','4y','54m','5y']\n",
    "swap_port = [IRSwap('Pay', t, 'EUR', fixed_rate='ATM', floating_rate_frequency='6m', effective_date='6m',name='EUR6m'+t) for t in tenor]\n",
    "port = Portfolio(swap_port)\n",
    "port.resolve()\n",
    "\n",
    "fwd_results = []\n",
    "spot_results = []\n",
    "\n",
    "# calculate the fwd rate under the assumption spot rates are held constant and that fwd rates are held constant.\n",
    "# here we calculate the fwd rate every week forward in time.\n",
    "\n",
    "with PricingContext():\n",
    "    for time_shift in range(0,120,5):\n",
    "        with CarryScenario(time_shift, roll_to_fwds=True):\n",
    "            fwd_results.append(port.calc(IRFwdRate))\n",
    "        with CarryScenario(time_shift, roll_to_fwds=False):\n",
    "            spot_results.append(port.calc(IRFwdRate))\n",
    "\n"
   ]
  },
  {
   "cell_type": "code",
   "execution_count": null,
   "metadata": {},
   "outputs": [],
   "source": [
    "# graph the results.  Note that under the fwd rate constant assumption the fwd rate doesn't change, whereas you see the effect\n",
    "# of the rolldown of the curve in the spot rate constant assumption.\n",
    "\n",
    "for swap in swap_port:\n",
    "    pd.Series(p[swap] for p in spot_results).plot(figsize=(20,12), title='Swap Carry',label='{} spot curve carry'.format(swap.name))\n",
    "    pd.Series(p[swap] for p in fwd_results).plot(label='{} fwd curve carry'.format(swap.name))\n",
    "\n",
    "plt.xlabel('TimeShift (in weeks)')\n",
    "plt.ylabel('Rate')\n",
    "plt.legend()"
   ]
  },
  {
   "cell_type": "code",
   "execution_count": null,
   "metadata": {},
   "outputs": [],
   "source": []
  }
 ],
 "metadata": {
  "kernelspec": {
   "display_name": "Python 3",
   "language": "python",
   "name": "python3"
  },
  "language_info": {
   "codemirror_mode": {
    "name": "ipython",
    "version": 3
   },
   "file_extension": ".py",
   "mimetype": "text/x-python",
   "name": "python",
   "nbconvert_exporter": "python",
   "pygments_lexer": "ipython3",
   "version": "3.7.4"
  }
 },
 "nbformat": 4,
 "nbformat_minor": 2
}
