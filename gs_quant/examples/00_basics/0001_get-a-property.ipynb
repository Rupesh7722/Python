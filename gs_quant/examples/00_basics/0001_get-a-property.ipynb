{
 "cells": [
  {
   "cell_type": "code",
   "execution_count": null,
   "metadata": {
    "collapsed": false,
    "jupyter": {
     "outputs_hidden": false
    },
    "pycharm": {
     "name": "#%%\n"
    }
   },
   "outputs": [],
   "source": [
    "from gs_quant.common import PayReceive, Currency  # import constants\n",
    "from gs_quant.instrument import IRSwap  # import instruments\n",
    "from gs_quant.session import Environment, GsSession  # import sessions\n",
    "\n",
    "client_id = None  # Supply your application id\n",
    "client_secret = None  # Supply your client secret\n",
    "scopes = ('run_analytics',)\n",
    "\n",
    "GsSession.use(Environment.PROD, client_id, client_secret, scopes)"
   ]
  },
  {
   "cell_type": "code",
   "execution_count": null,
   "metadata": {
    "collapsed": false,
    "jupyter": {
     "outputs_hidden": false
    },
    "pycharm": {
     "name": "#%%\n"
    }
   },
   "outputs": [],
   "source": [
    "my_swap = IRSwap(PayReceive.Receive, '13m', Currency.GBP, notional_amount=5e6)  # GBP receiver"
   ]
  },
  {
   "cell_type": "code",
   "execution_count": null,
   "metadata": {},
   "outputs": [],
   "source": [
    "print( my_swap.termination_date )  # get value of property 'termination_date'"
   ]
  }
 ],
 "metadata": {
  "kernelspec": {
   "display_name": "Python 3",
   "language": "python",
   "name": "python3"
  },
  "language_info": {
   "codemirror_mode": {
    "name": "ipython",
    "version": 3
   },
   "file_extension": ".py",
   "mimetype": "text/x-python",
   "name": "python",
   "nbconvert_exporter": "python",
   "pygments_lexer": "ipython3",
   "version": "3.7.0"
  },
  "pycharm": {
   "stem_cell": {
    "cell_type": "raw",
    "source": [],
    "metadata": {
     "collapsed": false
    }
   }
  }
 },
 "nbformat": 4,
 "nbformat_minor": 4
}