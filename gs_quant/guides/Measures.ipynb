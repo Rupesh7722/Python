{
 "cells": [
  {
   "cell_type": "markdown",
   "metadata": {},
   "source": [
    "## Measures\n",
    "\n",
    "A measure is a metric that can be calculated on an instrument, like a dollar price. Below is a table of supported measures and their definitions.\n",
    "\n",
    "\n",
    "|Measure                                                                                                \t                |Definition                                                                                                                                                                                               |\n",
    "|---------------------------------------------------------------------------------------------------------------------------|---------------------------------------------------------------------------------------------------------------------------------------------------------------------------------------------------------|\n",
    "|[Dollar Price](https://marquee-dev.web.gs.com/docs/gsquant/api/risk.html#gs_quant.risk.DollarPrice)\t                    |Price of the instrument in US Dollars                                                                                                                                                                    |\n",
    "|[Price](https://marquee-dev.web.gs.com/docs/gsquant/api/risk.html#gs_quant.risk.Price)\t                                    |Price of the instrument in the local currency                                                                                                                                                            |\n",
    "|[IRDelta](https://marquee-dev.web.gs.com/docs/gsquant/api/risk.html#gs_quant.risk.IRDelta)\t                                |Change in Dollar Price (USD present value) due to individual 1bp moves in the interest rate instruments used to build the underlying discount curve (bucketed)                                           |\n",
    "|[IRDeltaParallel](https://marquee-dev.web.gs.com/docs/gsquant/api/risk.html#gs_quant.risk.IRDeltaParallel)\t                |Change in Dollar Price (USD present value) due to a parallel 1bp shift in the interest rate instruments used to build the underlying discount curve (scalar)                                             |\n",
    "|[IRDeltaLocalCcy](https://marquee-dev.web.gs.com/docs/gsquant/api/risk.html#gs_quant.risk.IRDeltaLocalCcy)\t                |Change in Price (present value in the denominated currency) due to individual 1bp moves in the interest rate instruments used to build the underlying discount curve (scalar)                            |\n",
    "|[IRDeltaParallelLocalCcy](https://marquee-dev.web.gs.com/docs/gsquant/api/risk.html#gs_quant.risk.IRDeltaParallelLocalCcy) |Change in Price (present value in the denominated currency) due to a parallel 1bp shift in the interest rate instruments used to build the underlying discount curve (scalar)                            |\n",
    "|[IRGamma](https://marquee-dev.web.gs.com/docs/gsquant/api/risk.html#gs_quant.risk.IRGamma)\t                                |Change in IRDeltaParallel for a parallel 1bp shift in the interest rate instruments used to build the underlying discount curve (scalar)                                                                 |\n",
    "|[IRVega](https://marquee-dev.web.gs.com/docs/gsquant/api/risk.html#gs_quant.risk.IRVega)\t                                |Change in Dollar Price (USD present value) due to individual 1bp moves in the implied volatility (IRAnnualImpliedVol) of instruments used to build the volatility surface (bucketed)                     |\n",
    "|[IRVegaParallel](https://marquee-dev.web.gs.com/docs/gsquant/api/risk.html#gs_quant.risk.IRVegaParallel)\t                |Change in Dollar Price (USD present value) due to a parallel 1bp move in the implied volatility (IRAnnualImpliedVol) of instruments used to build the volatility surface (scalar)                        |\n",
    "|[IRVegaLocalCcy](https://marquee-dev.web.gs.com/docs/gsquant/api/risk.html#gs_quant.risk.IRVegaLocalCcy)\t                |Change in Price (present value in the denominated currency) due to individual 1bp moves in the implied volatility (IRAnnualImpliedVol) of instruments used to build the volatility surface (bucketed)    |\n",
    "|[IRVegaParallelLocalCcy](https://marquee-dev.web.gs.com/docs/gsquant/api/risk.html#gs_quant.risk.IRVegaParallelLocalCcy)\t|Change in Price (present value in the denominated currency) due to a parallel 1bp move in the implied volatility (IRAnnualImpliedVol) of instruments used to build the volatility surface (scalar)       |\n",
    "|[IRAnnualImpliedVol](https://marquee-dev.web.gs.com/docs/gsquant/api/risk.html#gs_quant.risk.IRAnnualImpliedVol)\t        |Interest rate annual implied volatility (in percent)                                                                                                                                                     |\n",
    "|[IRAnnualATMImpliedVol](https://marquee-dev.web.gs.com/docs/gsquant/api/risk.html#gs_quant.risk.IRAnnualATMImpliedVol)\t    |Interest rate annual implied at-the-money volatility (in percent)                                                                                                                                        |\n",
    "|[IRDailyImpliedVol](https://marquee-dev.web.gs.com/docs/gsquant/api/risk.html#gs_quant.risk.IRDailyImpliedVol)\t            |Interest rate daily implied volatility (in basis points)                                                                                                                                                 |\n",
    "|[IRSpotRate](https://marquee-dev.web.gs.com/docs/gsquant/api/risk.html#gs_quant.risk.IRSpotRate)\t                        |Interest rate at-the-money spot rate (in percent)                                                                                                                                                        |\n",
    "|[IRFwdRate](https://marquee-dev.web.gs.com/docs/gsquant/api/risk.html#gs_quant.risk.IRFwdRate)\t                            |Interest rate par rate (in percent)                                                                                                                                                                      |\n"
   ]
  },
  {
   "cell_type": "markdown",
   "metadata": {},
   "source": [
    "\n",
    "## Calculating Price Measures\n",
    "\n",
    "Let's price an instrument. For information on how to define an instrument, please refer to the [Instruments](/gsquant/guides/Pricing-and-Risk/instruments) guide.\n",
    "\n",
    "Note, below we resolve the swaption parameters that will be used to price the swaption, thereby mutating the swaption object. If [`resolve()`](https://developer.gs.com/docs/gsquant/api/classes/gs_quant.base.Priceable.html#gs_quant.base.Priceable.resolve), is\n",
    "not called prior to calling [`price()`](https://developer.gs.com/docs/gsquant/api/classes/gs_quant.base.Priceable.html#gs_quant.base.Priceable.price), the object will be copied and resolved on the fly without mutating the original swaption object.\n",
    "The preferred behavior may depend on the [`PricingContext`](https://developer.gs.com/docs/gsquant/api/classes/gs_quant.markets.PricingContext.html) - more on this in the [Pricing Context](/gsquant/guides/Pricing-and-Risk/pricing-context) guide.\n",
    "\n",
    "[`price()`](https://developer.gs.com/docs/gsquant/api/classes/gs_quant.base.Priceable.html#gs_quant.base.Priceable.price) method will return price in the local currency.\n"
   ]
  },
  {
   "cell_type": "code",
   "execution_count": null,
   "metadata": {},
   "outputs": [],
   "source": [
    "from gs_quant.instrument import IRSwaption\n",
    "from gs_quant.common import PayReceive, Currency\n",
    "\n",
    "swaption = IRSwaption(PayReceive.Receive, '5y', Currency.USD, expiration_date='13m', strike='atm+40', notional_amount=1e8)\n",
    "swaption.resolve()\n",
    "swaption.price() # local is USD"
   ]
  },
  {
   "cell_type": "markdown",
   "metadata": {},
   "source": [
    "All instruments can also priced in dollars."
   ]
  },
  {
   "cell_type": "code",
   "execution_count": null,
   "metadata": {},
   "outputs": [],
   "source": [
    "swaption.dollar_price() # USD price"
   ]
  },
  {
   "cell_type": "markdown",
   "metadata": {},
   "source": [
    "## Calculating Risk Measures\n",
    "\n",
    "We can also calculate risk measures for the defined instrument. Please refer to [the Risk Package](/gsquant/api/risk.html#measures/) for the available risk measures.\n",
    "Calling [`calc(risk_measure)`](https://developer.gs.com/docs/gsquant/api/classes/gs_quant.base.Priceable.html#gs_quant.base.Priceable.calc) calculates the value of the risk measure and can return a float, a dataframe or a future thereof, depending on how [`PricingContext`](https://developer.gs.com/docs/gsquant/api/classes/gs_quant.markets.PricingContext.html) is being used - more on this in the [Pricing Context guide](/gsquant/guides/Pricing-and-Risk/pricing-context).\n",
    "\n",
    "Calculate a scalar value like implied volatility:"
   ]
  },
  {
   "cell_type": "code",
   "execution_count": null,
   "metadata": {},
   "outputs": [],
   "source": [
    "import gs_quant.risk as risk\n",
    "\n",
    "swaption.calc(risk.IRAnnualImpliedVol) * 10000"
   ]
  },
  {
   "cell_type": "markdown",
   "metadata": {},
   "source": [
    "Calculate a structured value like vega:"
   ]
  },
  {
   "cell_type": "code",
   "execution_count": null,
   "metadata": {},
   "outputs": [],
   "source": [
    "swaption.calc(risk.IRVega)"
   ]
  },
  {
   "cell_type": "markdown",
   "metadata": {},
   "source": [
    "See [measures](#measures) table for information on units."
   ]
  }
 ],
 "metadata": {
  "kernelspec": {
   "display_name": "Python 3",
   "language": "python",
   "name": "python3"
  },
  "language_info": {
   "codemirror_mode": {
    "name": "ipython",
    "version": 3
   },
   "file_extension": ".py",
   "mimetype": "text/x-python",
   "name": "python",
   "nbconvert_exporter": "python",
   "pygments_lexer": "ipython3",
   "version": "3.6.2"
  }
 },
 "nbformat": 4,
 "nbformat_minor": 2
}
