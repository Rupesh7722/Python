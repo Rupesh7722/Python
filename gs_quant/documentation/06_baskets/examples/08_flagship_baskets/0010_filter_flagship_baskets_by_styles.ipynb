{
 "cells": [
  {
   "cell_type": "code",
   "execution_count": null,
   "metadata": {},
   "outputs": [],
   "source": [
    "from gs_quant.markets.indices_utils import *\n",
    "from gs_quant.session import Environment, GsSession"
   ]
  },
  {
   "cell_type": "code",
   "execution_count": null,
   "metadata": {},
   "outputs": [],
   "source": [
    "client = 'CLIENT ID'\n",
    "secret = 'CLIENT SECRET'\n",
    "\n",
    "GsSession.use(Environment.PROD, client_id=client, client_secret=secret, scopes=('read_product_data',))"
   ]
  },
  {
   "cell_type": "markdown",
   "metadata": {},
   "source": [
    "You may choose any combination of the following styles:\n",
    "\n",
    "#### Custom Basket Styles\n",
    "* **Asia:** CustomBasketStyles.*ASIA*\n",
    "* **Bespoke:** CustomBasketStyles.*BESPOKE*\n",
    "* **Consumer:** CustomBasketStyles.*CONSUMER*\n",
    "* **EM:** CustomBasketStyles.*EM*\n",
    "* **Energy:** CustomBasketStyles.*ENERGY*\n",
    "* **ESG:** CustomBasketStyles.*ESG*\n",
    "* **ETF Replication:** CustomBasketStyles.*ETF_REPLICATION*\n",
    "* **EU:** CustomBasketStyles.*EU*\n",
    "* **Factors:** CustomBasketStyles.*FACTORS*\n",
    "* **Financials:** CustomBasketStyles.*FINANCIALS*\n",
    "* **Fundamental:** CustomBasketStyles.*FUNDAMENTAL*\n",
    "* **Geographic:** CustomBasketStyles.*GEOGRAPHIC*\n",
    "* **Global:** CustomBasketStyles.*GLOBAL*\n",
    "* **Growth:** CustomBasketStyles.*GROWTH*\n",
    "* **Healthcare:** CustomBasketStyles.*HEALTHCARE*\n",
    "* **Industrials:** CustomBasketStyles.*INDUSTRIALS*\n",
    "* **Sub-Sectors / Smart Industries:** CustomBasketStyles.*INDUSTRY*\n",
    "* **Macro:** CustomBasketStyles.*MACRO*\n",
    "* **Macro Sectors:** CustomBasketStyles.*MACRO_SECTORS*\n",
    "* **Materials:** CustomBasketStyles.*MATERIALS*\n",
    "* **Micro Sectors:** CustomBasketStyles.*MICOR_SECTORS*\n",
    "* **Momentum:** CustomBasketStyles.*MOMENTUM*\n",
    "* **PIPG:** CustomBasketStyles.*PIPG*\n",
    "* **Positioning:** CustomBasketStyles.*POSITIONING*\n",
    "* **Single Stocks:** CustomBasketStyles.*SINGLE_STOCKS*\n",
    "* **Size:** CustomBasketStyles.*SIZE*\n",
    "* **Structure 1 Delta:** CustomBasketStyles.*STRUCTURED_1_DELTA*\n",
    "* **Thematic:** CustomBasketStyles.*THEMATIC*\n",
    "* **TMT:** CustomBasketStyles.*TMT*\n",
    "* **Topical:** CustomBasketStyles.*TOPICAL*\n",
    "* **US:** CustomBasketStyles.*US*\n",
    "* **Utilities:** CustomBasketStyles.*UTILITIES*\n",
    "* **Value:** CustomBasketStyles.*VALUE*\n",
    "* **Volatility:** CustomBasketStyles.*VOLATILITY*\n",
    "\n",
    "#### Research Basket Styles\n",
    "* **Asia ex-Japan:** ResearchBasketStyles.*ASIA_EX_JAPAN*\n",
    "* **Equity Thematic:** ResearchBasketStyles.*EQUITY_THEMATIC*\n",
    "* **Europe:** ResearchBasketStyles.*EUROPE*\n",
    "* **Fund Ownership:** ResearchBasketStyles.*FUND_OWNERSHIP*\n",
    "* **Fundamentals:** ResearchBasketStyles.*FUNDAMENTALS*\n",
    "* **FX/Oil:** ResearchBasketStyles.*FX_OIL*\n",
    "* **Geographical Exposure:** ResearchBasketStyles.*GEOGRAPHICAL_EXPOSURE*\n",
    "* **Hedge Fund:** ResearchBasketStyles.*HEDGE_FUND*\n",
    "* **Investment Profile (IP) Factors:** ResearchBasketStyles.*IP_FACTORS*\n",
    "* **Japan:** ResearchBasketStyles.*JAPAN*\n",
    "* **Macro:** ResearchBasketStyles.*MACRO*\n",
    "* **Macro Slice/Styles:** ResearchBasketStyles.*MACRO_SLICE_STYLES*\n",
    "* **Mutual Fund:** ResearchBasketStyles.*MUTUAL_FUND*\n",
    "* **Positioning:** ResearchBasketStyles.*POSITIONING*\n",
    "* **Portfolio Strategy:** ResearchBasketStyles.*PORTFOLIO_STRATEGY*\n",
    "* **Risk & Liquidity:** ResearchBasketStyles.*RISK_AND_LIQUIDITY*\n",
    "* **Sector:** ResearchBasketStyles.*SECTOR*\n",
    "* **Shareholder Return:** ResearchBasketStyles.*SHAREHOLDER_RETURN*\n",
    "* **Style, Factor and Fundamental:** ResearchBasketStyles.*STYLE_FACTOR_AND_FUNDAMENTAL*\n",
    "* **Style/Themes:** ResearchBasketStyles.*STYLES_THEMES*\n",
    "* **Tactical Research:** ResearchBasketStyles.*TACTICAL_RESEARCH*\n",
    "* **Thematic:** ResearchBasketStyles.*THEMATIC*\n",
    "* **US:** ResearchBasketStyles.*US*\n",
    "* **Wavefront Components:** ResearchBasketStyles.*WAVEFRONT_COMPONENTS*\n",
    "* **Wavefront Pairs:** ResearchBasketStyles.*WAVEFRONT_PAIRS*\n",
    "* **Wavefronts:** ResearchBasketStyles.*WAVEFRONTS*\n",
    "\n",
    "These options will work with any of the following functions:"
   ]
  },
  {
   "cell_type": "code",
   "execution_count": null,
   "metadata": {},
   "outputs": [],
   "source": [
    "get_flagship_baskets(styles=[CustomBasketStyles.FACTORS, ResearchBasketStyles.WAVEFRONTS])\n",
    "\n",
    "get_flagships_with_assets(identifiers=['AAPL UW'], region=[Region.AMERICAS], styles=[CustomBasketStyles.FACTORS, ResearchBasketStyles.WAVEFRONTS])\n",
    "\n",
    "get_flagships_performance(region=[Region.EUROPE, Region.GLOBAL], styles=[CustomBasketStyles.FACTORS, ResearchBasketStyles.WAVEFRONTS])\n",
    "\n",
    "get_flagships_constituents(region=[Region.EM], styles=[CustomBasketStyles.FACTORS, ResearchBasketStyles.WAVEFRONTS])"
   ]
  }
 ],
 "metadata": {
  "kernelspec": {
   "display_name": "Python 3",
   "language": "python",
   "name": "python3"
  },
  "language_info": {
   "codemirror_mode": {
    "name": "ipython",
    "version": 3
   },
   "file_extension": ".py",
   "mimetype": "text/x-python",
   "name": "python",
   "nbconvert_exporter": "python",
   "pygments_lexer": "ipython3",
   "version": "3.7.4"
  }
 },
 "nbformat": 4,
 "nbformat_minor": 4
}
