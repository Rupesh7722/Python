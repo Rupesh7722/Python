{
 "cells": [
  {
   "cell_type": "code",
   "execution_count": null,
   "metadata": {
    "collapsed": true
   },
   "outputs": [],
   "source": [
    "from gs_quant.api.gs.users import GsUsersApi\n",
    "from gs_quant.entities.entitlements import Entitlements\n",
    "from gs_quant.markets.portfolio_manager import PortfolioManager\n",
    "from gs_quant.session import GsSession, Environment\n",
    "\n",
    "client = 'ENTER CLIENT ID HERE'\n",
    "secret = 'ENTER CLIENT SECRET HERE'\n",
    "\n",
    "\n",
    "GsSession.use(Environment.PROD, client_id=client, client_secret=secret, scopes=())\n",
    "\n",
    "portfolio_admin_emails = ['list of user emails as strings']\n",
    "portfolio_viewer_emails = ['list of user emails as strings']\n",
    "\n",
    "admin_entitlements = [f\"guid:{user.id}\" for user in GsUsersApi.get_users(user_emails=portfolio_admin_emails)]\n",
    "view_entitlements = [f\"guid:{user.id}\" for user in GsUsersApi.get_users(user_emails=portfolio_viewer_emails)]\n",
    "\n",
    "print(f'Admin entitlements: {admin_entitlements}')\n",
    "print(f'View entitlements: {view_entitlements}')\n",
    "\n",
    "entitlements = Entitlements(view=view_entitlements,\n",
    "                            admin=admin_entitlements)\n",
    "PortfolioManager('ENTER PORTFOLIO ID').set_entitlements(entitlements)\n",
    "\n",
    "print('Portfolio entitlements successfully set.')"
   ]
  }
 ],
 "metadata": {
  "kernelspec": {
   "display_name": "Python 3",
   "language": "python",
   "name": "python3"
  },
  "language_info": {
   "codemirror_mode": {
    "name": "ipython",
    "version": 2
   },
   "file_extension": ".py",
   "mimetype": "text/x-python",
   "name": "python",
   "nbconvert_exporter": "python",
   "pygments_lexer": "ipython2",
   "version": "2.7.6"
  }
 },
 "nbformat": 4,
 "nbformat_minor": 0
}