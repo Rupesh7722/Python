{
 "cells": [
  {
   "cell_type": "markdown",
   "source": [
    "## Create a Portfolio with GS Quant\n",
    "\n",
    "**First define your positions and risk model:**\n",
    "\n",
    "*We will resolve all identifiers (Bloomberg IDs, SEDOLs, RICs, etc) historically on our end as of the position date*"
   ],
   "metadata": {
    "collapsed": false
   }
  },
  {
   "cell_type": "code",
   "execution_count": null,
   "outputs": [],
   "source": [
    "import datetime as dt\n",
    "\n",
    "from gs_quant.markets.portfolio import Portfolio\n",
    "from gs_quant.markets.portfolio_manager import PortfolioManager, CustomAUMDataPoint\n",
    "from gs_quant.markets.position_set import Position, PositionSet\n",
    "from gs_quant.markets.report import FactorRiskReport\n",
    "from gs_quant.models.risk_model import FactorRiskModel\n",
    "from gs_quant.session import GsSession, Environment\n",
    "from gs_quant.target.portfolios import RiskAumSource\n",
    "\n",
    "GsSession.use(Environment.PROD)\n",
    "\n",
    "portfolio_position_sets = [\n",
    "    PositionSet(\n",
    "        date=dt.date(day=3, month=5, year=2021),\n",
    "        positions=[\n",
    "            Position(identifier='AAPL UW', quantity=25, tags={'Analyst': 'Jane Doe'}),\n",
    "            Position(identifier='GS UN', quantity=50)\n",
    "        ]\n",
    "    ),\n",
    "    PositionSet(\n",
    "        date=dt.date(day=1, month=7, year=2021),\n",
    "        positions=[\n",
    "            Position(identifier='AAPL UW', quantity=26, tags={'Analyst': 'Jane Doe'}),\n",
    "            Position(identifier='GS UN', quantity=51)\n",
    "        ]\n",
    "    )\n",
    "]\n",
    "risk_model_id = 'AXUS4M'\n",
    "\n",
    "print('Positions and risk model ID saved.')"
   ],
   "metadata": {
    "collapsed": false,
    "pycharm": {
     "name": "#%%\n"
    }
   }
  },
  {
   "cell_type": "markdown",
   "source": [
    "#### Quick Tip!\n",
    "\n",
    "*Premium clients get access to many more risk models (including premium vendors like MSCI Barra),\n",
    "while non-premium clients get access to a limited suite of models. To see which models you have access to,\n",
    "simply run the following:*"
   ],
   "metadata": {
    "collapsed": false
   }
  },
  {
   "cell_type": "code",
   "execution_count": null,
   "outputs": [],
   "source": [
    "risk_models = FactorRiskModel.get_many(limit=100)\n",
    "for risk_model in risk_models:\n",
    "    print(f'{risk_model.name}: {risk_model.id}\\n')"
   ],
   "metadata": {
    "collapsed": false,
    "pycharm": {
     "name": "#%%\n"
    }
   }
  },
  {
   "cell_type": "markdown",
   "source": [
    "**Now, we'll create a new empty portfolio...**"
   ],
   "metadata": {
    "collapsed": false
   }
  },
  {
   "cell_type": "code",
   "execution_count": null,
   "outputs": [],
   "source": [
    "portfolio = Portfolio(name='My New Portfolio')\n",
    "portfolio.save(overwrite=True)"
   ],
   "metadata": {
    "collapsed": false,
    "pycharm": {
     "name": "#%%\n"
    }
   }
  },
  {
   "cell_type": "markdown",
   "source": [
    "**And update your portfolio with the positions you specified earlier:**"
   ],
   "metadata": {
    "collapsed": false
   }
  },
  {
   "cell_type": "code",
   "execution_count": null,
   "outputs": [],
   "source": [
    "pm = PortfolioManager(portfolio.id)\n",
    "pm.update_positions(portfolio_position_sets)"
   ],
   "metadata": {
    "collapsed": false,
    "pycharm": {
     "name": "#%%\n"
    }
   }
  },
  {
   "cell_type": "markdown",
   "source": [
    "**Now you can create a factor risk report for your portfolio...**"
   ],
   "metadata": {
    "collapsed": false
   }
  },
  {
   "cell_type": "code",
   "execution_count": null,
   "outputs": [],
   "source": [
    "risk_report = FactorRiskReport(risk_model_id=risk_model_id, fx_hedged=True)\n",
    "risk_report.set_position_source(portfolio.id)\n",
    "risk_report.save()"
   ],
   "metadata": {
    "collapsed": false,
    "pycharm": {
     "name": "#%%\n"
    }
   }
  },
  {
   "cell_type": "markdown",
   "source": [
    "**And schedule all portfolio reports to begin calculating analytics:**"
   ],
   "metadata": {
    "collapsed": false
   }
  },
  {
   "cell_type": "code",
   "execution_count": null,
   "outputs": [],
   "source": [
    "pm.schedule_reports()\n",
    "\n",
    "print(f'Check out your new portfolio in Marquee! View it here: https://marquee.gs.com/s/portfolios/{portfolio.id}/summary')"
   ],
   "metadata": {
    "collapsed": false,
    "pycharm": {
     "name": "#%%\n"
    }
   }
  },
  {
   "cell_type": "markdown",
   "source": [
    "**Optional: Upload your custom AUM/NAV:**"
   ],
   "metadata": {
    "collapsed": false
   }
  },
  {
   "cell_type": "code",
   "execution_count": null,
   "outputs": [],
   "source": [
    "pm.set_aum_source(RiskAumSource.Custom_AUM)\n",
    "custom_aum = [\n",
    "    CustomAUMDataPoint(date=dt.date(2021, 5, 3), aum=100000),\n",
    "    CustomAUMDataPoint(date=dt.date(2021, 7, 1), aum=200000)\n",
    "]\n",
    "pm.upload_custom_aum(custom_aum, clear_existing_data=False)\n",
    "\n",
    "print(f\"Custom AUM for '{portfolio.name}' successfully uploaded.\")"
   ],
   "metadata": {
    "collapsed": false,
    "pycharm": {
     "name": "#%%\n"
    }
   }
  },
  {
   "cell_type": "markdown",
   "source": [
    "### Quick Tip!\n",
    "\n",
    "**If you'd like to update your portfolio positions, just run `update_position()`\n",
    "with your new positions and reschedule reports.**"
   ],
   "metadata": {
    "collapsed": false
   }
  },
  {
   "cell_type": "code",
   "execution_count": null,
   "outputs": [],
   "source": [
    "new_portfolio_position_sets = [\n",
    "    PositionSet(\n",
    "        date=dt.date(day=1, month=10, year=2021),\n",
    "        positions=[\n",
    "            Position(identifier='AAPL UW', quantity=25),\n",
    "            Position(identifier='GS UN', quantity=50)\n",
    "        ]\n",
    "    ),\n",
    "]\n",
    "\n",
    "pm.update_positions(new_portfolio_position_sets)\n",
    "pm.schedule_reports()\n",
    "\n",
    "print(f\"'{portfolio.name}' successfully updated.\")"
   ],
   "metadata": {
    "collapsed": false,
    "pycharm": {
     "name": "#%%\n"
    }
   }
  },
  {
   "cell_type": "markdown",
   "source": [
    "new_portfolio_position_sets = [\n",
    "    PositionSet(\n",
    "        date=dt.date(day=1, month=10, year=2021),\n",
    "        positions=[\n",
    "            Position(identifier='AAPL UW', quantity=25),\n",
    "            Position(identifier='GS UN', quantity=50)\n",
    "        ]\n",
    "    ),\n",
    "]\n",
    "\n",
    "pm.update_positions(new_portfolio_position_sets)\n",
    "pm.schedule_reports()\n",
    "\n",
    "print(f\"'{portfolio.name}' successfully updated.\")"
   ],
   "metadata": {
    "collapsed": false
   }
  },
  {
   "cell_type": "code",
   "execution_count": null,
   "outputs": [],
   "source": [
    "portfolio = Portfolio(name='My New Portfolio')\n",
    "portfolio.save(overwrite=True)"
   ],
   "metadata": {
    "collapsed": false,
    "pycharm": {
     "name": "#%%\n"
    }
   }
  },
  {
   "cell_type": "markdown",
   "source": [
    "**And update your portfolio with the positions you specified earlier:**"
   ],
   "metadata": {
    "collapsed": false
   }
  },
  {
   "cell_type": "code",
   "execution_count": null,
   "outputs": [],
   "source": [
    "pm = PortfolioManager(portfolio.id)\n",
    "pm.update_positions(portfolio_position_sets)"
   ],
   "metadata": {
    "collapsed": false,
    "pycharm": {
     "name": "#%%\n"
    }
   }
  },
  {
   "cell_type": "markdown",
   "source": [
    "**Now you can create a factor risk report for your portfolio...**"
   ],
   "metadata": {
    "collapsed": false
   }
  },
  {
   "cell_type": "code",
   "execution_count": null,
   "outputs": [],
   "source": [
    "risk_report = FactorRiskReport(risk_model_id=risk_model_id, fx_hedged=True)\n",
    "risk_report.set_position_source(portfolio.id)\n",
    "risk_report.save()"
   ],
   "metadata": {
    "collapsed": false,
    "pycharm": {
     "name": "#%%\n"
    }
   }
  },
  {
   "cell_type": "markdown",
   "source": [
    "**And schedule all portfolio reports to begin calculating analytics:**"
   ],
   "metadata": {
    "collapsed": false
   }
  },
  {
   "cell_type": "code",
   "execution_count": null,
   "outputs": [],
   "source": [
    "pm.schedule_reports()\n",
    "\n",
    "print(f'Check out your new portfolio in Marquee! View it here: https://marquee.gs.com/s/portfolios/{portfolio.id}/summary')"
   ],
   "metadata": {
    "collapsed": false,
    "pycharm": {
     "name": "#%%\n"
    }
   }
  },
  {
   "cell_type": "markdown",
   "source": [
    "**Optional: Upload your custom AUM/NAV:**"
   ],
   "metadata": {
    "collapsed": false
   }
  },
  {
   "cell_type": "code",
   "execution_count": null,
   "outputs": [],
   "source": [
    "pm.set_aum_source(RiskAumSource.Custom_AUM)\n",
    "custom_aum = [\n",
    "    CustomAUMDataPoint(date=dt.date(2021, 5, 3), aum=100000),\n",
    "    CustomAUMDataPoint(date=dt.date(2021, 7, 1), aum=200000)\n",
    "]\n",
    "pm.upload_custom_aum(custom_aum, clear_existing_data=False)\n",
    "\n",
    "print(f\"Custom AUM for '{portfolio.name}' successfully uploaded.\")"
   ],
   "metadata": {
    "collapsed": false,
    "pycharm": {
     "name": "#%%\n"
    }
   }
  },
  {
   "cell_type": "markdown",
   "source": [
    "### Quick Tip!\n",
    "\n",
    "**If you'd like to update your portfolio positions, just run `update_position()`\n",
    "with your new positions and reschedule reports.**"
   ],
   "metadata": {
    "collapsed": false
   }
  },
  {
   "cell_type": "code",
   "execution_count": null,
   "outputs": [],
   "source": [
    "new_portfolio_position_sets = [\n",
    "    PositionSet(\n",
    "        date=dt.date(day=1, month=10, year=2021),\n",
    "        positions=[\n",
    "            Position(identifier='AAPL UW', quantity=25),\n",
    "            Position(identifier='GS UN', quantity=50)\n",
    "        ]\n",
    "    ),\n",
    "]\n",
    "\n",
    "pm.update_positions(new_portfolio_position_sets)\n",
    "pm.schedule_reports()\n",
    "\n",
    "print(f\"'{portfolio.name}' successfully updated.\")"
   ],
   "metadata": {
    "collapsed": false,
    "pycharm": {
     "name": "#%%\n"
    }
   }
  }
 ],
 "metadata": {
  "kernelspec": {
   "display_name": "Python 3",
   "language": "python",
   "name": "python3"
  },
  "language_info": {
   "codemirror_mode": {
    "name": "ipython",
    "version": 2
   },
   "file_extension": ".py",
   "mimetype": "text/x-python",
   "name": "python",
   "nbconvert_exporter": "python",
   "pygments_lexer": "ipython2",
   "version": "2.7.6"
  }
 },
 "nbformat": 4,
 "nbformat_minor": 0
}