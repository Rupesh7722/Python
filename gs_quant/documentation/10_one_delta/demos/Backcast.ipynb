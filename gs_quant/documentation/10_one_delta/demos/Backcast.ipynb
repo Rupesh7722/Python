{
 "cells": [
  {
   "cell_type": "markdown",
   "metadata": {
    "collapsed": true,
    "pycharm": {
     "name": "#%% md\n"
    }
   },
   "source": [
    "### Pull Backcasted Factor Risk\n",
    "\n",
    "Define your positions and risk model:"
   ]
  },
  {
   "cell_type": "code",
   "execution_count": null,
   "outputs": [],
   "source": [
    "import datetime as dt\n",
    "from gs_quant.datetime import business_day_offset\n",
    "\n",
    "from gs_quant.markets.portfolio import Portfolio\n",
    "from gs_quant.markets.portfolio_manager import PortfolioManager\n",
    "from gs_quant.markets.position_set import PositionSet\n",
    "from gs_quant.markets.report import FactorRiskReport\n",
    "from gs_quant.session import GsSession, Environment\n",
    "\n",
    "GsSession.use(Environment.PROD)\n",
    "\n",
    "positions = [\n",
    "    {\n",
    "        'identifier': 'AAPL UW',\n",
    "        'quantity': 25\n",
    "    }, {\n",
    "        'identifier': 'GS UN',\n",
    "        'quantity': 50\n",
    "    }, {\n",
    "        'identifier': 'FB UW',\n",
    "        'quantity': 25\n",
    "    }, {\n",
    "        'identifier': 'AMZN UN',\n",
    "        'quantity': 50\n",
    "    }, {\n",
    "        'identifier': 'MSFT UW',\n",
    "        'quantity': 25\n",
    "    }, {\n",
    "        'identifier': 'AZN UW',\n",
    "        'quantity': 50\n",
    "    }\n",
    "]\n",
    "risk_model_id = 'AXUS4M'\n",
    "\n",
    "print('Positions and risk model ID saved.')"
   ],
   "metadata": {
    "collapsed": false,
    "pycharm": {
     "name": "#%%\n"
    }
   }
  },
  {
   "cell_type": "markdown",
   "source": [
    "Create a portfolio with those positions held on the last previous business day:"
   ],
   "metadata": {
    "collapsed": false
   }
  },
  {
   "cell_type": "code",
   "execution_count": null,
   "outputs": [],
   "source": [
    "portfolio = Portfolio(name='My Backcasted Portfolio')\n",
    "portfolio.save()\n",
    "pm = PortfolioManager(portfolio.id)\n",
    "pm.update_positions([PositionSet.from_dicts(date=business_day_offset(dt.date.today(), -1, roll='forward'),\n",
    "                                            positions=positions)])\n",
    "pm.schedule_reports(backcast=True)\n",
    "risk_report = FactorRiskReport(risk_model_id='AXUS4M', fx_hedged=True)\n",
    "risk_report.set_position_source(portfolio.id)\n",
    "risk_report.save()\n",
    "\n",
    "print(f'Portfolio created with ID \"{portfolio.id}\".')"
   ],
   "metadata": {
    "collapsed": false,
    "pycharm": {
     "name": "#%%\n"
    }
   }
  },
  {
   "cell_type": "markdown",
   "source": [
    "Run risk calculations backcasted one year:"
   ],
   "metadata": {
    "collapsed": false
   }
  },
  {
   "cell_type": "code",
   "execution_count": null,
   "outputs": [],
   "source": [
    "risk_results = risk_report.run(backcast=True, is_async=False)\n",
    "risk_results = risk_results[risk_results['factorCategory'] == 'Aggregations']\n",
    "factor_exposures = risk_results.filter(items=['date', 'factor', 'exposure']).pivot(index='date', columns='factor', values='exposure')\n",
    "factor_pnl= risk_results.filter(items=['date', 'factor', 'pnl']).pivot(index='date', columns='factor', values='pnl')\n",
    "factor_exposures.plot(title='Factor Exposures')\n",
    "factor_pnl.cumsum().plot(title='Factor PnL')\n",
    "\n",
    "\n",
    "print(f'Compare to your portfolio UI here: https://marquee.gs.com/s/portfolios/{portfolio.id}/attribution')"
   ],
   "metadata": {
    "collapsed": false,
    "pycharm": {
     "name": "#%%\n"
    }
   }
  }
 ],
 "metadata": {
  "kernelspec": {
   "display_name": "Python 3",
   "language": "python",
   "name": "python3"
  },
  "language_info": {
   "codemirror_mode": {
    "name": "ipython",
    "version": 2
   },
   "file_extension": ".py",
   "mimetype": "text/x-python",
   "name": "python",
   "nbconvert_exporter": "python",
   "pygments_lexer": "ipython2",
   "version": "2.7.6"
  }
 },
 "nbformat": 4,
 "nbformat_minor": 0
}