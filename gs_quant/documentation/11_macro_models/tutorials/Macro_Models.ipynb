{
 "cells": [
  {
   "cell_type": "code",
   "source": [
    "# First initialize GsSession; external users should substitute client_id and client_secret fields with their credentials\n",
    "from gs_quant.session import GsSession, Environment\n",
    "GsSession.use(Environment.PROD, client_id=None, client_secret=None)"
   ],
   "metadata": {
    "collapsed": false,
    "pycharm": {
     "name": "#%%\n"
    }
   },
   "execution_count": null,
   "outputs": []
  },
  {
   "cell_type": "markdown",
   "source": [
    "# Discover your Macro risk with Quant Insight models\n",
    "\n",
    "Quant Insight's Macro risk models provide an insight in the relationship between movement in an asset price and\n",
    "macroeconomic factors such as economic growth, monetary policy and commodity prices. The goal is to understand how much\n",
    "of the movement in the asset price is attributable to those macroeconomic factors. The GS quant class `MacroRiskModel`\n",
    "provides an array of functions that query macro risk model data. In this tutorial, we will look at querying all the\n",
    "available macro risk model data.\n",
    "\n",
    "Currently, the macro risk models that are available for programmatic access are below:\n",
    "\n",
    "| Risk Model Name             | Risk Model Id |\n",
    "|-----------------------------|---------------|\n",
    "| US Equity Model (Long Term) | QI_US_EQUITY_LT |\n",
    "| EU Equity Model (Long Term) | QI_EU_EQUITY_LT |\n",
    "| UK Equity Model (Long Term) | QI_UK_EQUITY_LT |\n",
    "| APAC Equity Model (Long Term) | QI_APAC_EQUITY_LT |\n",
    "\n",
    "## Macro Factor Data\n",
    "\n",
    "Macro Factors are grouped within a factor category.\n",
    "Here are some examples of macro factor categories along with a list of macro factors in that category:\n",
    "\n",
    "| Macro Factor Category | Macro Factors                                              |\n",
    "|-----------------------|------------------------------------------------------------|\n",
    "| Inflation             | US 5Y Infl. Expec., US 2Y Infl. Expec., US 10Y Infl. Expec.|\n",
    "| Economic Growth       | Japan GDP, Euro GDP, China GDP                             |\n",
    "| CB Rate Expectations  | Fed Rate Expectations                                      |\n",
    "| Energy                | WTI                                                        |\n",
    "| Risk Aversion         | VDAX, VIX, VXEEM, Gold Silver Ratio                        |\n",
    "\n",
    "For more macro factor categories and their descriptions, see the factor glossary.\n",
    "\n",
    "#### Get All Available Macro Factor Categories\n",
    "\n",
    "We can leverage `get_factor_data` in the `MacroRiskModel` class to get all the available macro factor categories\n",
    "in the model.\n"
   ],
   "metadata": {
    "collapsed": false
   }
  },
  {
   "cell_type": "code",
   "execution_count": null,
   "outputs": [],
   "source": [
    "from gs_quant.models.risk_model import MacroRiskModel, FactorType\n",
    "import datetime as dt\n",
    "\n",
    "start_date = dt.date(2022, 4, 1)\n",
    "\n",
    "model_id = \"QI_US_EQUITY_LT\"\n",
    "model = MacroRiskModel.get(model_id)\n",
    "\n",
    "# Get the factors in dataframe with name, and type\n",
    "factor_category_data = model.get_factor_data(start_date=start_date, factor_type=FactorType.Factor).set_index('identifier').sort_values(by=[\"factorCategory\"])\n",
    "factor_category_data = factor_category_data.set_index(\"factorCategoryId\").drop(columns={\"name\", \"type\"}).drop_duplicates()\n",
    "factor_category_data = factor_category_data.rename_axis(\"Factor Category Id\").rename(columns={\"factorCategory\": \"Factor Category\"})\n",
    "display(factor_category_data)\n"
   ],
   "metadata": {
    "collapsed": false,
    "pycharm": {
     "name": "#%%\n"
    }
   }
  },
  {
   "cell_type": "markdown",
   "source": [
    "#### Get All Available Macro Factors\n",
    "\n",
    "Within each macro factor category, we have several macro factors that are grouped together."
   ],
   "metadata": {
    "collapsed": false
   }
  },
  {
   "cell_type": "code",
   "execution_count": null,
   "outputs": [],
   "source": [
    "from gs_quant.models.risk_model import MacroRiskModel, FactorType\n",
    "import datetime as dt\n",
    "import pandas as pd\n",
    "\n",
    "start_date = dt.date(2022, 4, 1)\n",
    "\n",
    "model_id = \"QI_US_EQUITY_LT\"\n",
    "model = MacroRiskModel.get(model_id)\n",
    "\n",
    "# Get the factors in dataframe with name, and type\n",
    "factor_data = model.get_factor_data(start_date=start_date, factor_type=FactorType.Factor).set_index('identifier').rename(columns={\"name\": \"Factor\", \"factorCategory\": \"Factor Category\"}).sort_values(by=[\"Factor Category\"]).drop(columns={\"type\", \"factorCategoryId\"})\n",
    "factor_data = factor_data.set_index(\"Factor Category\").stack().to_frame().droplevel(level=1).rename(columns={0: \"Factor\"})\n",
    "display(factor_data)"
   ],
   "metadata": {
    "collapsed": false,
    "pycharm": {
     "name": "#%%\n"
    }
   }
  },
  {
   "cell_type": "markdown",
   "source": [
    "Further, for a more granular view, we can get all the macro factors that are grouped within a factor category.\n",
    "Below is a list of all macro factors in the factorCategory \"Risk Aversion\"."
   ],
   "metadata": {
    "collapsed": false
   }
  },
  {
   "cell_type": "code",
   "execution_count": null,
   "outputs": [],
   "source": [
    "macro_factors_in_risk_aversion = factor_data.groupby(\"Factor Category\").get_group(\"Risk Aversion\")\n",
    "display(macro_factors_in_risk_aversion)"
   ],
   "metadata": {
    "collapsed": false,
    "pycharm": {
     "name": "#%%\n"
    }
   }
  },
  {
   "cell_type": "markdown",
   "source": [
    "## Asset Data\n",
    "\n",
    "The metrics below are instrumental in providing insight in the relationship between movement of asset price and macro\n",
    "factors. These key metrics are outlined below:\n",
    "\n",
    "| Metric                    | Description    |\n",
    "|----------------------------|---------------|\n",
    "| `Universe Macro Factor Sensitivity` | Percentage change in asset price for 1 standard deviation move up in the macro factor. |\n",
    "| `R Squared (Model Confidence)`               | Gauge of how sensitive the asset is to macroeconomic forces.  Typically values above 65% are considered to show strong explanatory power or ‘confidence’. |\n",
    "| `Fair Value Gap`          | The difference between the actual price of an asset and the Qi Model Value.  This is quoted both in absolute (in percentage) and in standard deviation terms.  |\n",
    "| `Specific Risk`            | Annualized idiosyncratic risk or error term which is not attributable to macro factors in percent units. |\n",
    "\n",
    "\n",
    "## Get  your Portfolio Exposure to Macro Factors and Categories\n",
    "\n",
    "Given a portfolio, we can get its cash exposure to a 1 standard deviation move up in each macro factor. The exposures are\n",
    "calculated by multiplying each asset notional amount to their sensitivity to each factor, which gives us individual asset\n",
    " exposure to each macro factor. We then aggregate per asset exposures to get portfolio cash exposure to each macro \\\n",
    " factor.\n",
    "We can leverage the function `get_macro_exposure_table` of the `PortfolioManager` class. Note that exposure is expressed\n",
    "in the currency of the notional value of the portfolio.\n",
    "\n",
    "We can get portfolio exposure to both macro factor categories and macro factors. We can thus gain an insight\n",
    "in which factor categories and macro factors within these categories are driving the portfolio.\n",
    "\n",
    "#### Exposure to Macro Factor Categories\n",
    "\n",
    "We need to pass the following parameters to the function:\n",
    "* `macro_risk_model`: The model to base your exposure data on\n",
    "* `date`: date for which to get exposure\n",
    "* `group_by_factor_category`: whether to get exposure per factor category.\n",
    "\n",
    "The result will be sorted from top positive drivers to top negative drivers\n",
    "\n",
    "Note that, in the result, the macro factor categories are ranked from most positive exposure to most negative portfolio exposure\n",
    "\n",
    "Below:\n",
    "* We get asset level exposure to each factor category.\n",
    "* The last row of the resulting dataframe is the portfolio exposure to each factor category (asset level exposure aggregated)."
   ],
   "metadata": {
    "collapsed": false
   }
  },
  {
   "cell_type": "code",
   "execution_count": null,
   "outputs": [],
   "source": [
    "from gs_quant.models.risk_model import MacroRiskModel\n",
    "from gs_quant.markets.portfolio_manager import PortfolioManager\n",
    "from IPython.display import display\n",
    "import matplotlib.pyplot as plt\n",
    "import seaborn as sns\n",
    "import datetime as dt\n",
    "import numpy as np\n",
    "import pandas as pd\n",
    "\n",
    "# For Styling\n",
    "def style_negative(v, props=''):\n",
    "    return props if v < 0 else None\n",
    "styles = [{'selector': \"caption\", 'props': [(\"font-size\", \"200%\"), (\"font-weight\", \"bold\"), (\"color\", 'black')]},\n",
    "          {'selector': 'thead', 'props': [(\"background-color\", \"silver\"), (\"font-size\", \"12px\")]},\n",
    "          {'selector': 'tr', 'props': [(\"background-color\", \"whitesmoke\"), (\"font-size\", \"12px\")]},\n",
    "          {'selector': 'td', 'props': [(\"background-color\", \"aliceblue\"), (\"font-size\", \"12px\")]}]\n",
    "\n",
    "# Get the model\n",
    "model = MacroRiskModel.get(\"QI_US_EQUITY_LT\")\n",
    "\n",
    "# Input the portfolio id\n",
    "portfolio_id = \"MPE2KR4BC4RKQ5KE\"\n",
    "pm = PortfolioManager(portfolio_id)\n",
    "date = dt.date(2022, 5, 2)\n",
    "\n",
    "category_index_label = \"Portfolio Exposure Per Macro Factor Category\"\n",
    "factor_index_label = \"Portfolio Exposure Per Macro Factor\"\n",
    "\n",
    "# Get raw exposure table\n",
    "exp_factor_category_df = pm.get_macro_exposure_table(macro_risk_model=model, date=date, group_by_factor_category=True).rename_axis([\"Factor Category\", \"Factor\"], axis='columns')\n",
    "asset_info = exp_factor_category_df[\"Asset Information\"]\n",
    "exp_factor_category_df = exp_factor_category_df.drop([factor_index_label, category_index_label], axis='index')\n",
    "factor_categories = set([f[0] for f in exp_factor_category_df.columns.tolist()])\n",
    "\n",
    "# Build factor category exposure table\n",
    "exp_factor_category_df = pd.concat([exp_factor_category_df[factor_category].agg(np.sum, axis='columns').to_frame().rename(columns={0: factor_category}) for factor_category in factor_categories if factor_category != 'Asset Information'], axis='columns')\n",
    "exp_factor_category_df = pd.concat([exp_factor_category_df, exp_factor_category_df.agg(np.sum).to_frame().rename(columns={0: \"Total Exposure\"}).transpose()])\n",
    "exp_factor_category_df = pd.concat([asset_info, exp_factor_category_df], axis='columns')\n",
    "exp_factor_category_df.loc[\"Total Exposure\", \"Notional\"] = exp_factor_category_df.loc[category_index_label, \"Notional\"]\n",
    "exp_factor_category_df.loc[\"Total Exposure\", \"Asset Name\"] = \"Total\"\n",
    "exp_factor_category_df = exp_factor_category_df.drop([factor_index_label, category_index_label], axis='index').set_index(\"Asset Name\", drop=True).rename_axis(\"Asset Name\").sort_values(by=[\"Total\"], axis='columns', ascending=False).rename_axis(\"Factor Category\", axis='columns')\n",
    "\n",
    "# Limit how many rows will be displayed\n",
    "if exp_factor_category_df.shape[0] > 20:\n",
    "    exp_factor_category_df = pd.concat([exp_factor_category_df.head(10), exp_factor_category_df.tail(10)])\n",
    "\n",
    "# Per asset exposure\n",
    "exposure_styler = exp_factor_category_df.style.set_caption(\"Portfolio Cash Exposure to Factor Categories\").format('${:,.0f}').applymap(style_negative, props='color:red;').set_table_styles(styles)\n",
    "display(exposure_styler)\n",
    "\n",
    "# Portfolio total exposure\n",
    "total_exposure = exp_factor_category_df.loc[\"Total\", :].drop(index=\"Notional\").to_frame()\n",
    "styles.pop(0)\n",
    "display(total_exposure.style.format('${:,.0f}').applymap(style_negative, props='color:red;').set_table_styles(styles))\n",
    "\n",
    "# Plot\n",
    "fig, ax = plt.subplots(figsize=(25, 10))\n",
    "sns.barplot(data=total_exposure.reset_index(), x=\"Factor Category\", y='Total', ax=ax)\n",
    "ax.set_xlabel(\"Factor Category\", fontsize=\"x-large\")\n",
    "ax.set_ylabel(\"Portfolio Notional Change for 1 std Move in the Factor Category\", fontsize=\"x-large\")\n",
    "ax.set_title(\"Portfolio Exposure to Factor Categories\", fontsize=\"xx-large\")\n",
    "ax.tick_params(axis='x', labelrotation = 50)\n",
    "plt.show()"
   ],
   "metadata": {
    "collapsed": false,
    "pycharm": {
     "name": "#%%\n"
    }
   }
  },
  {
   "cell_type": "markdown",
   "source": [
    "#### Exposure to Macro Factors\n",
    "Once we get portfolio exposure to factor categories, we can get a granular view of the portfolio exposure to individual macro factors within that factor category.\n",
    "\n",
    "Here are the user inputs:\n",
    "* `model`: The model we are using.\n",
    "* `factor_categories`: A list of factor categories whose factors we want exposure for. If empty, it will default to returning exposure to the top 2 positive and negative macro drivers\n",
    "* `portfolio_id`: The portfolio we are getting macro exposure for.\n",
    "* `date`: Date "
   ],
   "metadata": {
    "collapsed": false
   }
  },
  {
   "cell_type": "code",
   "execution_count": null,
   "outputs": [],
   "source": [
    "from gs_quant.models.risk_model import MacroRiskModel\n",
    "from gs_quant.markets.portfolio_manager import PortfolioManager\n",
    "from IPython.display import display\n",
    "import matplotlib.pyplot as plt\n",
    "import datetime as dt\n",
    "import pandas as pd\n",
    "import seaborn as sns\n",
    "\n",
    "# For Styling\n",
    "def style_negative(v, props=''):\n",
    "    return props if v < 0 else None\n",
    "styles = [{'selector': \"caption\", 'props': [(\"font-size\", \"200%\"), (\"font-weight\", \"bold\"), (\"color\", 'black')]},\n",
    "          {'selector': 'thead', 'props': [(\"background-color\", \"silver\"), (\"font-size\", \"12px\")]},\n",
    "          {'selector': 'tr', 'props': [(\"background-color\", \"whitesmoke\"), (\"font-size\", \"12px\")]},\n",
    "          {'selector': 'td', 'props': [(\"background-color\", \"aliceblue\"), (\"font-size\", \"12px\")]}]\n",
    "\n",
    "# model id\n",
    "model_id = \"QI_US_EQUITY_LT\"\n",
    "model = MacroRiskModel.get(model_id)\n",
    "\n",
    "# date\n",
    "date = dt.date(2022, 5, 2)\n",
    "\n",
    "# Add Factor categories whose factors you want exposure for\n",
    "factor_categories = [\"Real Rates\", \"Inflation\", \"Corporate Credit\"]\n",
    "\n",
    "portfolio_id = \"MPE2KR4BC4RKQ5KE\"\n",
    "pm = PortfolioManager(portfolio_id)\n",
    "\n",
    "category_index_label = \"Portfolio Exposure Per Macro Factor Category\"\n",
    "factor_index_label = \"Portfolio Exposure Per Macro Factor\"\n",
    "\n",
    "# Get raw exposure table\n",
    "exp_factor_df = pm.get_macro_exposure_table(macro_risk_model=model, date=date, group_by_factor_category=True).rename_axis([\"Factor Category\", \"Factor\"], axis='columns').drop(index=category_index_label)\n",
    "asset_info = exp_factor_df[[\"Asset Information\"]]\n",
    "exp_factor_df = exp_factor_df.drop([(\"Asset Information\", \"Asset Name\"), (\"Asset Information\", \"Notional\")],\n",
    "                                   axis='columns')\n",
    "if factor_categories:\n",
    "    exp_factor_df = exp_factor_df[factor_categories]\n",
    "else:\n",
    "    drivers = list(dict.fromkeys(exp_factor_df.columns.get_level_values(0).tolist()))\n",
    "    top_drivers = drivers[0:2] + drivers[-2:]\n",
    "    exp_factor_df = exp_factor_df[top_drivers]\n",
    "\n",
    "exp_factor_df = pd.concat([asset_info, exp_factor_df], axis='columns')\n",
    "exp_factor_df.loc[factor_index_label, (\"Asset Information\", \"Asset Name\")] = \"Total\"\n",
    "exp_factor_df = exp_factor_df.set_index((\"Asset Information\", \"Asset Name\"), drop=True).rename_axis(\"Asset Name\").rename_axis([\"Factor Category\", \"Factor\"], axis='columns')\n",
    "\n",
    "# Stylers\n",
    "if exp_factor_df.shape[0] > 20:\n",
    "    exp_factor_df = pd.concat([exp_factor_df.head(10), exp_factor_df.tail(10)])\n",
    "\n",
    "exposure_styler = exp_factor_df.style.set_caption(\"Portfolio Cash Exposure to Macro Factors\").format('${:,.0f}').applymap(style_negative, props='color:red;').set_table_styles(styles)\n",
    "display(exposure_styler)\n",
    "\n",
    "total_exposure = exp_factor_df.loc[\"Total\", :].drop(index=(\"Asset Information\", \"Notional\")).to_frame()\n",
    "styles.pop(0)\n",
    "display(total_exposure.style.format('${:,.0f}').applymap(style_negative, props='color:red;').set_table_styles(styles))\n",
    "\n",
    "# Plot the portfolio percent change if every  factor category shifted 1 std\n",
    "fig, ax = plt.subplots(figsize=(30, 10))\n",
    "sns.barplot(data=total_exposure.sort_values(by=[\"Total\"], ascending=False).reset_index(), x=\"Factor\", y='Total', ax=ax)\n",
    "ax.set_xlabel(\"Macro Factor\", fontsize=\"x-large\")\n",
    "ax.set_ylabel(\"Portfolio Notional Change for 1 std Move in the Macro Factor\", fontsize=\"x-large\")\n",
    "ax.set_title(\"Portfolio Exposure to Macro Factors\", fontsize=\"xx-large\")\n",
    "ax.tick_params(axis='x', labelrotation=60)\n",
    "plt.show()"
   ],
   "metadata": {
    "collapsed": false,
    "pycharm": {
     "name": "#%%\n"
    }
   }
  },
  {
   "cell_type": "markdown",
   "source": [
    "\n",
    "### Run empirical stress tests to observe impact on portfolio\n",
    "\n",
    "We can bump up or down any combination of macro factors and see the impact on the portfolio. Since your portfolio's\n",
    "sensitivities to each macro factor are independent of each other, we can isolate a (or a combination of) macro factor categories and factors,\n",
    "and assign a shift up or down in standard deviation and observe the change in the portfolio notional value.\n",
    "\n",
    "Below, we define a class `MacroScenario` that takes in a date and a dictionary of macro factor categories or macro factors and their suggested standard\n",
    "deviation shifts."
   ],
   "metadata": {
    "collapsed": false
   }
  },
  {
   "cell_type": "code",
   "execution_count": null,
   "outputs": [],
   "source": [
    "from gs_quant.session import GsSession, Environment\n",
    "from gs_quant.models.risk_model import MacroRiskModel\n",
    "from gs_quant.markets.factor import Factor\n",
    "from gs_quant.markets.portfolio_manager import PortfolioManager\n",
    "from typing import Dict\n",
    "import datetime as dt\n",
    "import pandas as pd\n",
    "import numpy as np\n",
    "\n",
    "GsSession.use(Environment.PROD, client_id=None, client_secret=None)\n",
    "\n",
    "class MacroScenario:\n",
    "    def __init__(self, date: dt.date, factor_std_shifts: Dict[Factor, float]):\n",
    "        self.date = date\n",
    "        self.factor_std_shifts = factor_std_shifts\n",
    "\n",
    "def macro_stress_test(portfolio_exposure_table: pd.DataFrame,\n",
    "                      scenario: MacroScenario,\n",
    "                      is_factor_category_stress: bool) ->  pd.DataFrame:\n",
    "\n",
    "    \"\"\"\n",
    "    For a given portfolio, find how shifts in standard deviation in the selected macro factors affects\n",
    "    the portfolio's notional value.\n",
    "    :param portfolio_exposure_table: exposure of the portfolio to the requested macro factors\n",
    "    :param scenario: scenario to stress for. Contains date and a dict of factors and respective shifts in standard\n",
    "    deviation\n",
    "    :return: portfolio notional change and change in portfolio exposure for each macro factor\n",
    "    \"\"\"\n",
    "\n",
    "    macro_factor_std_shifts = scenario.factor_std_shifts\n",
    "    factor_dict = {factor.name: std_shift for factor, std_shift in macro_factor_std_shifts.items()}\n",
    "    if is_factor_category_stress:\n",
    "        row_name = \"Portfolio Exposure Per Macro Factor Category\"\n",
    "        old_portfolio_notional = portfolio_exposure_table.loc[row_name, (\"Asset Information\", \"Notional\")]\n",
    "        factor_cols = set(portfolio_exposure_table.columns.get_level_values(0).values.tolist())\n",
    "        factor_cols.remove(\"Asset Information\")\n",
    "        portfolio_exposure_table.columns = portfolio_exposure_table.columns.droplevel(level=1)\n",
    "        portfolio_exposure_table = portfolio_exposure_table.loc[:, ~portfolio_exposure_table.columns.duplicated(keep='first')]\n",
    "    else:\n",
    "        row_name = \"Portfolio Exposure Per Macro Factor\"\n",
    "        old_portfolio_notional = portfolio_exposure_table.loc[row_name, \"Notional\"]\n",
    "        factor_cols = portfolio_exposure_table.columns.tolist()\n",
    "        factor_cols.remove(\"Asset Name\")\n",
    "        factor_cols.remove(\"Notional\")\n",
    "\n",
    "    portfolio_change_df = pd.DataFrame(np.zeros((3, len(factor_cols))),\n",
    "                                       index=[\"Standard Deviation Shift\", \"Portfolio Notional Change\",\n",
    "                                              \"Percent Change\"],\n",
    "                                       columns=factor_cols)\n",
    "\n",
    "    for factor, std_shift in factor_dict.items():\n",
    "        old_exposure = portfolio_exposure_table.loc[row_name, factor]\n",
    "        new_exposure = old_exposure * std_shift\n",
    "        portfolio_change_df.loc[\"Standard Deviation Shift\", factor] = std_shift\n",
    "        portfolio_change_df.loc[\"Portfolio Notional Change\", factor] = new_exposure\n",
    "        portfolio_change_df.loc[\"Percent Change\", factor] = (new_exposure / old_portfolio_notional) * 100\n",
    "\n",
    "    total_sum = portfolio_change_df.agg(np.sum, axis=\"columns\").to_frame()\n",
    "    portfolio_change_df = pd.concat([portfolio_change_df, total_sum], axis='columns').rename(columns={0: \"Total\"})\n",
    "    portfolio_change_df.loc[\"Standard Deviation Shift\", \"Total\"] = np.NAN\n",
    "\n",
    "    return portfolio_change_df"
   ],
   "metadata": {
    "collapsed": false,
    "pycharm": {
     "name": "#%%\n"
    }
   }
  },
  {
   "cell_type": "markdown",
   "source": [
    "#### Stress Test Shifts in Factor Categories\n",
    "\n",
    "We can stress test for shifts in factor categories and observe the impact on our portfolio. \n",
    "\n",
    "Here are the user inputs:\n",
    "* `model_id`: The model we are using\n",
    "* `portfolio_id`: Portfolio we are stress testing for.\n",
    "* `factors_shifts_std`: Map of factor categories and their standard deviation scenario shift"
   ],
   "metadata": {
    "collapsed": false
   }
  },
  {
   "cell_type": "code",
   "execution_count": null,
   "outputs": [],
   "source": [
    "date = dt.date(2022, 5, 2)\n",
    "\n",
    "model_id = \"QI_US_EQUITY_LT\"\n",
    "model = MacroRiskModel.get(model_id)\n",
    "\n",
    "portfolio_id = \"MPE2KR4BC4RKQ5KE\"\n",
    "pm = PortfolioManager(portfolio_id)\n",
    "\n",
    "factors_shifts_std = {\n",
    "   \"Inflation\": 0.5,\n",
    "   \"Real Rates\": 3,\n",
    "   \"Economic Growth\": -2\n",
    "}\n",
    "many_factors = model.get_many_factors()\n",
    "\n",
    "std_dict = {factor: factors_shifts_std[factor.name]\n",
    "            for factor in many_factors if factor.name in factors_shifts_std.keys()}\n",
    "category_dict = {f.name: f.category for f in many_factors if f.category in factors_shifts_std.keys()}\n",
    "\n",
    "# MacroScenario object\n",
    "scenario = MacroScenario(date, std_dict)\n",
    "exposure_df = pm.get_macro_exposure_table(macro_risk_model=model, date=scenario.date, factors=list(category_dict.keys()), group_by_factor_category=True)\n",
    "portfolio_change = macro_stress_test(exposure_df, scenario, is_factor_category_stress=True).transpose().rename_axis(\"Factor Category\")\n",
    "\n",
    "styles = [dict(selector=\"caption\", props=[(\"font-size\", \"120%\"), (\"font-weight\", \"bold\"),(\"color\", 'black')])]\n",
    "portfolio_change = portfolio_change.style.set_caption(\"Stress Test: Shifts in Factor Categories and their Impact on Portfolio\").format({\"Percent Change\": \"{:.3f}%\", \"Portfolio Notional Change\": \"${:,.0f}\", \"Standard Deviation Shift\": \"{:.2f}\"}, na_rep=\"N/A\").background_gradient().set_table_styles(styles)\n",
    "\n",
    "display(portfolio_change)"
   ],
   "metadata": {
    "collapsed": false,
    "pycharm": {
     "name": "#%%\n"
    }
   }
  },
  {
   "cell_type": "markdown",
   "source": [
    "#### Stress Test Shifts in Factors\n",
    "\n",
    "We can also stress test for shifts in individual factors and observe the impact on our portfolio. \n",
    "\n",
    "Here are the user inputs:\n",
    "* `model_id`: The model we are using\n",
    "* `portfolio_id`: Portfolio we are stress testing for.\n",
    "* `factors_shifts_std`: Map of factors and their standard deviation scenario shifts"
   ],
   "metadata": {
    "collapsed": false
   }
  },
  {
   "cell_type": "code",
   "execution_count": null,
   "outputs": [],
   "source": [
    "date = dt.date(2022, 5, 2)\n",
    "\n",
    "model_id = \"QI_US_EQUITY_LT\"\n",
    "model = MacroRiskModel.get(model_id)\n",
    "\n",
    "portfolio_id = \"MPE2KR4BC4RKQ5KE\"\n",
    "pm = PortfolioManager(portfolio_id)\n",
    "\n",
    "factors_shifts_std = {\n",
    "    \"US 2Y Infl. Expec.\": 0.5,\n",
    "    \"US 5Y Infl. Expec.\": 0.5,\n",
    "    \"US 10Y Infl. Expec.\": 0.5,\n",
    "    \"USD 10Y Real Rate\": 3.0,\n",
    "    \"JPY 10Y Real Rate\": 3.0,\n",
    "    \"EUR 10Y Real Rate\": 3.0\n",
    "}\n",
    "many_factors = model.get_many_factors()\n",
    "std_dict = {factor: factors_shifts_std[factor.name]\n",
    "            for factor in many_factors if factor.name in factors_shifts_std.keys()}\n",
    "\n",
    "# MacroScenario object\n",
    "scenario = MacroScenario(date, std_dict)\n",
    "exposure_df = pm.get_macro_exposure_table(macro_risk_model=model, date=scenario.date, factors=[factor.name for factor in scenario.factor_std_shifts.keys()])\n",
    "portfolio_change = macro_stress_test(exposure_df, scenario, is_factor_category_stress=False).transpose().rename_axis(\"Factor\")\n",
    "\n",
    "styles = [dict(selector=\"caption\", props=[(\"font-size\", \"130%\"), (\"font-weight\", \"bold\"),(\"color\", 'black')])]\n",
    "portfolio_change = portfolio_change.style.set_caption(\"Stress Test: Shifts in Factors and their Impact on Portfolio\").format({\"Percent Change\": \"{:.3f}%\", \"Portfolio Notional Change\": \"${:,.0f}\", \"Standard Deviation Shift\": \"{:.2f}\"}, na_rep=\"N/A\").background_gradient().set_table_styles(styles)\n",
    "\n",
    "# 1 factor std in absolute terms. \n",
    "factor_std_df = model.get_factor_standard_deviation(start_date=date, end_date=date, factors=factors_shifts_std.keys())\n",
    "display(factor_std_df.style.set_caption(f\"1 Standard Deviation of the Factors in Absolute Terms on {date}\").format(\"{:.3f}\").background_gradient().set_table_styles(styles))\n",
    "display(portfolio_change)"
   ],
   "metadata": {
    "collapsed": false,
    "pycharm": {
     "name": "#%%\n"
    }
   }
  },
  {
   "cell_type": "markdown",
   "source": [
    "## Which assets in the portfolio are in a Macro Regime?\n",
    "\n",
    "In a macro regime, macro factors are the most significant in explaining the movement in asset price. To determine which\n",
    "assets are in a macro regime, we look at the R Squared value, the proportion of the movement in asset price that is explained\n",
    "by the macro factors. Assets with R Squared values above 65% are in a macro regime while values below 65% are driven\n",
    "primarily by micro and idiosyncratic risk.\n",
    "\n",
    "Once an asset is in a macro regime, we can look at the fair value gap to determine if it is rich or cheap.\n",
    "The fair value gap metric is the difference between the spot price of an asset and the asset model value. An asset is\n",
    " undervalued when its fair value gap is negative while it is overvalued when it is a positive value.\n",
    "\n",
    "Given a portfolio, we can find out how many assets are in a macro regime at a specific date. We can leverage the function\n",
    "`get_fair_value_gap` and `get_r_squared` to determine the regime of each asset in the portfolio as well as its fair value\n",
    "gap. Note that the fair value gap data is available both in absolute terms (in percentage) and in standard deviation terms.\n",
    "\n",
    "Here are the user inputs:\n",
    "* `portfolio_id`: Portfolio we are using. \n",
    "* `model_id`: The model we are using to get r_squared and fair value gap data."
   ],
   "metadata": {
    "collapsed": false
   }
  },
  {
   "cell_type": "code",
   "execution_count": null,
   "outputs": [],
   "source": [
    "from gs_quant.models.risk_model import MacroRiskModel, DataAssetsRequest as DataRequest, RiskModelUniverseIdentifierRequest, Unit\n",
    "from gs_quant.markets.portfolio_manager import PortfolioManager\n",
    "from IPython.display import display, display_html\n",
    "import seaborn as sns\n",
    "import pandas as pd\n",
    "import datetime as dt\n",
    "import matplotlib.pyplot as plt\n",
    "\n",
    "GsSession.use(Environment.PROD)\n",
    "\n",
    "def annotate_plot(data, ax, index):\n",
    "    for i in range(data.shape[0]):\n",
    "        if data[index][i] == 'DHR UN':\n",
    "            ax.text(data[\"R Squared\"][i], data[\"Fair Value Gap\"][i], s=data[index][i], size='x-large', color='r')\n",
    "        else:\n",
    "            ax.text(data[\"R Squared\"][i], data[\"Fair Value Gap\"][i], s=data[index][i], size='large')\n",
    "        \n",
    "# Time range\n",
    "start_date = dt.date(2022, 5, 2)\n",
    "end_date = dt.date(2022, 5, 2)\n",
    "\n",
    "# Portfolio id and model\n",
    "portfolio_id = \"MPE2KR4BC4RKQ5KE\"\n",
    "model_id = \"QI_US_EQUITY_LT\"\n",
    "model = MacroRiskModel.get(model_id)\n",
    "\n",
    "pm = PortfolioManager(portfolio_id)\n",
    "positions = pm.get_latest_position_set().positions\n",
    "\n",
    "universe = [position.identifier for position in positions]\n",
    "universe_for_request = DataRequest(RiskModelUniverseIdentifierRequest.bbid, universe)\n",
    "fvg_std_df = model.get_fair_value_gap(start_date=start_date, end_date=end_date, fair_value_gap_unit=Unit.STANDARD_DEVIATION, assets=universe_for_request)\n",
    "r_squared_df = model.get_r_squared(start_date=start_date, end_date=end_date, assets=universe_for_request)\n",
    "\n",
    "date = dt.date(2022, 5, 2).strftime(\"%Y-%m-%d\")\n",
    "fvg_one_date_df = fvg_std_df.loc[date, :].to_frame().rename(columns={date: \"Fair Value Gap\"})\n",
    "r_squared_one_date_df = r_squared_df.loc[date, :].to_frame().rename(columns={date: \"R Squared\"})\n",
    "\n",
    "fvg_rsq_df = r_squared_one_date_df.join(fvg_one_date_df).reset_index().round(2)\n",
    "\n",
    "macro_rich = fvg_rsq_df[(fvg_rsq_df[\"R Squared\"] > 65) & (fvg_rsq_df[\"Fair Value Gap\"] > 0)].set_index(\"index\").rename_axis(\"Asset\").sort_values(by=\"Fair Value Gap\", ascending=False)\n",
    "macro_cheap = fvg_rsq_df[(fvg_rsq_df[\"R Squared\"] > 65) & (fvg_rsq_df[\"Fair Value Gap\"] < 0)].set_index(\"index\").rename_axis(\"Asset\").sort_values(by=\"Fair Value Gap\", ascending=True)\n",
    "\n",
    "styles = [dict(selector=\"caption\", props=[(\"text-align\", \"right\"), (\"font-size\", \"130%\"), (\"font-weight\", \"bold\"), (\"color\", 'black')])]\n",
    "\n",
    "macro_rich_styler = macro_rich.style.set_table_attributes(\"style='display:inline'\").set_caption(\"Macro Rich Assets in Portfolio\").format({\"R Squared\": \"{:.2f}%\", \"Fair Value Gap\": \"{:.2f}\"}).background_gradient().set_table_styles(styles)\n",
    "macro_cheap_styler = macro_cheap.style.set_table_attributes(\"style='display:inline'\").set_caption(\"Macro Cheap Assets in Portfolio\").format({\"R Squared\": \"{:.2f}%\",\"Fair Value Gap\": \"{:.2f}\"}).background_gradient().set_table_styles(styles)\n",
    "\n",
    "if fvg_rsq_df.shape[0] > 150:\n",
    "    fvg_rsq_df = fvg_rsq_df.sample(n=150).reset_index(drop=True)\n",
    "\n",
    "# Quadrant of assets that are macro cheap/rich and micro\n",
    "fig, ax = plt.subplots(figsize=(35, 20))\n",
    "sns.scatterplot(data=fvg_rsq_df, x=\"R Squared\", y='Fair Value Gap', hue='index', legend=False)\n",
    "\n",
    "ax.set_title(f\"Macro Rich vs Macro Cheap Assets on {date}\", fontsize='xx-large')\n",
    "ax.set_xlabel(\"R Squared (Model Confidence) in %\", fontsize='xx-large')\n",
    "ax.set_ylabel(\"Fair Value Gap (sigma)\", fontsize='xx-large')\n",
    "ax.set_xlim(0, 100)\n",
    "ax.set_ylim(-2.5, 2.5)\n",
    "\n",
    "annotate_plot(fvg_rsq_df, ax, \"index\")\n",
    "\n",
    "ax.text(x=75, y=2.2, s=\"Macro Rich\", alpha=0.7, fontsize='xx-large',  color='g')\n",
    "ax.text(x=25, y=2.2, s=\"Micro Regime\", alpha=0.7, fontsize='xx-large', color='g')\n",
    "ax.text(x=25, y=-2.2, s=\"Micro Regime\", alpha=0.7, fontsize='xx-large', color='g')\n",
    "ax.text(x=75, y=-2.2 , s=\"Macro Cheap\", alpha=0.7, fontsize='xx-large', color='g')\n",
    "\n",
    "ax.axhline(y=0, color='k', linestyle='dashed')\n",
    "ax.axvline(x=65, color='k', linestyle='dashed')\n",
    "\n",
    "# Plot Just macro cheap assets\n",
    "fig, ax = plt.subplots(figsize=(25, 10))\n",
    "sns.scatterplot(data=macro_cheap.reset_index(), x=\"R Squared\", y=\"Fair Value Gap\", hue=\"Asset\", legend=False)\n",
    "annotate_plot(macro_cheap.reset_index(), ax, \"Asset\")\n",
    "ax.set_title(f\"Macro Cheap Assets on {end_date}\", fontsize='xx-large')\n",
    "ax.set_ylabel(\"Fair Value Gap\", fontsize=\"x-large\")\n",
    "ax.set_xlabel(\"Assets\", fontsize=\"x-large\")\n",
    "ax.text(x=75, y=-2.0 , s=\"Macro Cheap\", alpha=0.7, fontsize='xx-large', color='g')\n",
    "\n",
    "\n",
    "plt.show()"
   ],
   "metadata": {
    "collapsed": false,
    "pycharm": {
     "name": "#%%\n"
    }
   }
  },
  {
   "cell_type": "markdown",
   "source": [
    "The first plot above classifies assets into 3 groups: macro cheap, macro rich and assets in a micro regime. The second plot shows the bottom right of the first\n",
    "plot, i.e all the assets that are macro cheap. "
   ],
   "metadata": {
    "collapsed": false
   }
  },
  {
   "cell_type": "markdown",
   "source": [
    "\n",
    "### Asset Sensitivity to Factors\n",
    "\n",
    "The asset Sensitivity to a macro factor is the percentage change in the asset price for 1 standard deviation move\n",
    "in that macro factor. We can leverage the function `get_universe_sensitivity` of the `MacroRiskModel` class to get a\n",
    "time series of daily asset sensitivity to macro factors for a list of assets.\n",
    "\n",
    "Here are the parameters that are needed:\n",
    "* `start_date` and `end_date`: Time range for which to get sensitivity for. \n",
    "* `model_id`: The model we are using.\n",
    "* `asset`: Asset to get macro sensitivity for.\n",
    "\n",
    "Below, we are querying a time series of daily sensitivity data over the time range for one of the macro cheap assets in the portfolio. "
   ],
   "metadata": {
    "collapsed": false
   }
  },
  {
   "cell_type": "markdown",
   "source": [
    "#### Asset Sensitivity to Factor Categories"
   ],
   "metadata": {
    "collapsed": false
   }
  },
  {
   "cell_type": "code",
   "execution_count": null,
   "outputs": [],
   "source": [
    "from gs_quant.models.risk_model import MacroRiskModel\n",
    "from gs_quant.target.risk_models import RiskModelDataAssetsRequest as DataRequest, RiskModelUniverseIdentifierRequest\n",
    "import datetime as dt\n",
    "import matplotlib.pyplot as plt\n",
    "import seaborn as sns\n",
    "import pandas as pd\n",
    "import numpy as np\n",
    "\n",
    "def style_negative(v, props=''):\n",
    "    return props if v < 0 else None\n",
    "\n",
    "\n",
    "# Time range\n",
    "start_date = dt.date(2022, 5, 2)\n",
    "end_date = dt.date(2022, 5, 2)\n",
    "\n",
    "# The model to get sensitivity data for\n",
    "model_id = \"QI_US_EQUITY_LT\"\n",
    "model = MacroRiskModel.get(model_id)\n",
    "\n",
    "# Universe\n",
    "asset = \"DHR UN\"\n",
    "universe = [asset]\n",
    "universe_for_request = DataRequest(RiskModelUniverseIdentifierRequest.bbid, universe)\n",
    "\n",
    "# Get asset sensitivity data\n",
    "factor_sens_df = model.get_universe_sensitivity(start_date=start_date, end_date=end_date, assets=universe_for_request)\n",
    "factor_data = model.get_factor_data(start_date=start_date, end_date=end_date).set_index('identifier')\n",
    "factor_sens_df.columns = pd.MultiIndex.from_tuples([(factor_data.loc[x, 'factorCategory'], factor_data.loc[x, 'name']) for x in factor_sens_df.columns])\n",
    "factor_sens_df = factor_sens_df.droplevel(level=1).sort_values(by=[asset], axis=1, ascending=False)\n",
    "factor_categories = [f[0] for f in factor_sens_df.columns.values.tolist()]\n",
    "factor_category_sens_df = pd.concat([factor_sens_df[category].agg(np.sum, axis=1).to_frame().rename(columns={0: category}) for category in factor_categories], axis=1)\n",
    "factor_category_sens_df = factor_category_sens_df.loc[:, ~factor_category_sens_df.columns.duplicated(keep='first')]\n",
    "\n",
    "asset_sens_df = factor_category_sens_df.transpose().sort_values(by=[asset], ascending=False).rename_axis(\"Macro Factor Category\")\n",
    "\n",
    "styles = [{'selector': \"caption\", 'props': [(\"font-size\", \"100%\"), (\"font-weight\", \"bold\"), (\"color\", 'black')]},\n",
    "          {'selector': 'thead','props': [(\"background-color\", \"silver\"), (\"font-size\", \"12px\")]},\n",
    "          {'selector': 'tr', 'props': [(\"background-color\", \"whitesmoke\"), (\"font-size\", \"12px\")]},\n",
    "          {'selector': 'td', 'props': [(\"background-color\", \"aliceblue\"), (\"font-size\", \"12px\")]}]\n",
    "\n",
    "asset_sens_styler = asset_sens_df.rename(columns={asset: f\"Percent Change for 1std shift in macro factor category for {asset}\"}).style.set_caption(f\"Sensitivity of {asset} to macro factor Categories on {start_date}\").format(\"{:.2f}%\").applymap(style_negative, props='color:red;').set_table_styles(styles)\n",
    "display(asset_sens_styler)\n",
    "\n",
    "# Plot the portfolio percent change if every  factor category shifted 1 std\n",
    "fig, ax = plt.subplots(figsize=(30, 10))\n",
    "sns.barplot(data=asset_sens_df.reset_index().rename_axis(\"Macro Factor Category\"), x=\"Macro Factor Category\", y=asset, ax=ax)\n",
    "ax.set_xlabel(\"Macro Factor Category\", fontsize=\"x-large\")\n",
    "ax.set_ylabel(\"Percent Change\", fontsize=\"x-large\")\n",
    "ax.set_title(f\"Percent Change for 1 STD Shift in each Macro Factor Category for {asset} on {end_date}\", fontsize=\"xx-large\")\n",
    "ax.tick_params(axis='x', labelrotation = 60)\n",
    "plt.show()"
   ],
   "metadata": {
    "collapsed": false,
    "pycharm": {
     "name": "#%%\n"
    }
   }
  },
  {
   "cell_type": "markdown",
   "source": [
    "#### Asset Sensitivity to Factors\n",
    "\n",
    "Once we know an asset sensitivity to factor categories, we can also query its sensitivity to individual macro factors within a factor category.\n",
    "\n",
    "Here are the user inputs:\n",
    "* `model`: The model we are using.\n",
    "* `factor_categories`: A list of factor categories whose factors we want sensitivity for. If empty, it will default to returning sensitivity to the top 2 positive and negative macro drivers\n",
    "* `start_date` and `end_date`: Time range to get sensitivity data for an asset"
   ],
   "metadata": {
    "collapsed": false
   }
  },
  {
   "cell_type": "code",
   "execution_count": null,
   "outputs": [],
   "source": [
    "from gs_quant.models.risk_model import MacroRiskModel\n",
    "from gs_quant.target.risk_models import RiskModelDataAssetsRequest as DataRequest, RiskModelUniverseIdentifierRequest\n",
    "import datetime as dt\n",
    "import matplotlib.pyplot as plt\n",
    "import pandas as pd\n",
    "import numpy as np\n",
    "\n",
    "def style_negative(v, props=''):\n",
    "    return props if v < 0 else None\n",
    "\n",
    "# Time range\n",
    "start_date = dt.date(2022, 5, 2)\n",
    "end_date = dt.date(2022, 5, 2)\n",
    "\n",
    "# The model to get data for\n",
    "model_id = \"QI_US_EQUITY_LT\"\n",
    "model = MacroRiskModel.get(model_id)\n",
    "\n",
    "# select factor_categories\n",
    "factor_categories = [\"Risk Aversion\", \"Real Rates\", \"Corporate Credit\"]\n",
    "\n",
    "# Universe\n",
    "asset = \"DHR UN\"\n",
    "universe = [asset]\n",
    "universe_for_request = DataRequest(RiskModelUniverseIdentifierRequest.bbid, universe)\n",
    "\n",
    "# Get asset sensitivity data\n",
    "factor_sens_df = model.get_universe_sensitivity(start_date=start_date, end_date=end_date, assets=universe_for_request)\n",
    "factor_data = model.get_factor_data(start_date=start_date, end_date=end_date).set_index('identifier')\n",
    "factor_sens_df.columns = pd.MultiIndex.from_tuples([(factor_data.loc[x, 'factorCategory'], factor_data.loc[x, 'name']) for x in factor_sens_df.columns])\n",
    "factor_sens_df = factor_sens_df.droplevel(level=1)\n",
    "categories = [f[0] for f in factor_sens_df.columns.values.tolist()]\n",
    "\n",
    "if factor_categories:\n",
    "    factor_sens_df = factor_sens_df[factor_categories]\n",
    "else:\n",
    "    total_df = pd.concat([factor_sens_df[category].agg(np.sum, axis=1).to_frame().rename(columns={0: category}) for category in categories], axis=1).sort_values(by=[asset], axis=1, ascending=False)\n",
    "    total_df = total_df.loc[:, ~total_df.columns.duplicated(keep='first')]\n",
    "    top_drivers = total_df.columns.values.tolist()[0:2] + total_df.columns.values.tolist()[-2:]\n",
    "    factor_sens_df = factor_sens_df[top_drivers]\n",
    "    \n",
    "factor_sens_df = factor_sens_df.transpose().rename_axis([\"Factor Category\", \"Factor\"])\n",
    "\n",
    "# Style\n",
    "styles = [{'selector': \"caption\", 'props': [(\"font-size\", \"100%\"), (\"font-weight\", \"bold\"), (\"color\", 'black')]},\n",
    "          {'selector': 'thead','props': [(\"background-color\", \"silver\"), (\"font-size\", \"12px\")]},\n",
    "          {'selector': 'tr', 'props': [(\"background-color\", \"gainsboro\"), (\"font-size\", \"12px\"), (\"border\", \"solid\"), (\"border-width\", \"1px\")]},\n",
    "          {'selector': 'td', 'props': [(\"background-color\", \"aliceblue\"), (\"font-size\", \"12px\")]}]\n",
    "\n",
    "asset_sens_styler = factor_sens_df.rename(columns={asset: f\"Percent Change for 1std shift in macro factor for {asset}\"}).style.set_caption(f\"Sensitivity of {asset} to macro factors on {start_date}\").format(\"{:.2f}%\").applymap(style_negative, props='color:red;').set_table_styles(styles)\n",
    "display(asset_sens_styler)\n",
    "\n",
    "# Plot the portfolio percent change if every  factor category shifted 1 std\n",
    "fig, ax = plt.subplots(figsize=(30, 10))\n",
    "sns.barplot(data=factor_sens_df.sort_values(by=[asset], ascending=False).reset_index(), x=\"Factor\", y=asset, ax=ax)\n",
    "ax.set_xlabel(\"Macro Factor\", fontsize=\"x-large\")\n",
    "ax.set_ylabel(\"Percent Change\", fontsize=\"x-large\")\n",
    "ax.set_title(f\"Percent Change for 1 STD Shift in each Macro Factor for {asset} on {end_date}\", fontsize=\"xx-large\")\n",
    "ax.tick_params(axis='x', labelrotation = 60)\n",
    "plt.show()"
   ],
   "metadata": {
    "collapsed": false,
    "pycharm": {
     "name": "#%%\n"
    }
   }
  },
  {
   "cell_type": "markdown",
   "source": [
    "### Asset Sensitivity to Factors Over Time\n",
    "\n",
    "We can query asset sensitivity to indiviual factors within a facotr category over time."
   ],
   "metadata": {
    "collapsed": false
   }
  },
  {
   "cell_type": "code",
   "execution_count": null,
   "outputs": [],
   "source": [
    "from gs_quant.models.risk_model import MacroRiskModel\n",
    "from gs_quant.target.risk_models import RiskModelDataAssetsRequest as DataRequest, RiskModelUniverseIdentifierRequest\n",
    "import datetime as dt\n",
    "import matplotlib.pyplot as plt\n",
    "\n",
    "start_date = dt.date(2021, 1, 1)\n",
    "end_date = dt.date(2022, 5, 2)\n",
    "\n",
    "# The model to get data for\n",
    "model_id = \"QI_US_EQUITY_LT\"\n",
    "model = MacroRiskModel.get(model_id)\n",
    "\n",
    "macro_cheap_asset = \"DHR UN\"\n",
    "factors = []\n",
    "universe = [macro_cheap_asset]\n",
    "universe_for_request = DataRequest(RiskModelUniverseIdentifierRequest.bbid, universe)\n",
    "\n",
    "# Get asset sensitivity data\n",
    "macro_factor_sensitivity = model.get_universe_sensitivity(start_date=start_date, end_date=end_date, assets=universe_for_request)\n",
    "model_factors = model.get_factor_data(start_date=start_date, end_date=end_date).set_index('identifier')\n",
    "macro_factor_sensitivity.columns = [model_factors.loc[x, 'name'] for x in macro_factor_sensitivity.columns]\n",
    "\n",
    "drivers = macro_factor_sensitivity.loc[(macro_cheap_asset, end_date.strftime(\"%Y-%m-%d\")), :].to_frame().droplevel(level=1, axis=1).sort_values(by=macro_cheap_asset, ascending=False)\n",
    "drivers = drivers.index.values.tolist()\n",
    "top_drivers = drivers[0:2] + drivers[-2:None]\n",
    "\n",
    "# Let's get the universe sensitivity to macro factors over time\n",
    "asset_sensitivity_across_time = macro_factor_sensitivity.loc[macro_cheap_asset, factors] if factors else macro_factor_sensitivity.loc[macro_cheap_asset, top_drivers]\n",
    "\n",
    "fig, ax = plt.subplots(figsize=(20, 5))\n",
    "asset_sensitivity_across_time.plot(ax=ax)\n",
    "ax.set_title(f\"Sensitivity of {universe[0]} to Top Macro Factors on {end_date} Over Time\", fontsize='x-large')\n",
    "ax.set_xlabel(\"Date\")\n",
    "ax.set_ylabel(\"% change in asset price for 1 std shift\", fontsize='x-large')\n",
    "plt.show()"
   ],
   "metadata": {
    "collapsed": false,
    "pycharm": {
     "name": "#%%\n"
    }
   }
  },
  {
   "cell_type": "markdown",
   "source": [
    "### Regime Shift over Time\n",
    "\n",
    "In a time range, we can pinpoint points in time when macro factors have primarily explained the variance in asset price over a period of time for some assets in our portfolio. \n",
    "In other words, we can observe when R Squared for an asset was above 65% and when it was below 65%. \n",
    "\n",
    "Here are the user inputs:\n",
    "* `model_id`: The model we are using.\n",
    "* `universe`: A list of assets to get historical R Squared data for.\n",
    "* `start_date` and `end_date`: Time range to get R Squared data"
   ],
   "metadata": {
    "collapsed": false
   }
  },
  {
   "cell_type": "code",
   "execution_count": null,
   "outputs": [],
   "source": [
    "import datetime as dt\n",
    "from gs_quant.target.risk_models import RiskModelDataAssetsRequest as DataRequest, RiskModelUniverseIdentifierRequest\n",
    "from gs_quant.models.risk_model import MacroRiskModel\n",
    "import matplotlib.pyplot as plt\n",
    "\n",
    "start_date = dt.date(2021, 1, 1)\n",
    "end_date = dt.date(2022, 5, 16)\n",
    "\n",
    "model_id = \"QI_US_EQUITY_LT\"\n",
    "model = MacroRiskModel.get(model_id)\n",
    "\n",
    "universe = [\"DHR UN\", \"AMZN UN\"]\n",
    "universe_for_request = DataRequest(RiskModelUniverseIdentifierRequest.bbid, universe)\n",
    "\n",
    "r_squared_df = model.get_r_squared(start_date=start_date, end_date=end_date, assets=universe_for_request)\n",
    "\n",
    "fig, ax = plt.subplots(figsize=(15, 7))\n",
    "r_squared_df.plot(ax=ax)\n",
    "ax.set_title(f\"Regime Shift from {start_date} to {end_date}\", fontsize='x-large')\n",
    "ax.set_ylabel(\"RSquared (in %)\", fontsize='x-large')\n",
    "ax.axhline(y=65, linestyle='dashed')\n",
    "plt.show()"
   ],
   "metadata": {
    "collapsed": false,
    "pycharm": {
     "name": "#%%\n"
    }
   }
  },
  {
   "cell_type": "markdown",
   "source": [
    "### Fair Value Gap Over Time\n",
    "\n",
    "We can look at how fair value gap has changed historically."
   ],
   "metadata": {
    "collapsed": false
   }
  },
  {
   "cell_type": "code",
   "execution_count": null,
   "outputs": [],
   "source": [
    "\n",
    "\n",
    "import datetime as dt\n",
    "from gs_quant.target.risk_models import RiskModelDataAssetsRequest as DataRequest, RiskModelUniverseIdentifierRequest\n",
    "from gs_quant.models.risk_model import MacroRiskModel\n",
    "import matplotlib.pyplot as plt\n",
    "\n",
    "start_date = dt.date(2022, 1, 1)\n",
    "end_date = dt.date(2022, 5, 2)\n",
    "\n",
    "model_id = \"QI_US_EQUITY_LT\"\n",
    "model = MacroRiskModel.get(model_id)\n",
    "\n",
    "universe = [\"DHR UN\"]\n",
    "universe_for_request = DataRequest(RiskModelUniverseIdentifierRequest.bbid, universe)\n",
    "\n",
    "# fvg returned in standard deviation terms by default\n",
    "# To see fvg as percent, change the fair value gap unit to percent\n",
    "fair_value_gap_std_df = model.get_fair_value_gap(start_date=start_date, end_date=end_date, fair_value_gap_unit=Unit.STANDARD_DEVIATION, assets=universe_for_request)\n",
    "\n",
    "fig, ax = plt.subplots(figsize=(15, 7))\n",
    "fair_value_gap_std_df.iloc[:, 0:4].plot(ax=ax)\n",
    "ax.set_title(f\"Fair Value Gap from {start_date} to {end_date}\", fontsize='x-large')\n",
    "ax.set_ylabel(\"Fair Value Gap (sigma)\", fontsize='x-large')\n",
    "ax.axhline(y=0, linestyle='dashed')\n",
    "plt.show()\n",
    "\n",
    "\n"
   ],
   "metadata": {
    "collapsed": false,
    "pycharm": {
     "name": "#%%\n"
    }
   }
  }
 ],
 "metadata": {
  "kernelspec": {
   "display_name": "Python 3",
   "language": "python",
   "name": "python3"
  },
  "language_info": {
   "codemirror_mode": {
    "name": "ipython",
    "version": 2
   },
   "file_extension": ".py",
   "mimetype": "text/x-python",
   "name": "python",
   "nbconvert_exporter": "python",
   "pygments_lexer": "ipython2",
   "version": "2.7.6"
  }
 },
 "nbformat": 4,
 "nbformat_minor": 0
}