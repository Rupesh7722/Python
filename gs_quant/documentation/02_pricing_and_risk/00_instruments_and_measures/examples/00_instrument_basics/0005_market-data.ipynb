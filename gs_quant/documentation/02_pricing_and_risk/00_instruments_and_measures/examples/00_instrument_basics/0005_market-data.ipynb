{
 "cells": [
  {
   "cell_type": "code",
   "execution_count": null,
   "metadata": {
    "collapsed": true
   },
   "outputs": [],
   "source": [
    "from gs_quant.common import Currency, PayReceive\n",
    "from gs_quant.instrument import IRSwaption\n",
    "from gs_quant.markets import PricingContext, OverlayMarket, MarketDataCoordinate\n",
    "from gs_quant.session import GsSession"
   ]
  },
  {
   "cell_type": "code",
   "execution_count": null,
   "outputs": [],
   "source": [
    "GsSession.use(client_id=None, client_secret=None, scopes=('run_analytics',))"
   ],
   "metadata": {
    "collapsed": false,
    "pycharm": {
     "name": "#%%\n"
    }
   }
  },
  {
   "cell_type": "markdown",
   "source": [
    "### Retrieve market data "
   ],
   "metadata": {
    "collapsed": false,
    "pycharm": {
     "name": "#%% md\n"
    }
   }
  },
  {
   "cell_type": "markdown",
   "source": [
    "Let's create a swaption and retrieve the market data our instrument is sensitive to. To do so we can call `market()` on \n",
    "our instrument. This will give us the `OverlayMarket` object which contains the market data used to price our \n",
    "instrument. "
   ],
   "metadata": {
    "collapsed": false,
    "pycharm": {
     "name": "#%% md\n"
    }
   }
  },
  {
   "cell_type": "code",
   "execution_count": null,
   "outputs": [],
   "source": [
    "swaption = IRSwaption(PayReceive.Receive, '5y', Currency.EUR, expiration_date='3m', strike='atm')\n",
    "swaption.resolve()\n",
    "market = swaption.market()\n",
    "\n",
    "print(f'Base price: {swaption.price()}')"
   ],
   "metadata": {
    "collapsed": false,
    "pycharm": {
     "name": "#%%\n"
    }
   }
  },
  {
   "cell_type": "markdown",
   "source": [
    "Then, using the `market_data` attribute, we can access the market data coordinates and values directly"
   ],
   "metadata": {
    "collapsed": false,
    "pycharm": {
     "name": "#%% md\n"
    }
   }
  },
  {
   "cell_type": "code",
   "execution_count": null,
   "outputs": [],
   "source": [
    "print(f'The value of the coordinate, {market.market_data[0].coordinate} is {market.market_data[0].value}')"
   ],
   "metadata": {
    "collapsed": false,
    "pycharm": {
     "name": "#%%\n"
    }
   }
  },
  {
   "cell_type": "markdown",
   "source": [
    "### Overwrite market data"
   ],
   "metadata": {
    "collapsed": false,
    "pycharm": {
     "name": "#%% md\n"
    }
   }
  },
  {
   "cell_type": "markdown",
   "source": [
    "We can also amend the market data of our instrument's `OverlayMarket` to pass-in our own market data value. \n",
    "To do so, we simply overwrite the `MarketDataCoordinate` of the instrument `OverlayMarket` to a given value."
   ],
   "metadata": {
    "collapsed": false,
    "pycharm": {
     "name": "#%% md\n"
    }
   }
  },
  {
   "cell_type": "code",
   "execution_count": null,
   "outputs": [],
   "source": [
    "c_10y = MarketDataCoordinate.from_string('IR_USD_SWAP_10Y')\n",
    "market[c_10y] = 0.09\n",
    "\n",
    "with PricingContext(market=market):\n",
    "    price_f = swaption.price()\n",
    "\n",
    "print(f'New price: {price_f.result()}')"
   ],
   "metadata": {
    "collapsed": false,
    "pycharm": {
     "name": "#%%\n"
    }
   }
  },
  {
   "cell_type": "markdown",
   "source": [
    "... or pass in an new `OverlayMarket` all together! Here we create a bespoke market with our own values for the 3m5y \n",
    "implied volatility and 10y swap rate. Note that the values that are not overwritten will be defaulted to their original \n",
    "value."
   ],
   "metadata": {
    "collapsed": false,
    "pycharm": {
     "name": "#%% md\n"
    }
   }
  },
  {
   "cell_type": "code",
   "execution_count": null,
   "outputs": [],
   "source": [
    "vol_3m5y = MarketDataCoordinate.from_string('IR VOL_EUR-EURIBOR-TELERATE_SWAPTION_5Y,3M')\n",
    "market_data = {c_10y: 0.01, vol_3m5y: 40 / 1e4}\n",
    "new_market = OverlayMarket(market_data)\n",
    "\n",
    "with PricingContext(market=new_market):\n",
    "    price_f = swaption.price()\n",
    "\n",
    "print(f'Price from new market data: {price_f.result()}')"
   ],
   "metadata": {
    "collapsed": false,
    "pycharm": {
     "name": "#%%\n"
    }
   }
  }
 ],
 "metadata": {
  "language_info": {
   "codemirror_mode": {
    "name": "ipython",
    "version": 2
   },
   "file_extension": ".py",
   "mimetype": "text/x-python",
   "name": "python",
   "nbconvert_exporter": "python",
   "pygments_lexer": "ipython2",
   "version": "2.7.6"
  },
  "kernelspec": {
   "name": "python3",
   "language": "python",
   "display_name": "Python 3"
  },
  "pycharm": {
   "stem_cell": {
    "cell_type": "raw",
    "source": [],
    "metadata": {
     "collapsed": false
    }
   }
  }
 },
 "nbformat": 4,
 "nbformat_minor": 0
}