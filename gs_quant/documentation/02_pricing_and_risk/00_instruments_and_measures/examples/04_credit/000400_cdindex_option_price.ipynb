{
 "cells": [
  {
   "cell_type": "code",
   "execution_count": null,
   "metadata": {},
   "outputs": [],
   "source": [
    "from datetime import date\n",
    "from gs_quant.common import PayReceive, Currency\n",
    "from gs_quant.instrument import CDIndexOption\n",
    "from gs_quant.session import Environment, GsSession\n",
    "from gs_quant.markets import PricingContext"
   ]
  },
  {
   "cell_type": "code",
   "execution_count": null,
   "metadata": {},
   "outputs": [],
   "source": [
    "# external users should substitute their client id and secret; please skip this step if using internal jupyterhub\n",
    "GsSession.use(Environment.PROD, client_id=None, client_secret=None, scopes=('run_analytics',))"
   ]
  },
  {
   "cell_type": "code",
   "execution_count": null,
   "metadata": {},
   "outputs": [],
   "source": [
    "# View properties of a CD Index Option\n",
    "CDIndexOption.properties()"
   ]
  },
  {
   "cell_type": "markdown",
   "metadata": {},
   "source": [
    "Available properties (defaults) for determining the underlying index are:\n",
    "- index_family (iTraxx Europe): 'iTraxx Europe', 'iTraxx Europe FNSE', 'iTraxx Europe XOVER', 'CDX.NA.IG', 'CDX.NA.HY'\n",
    "- index_series (OTR): OTR\n",
    "- index_version (latest): latest\n",
    "\n",
    "Available properties for determining the option are:\n",
    "- option_type (Call): 'Call', 'Put'\n",
    "- strike (0.01): Any\n",
    "- strike_type (Spread): 'Spread', 'Price'\n",
    "- expriation_date (next market expiry - third Wednesday of month): Between 1m and 6m\n",
    "- termination_date (5y next IMM date): 5y\n",
    "- notional_amount (10000000): Any"
   ]
  },
  {
   "cell_type": "code",
   "execution_count": null,
   "metadata": {},
   "outputs": [],
   "source": [
    "# Create a 3 month call on an OTR iTraxx Main 5y underlier with a strike of 65\n",
    "cd_option = CDIndexOption(strike=0.0065, option_type='Call', expiration_date='3m', termination_date='5y',  \n",
    "                          index_family='iTraxx Europe FNSE', notional_amount=10000000)"
   ]
  },
  {
   "cell_type": "code",
   "execution_count": null,
   "metadata": {
    "scrolled": true
   },
   "outputs": [],
   "source": [
    "with PricingContext(market_data_location='NYC'):\n",
    "    cd_option.resolve()\n",
    "cd_option.as_dict()"
   ]
  },
  {
   "cell_type": "code",
   "execution_count": null,
   "metadata": {},
   "outputs": [],
   "source": [
    "print(cd_option.price())"
   ]
  }
 ],
 "metadata": {
  "kernelspec": {
   "display_name": "Python 3",
   "language": "python",
   "name": "python3"
  },
  "language_info": {
   "codemirror_mode": {
    "name": "ipython",
    "version": 3
   },
   "file_extension": ".py",
   "mimetype": "text/x-python",
   "name": "python",
   "nbconvert_exporter": "python",
   "pygments_lexer": "ipython3",
   "version": "3.7.4"
  }
 },
 "nbformat": 4,
 "nbformat_minor": 5
}
