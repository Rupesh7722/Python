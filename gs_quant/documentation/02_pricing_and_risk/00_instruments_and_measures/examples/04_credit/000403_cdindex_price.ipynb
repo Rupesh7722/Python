{
 "cells": [
  {
   "cell_type": "code",
   "execution_count": null,
   "metadata": {},
   "outputs": [],
   "source": [
    "from datetime import date\n",
    "from gs_quant.common import PayReceive, Currency\n",
    "from gs_quant.instrument import CDIndex\n",
    "import gs_quant.risk as risk\n",
    "from gs_quant.session import Environment, GsSession\n",
    "from gs_quant.markets import HistoricalPricingContext, PricingContext"
   ]
  },
  {
   "cell_type": "code",
   "execution_count": null,
   "metadata": {},
   "outputs": [],
   "source": [
    "# external users should substitute their client id and secret; please skip this step if using internal jupyterhub\n",
    "GsSession.use(Environment.PROD, client_id=None, client_secret=None, scopes=('run_analytics'))"
   ]
  },
  {
   "cell_type": "markdown",
   "metadata": {},
   "source": [
    "#### Available index families for CDIndex\n",
    "- iTraxx Europe OTR: 3y, 5y, 7y, 10y\n",
    "- iTraxx Europe XOVER OTR: 5y\n",
    "- CDX.NA.IG OTR: 5y\n",
    "- CDX.NA.HY OTR: 3y, 5y, 7y, 10y\n"
   ]
  },
  {
   "cell_type": "code",
   "execution_count": null,
   "metadata": {
    "scrolled": true
   },
   "outputs": [],
   "source": [
    "# Create an index product on S34 main\n",
    "itraxx_main = CDIndex(index_family='iTraxx Europe', termination_date='5y', index_series=34)\n",
    "\n",
    "with PricingContext(date(2021, 8, 10)):\n",
    "    itraxx_main.resolve()\n",
    "itraxx_main.as_dict()"
   ]
  },
  {
   "cell_type": "markdown",
   "metadata": {},
   "source": [
    "Also create an index product on iTraxx Xover and price historically alongside iTraxx Main"
   ]
  },
  {
   "cell_type": "code",
   "execution_count": null,
   "metadata": {},
   "outputs": [],
   "source": [
    "itraxx_xover = CDIndex(index_family='iTraxx Europe XOVER', index_series=34)\n",
    "\n",
    "with HistoricalPricingContext(date(2021, 8, 10), date(2021, 8, 24), show_progress=True, is_batch=True):\n",
    "    itraxx_main_res_f = itraxx_main.price()\n",
    "    itraxx_xover_res_f = itraxx_xover.price()"
   ]
  },
  {
   "cell_type": "code",
   "execution_count": null,
   "metadata": {},
   "outputs": [],
   "source": [
    "itraxx_main_res_f.result()"
   ]
  },
  {
   "cell_type": "code",
   "execution_count": null,
   "metadata": {},
   "outputs": [],
   "source": [
    "itraxx_main_res = itraxx_main_res_f.result()\n",
    "itraxx_xover_res = itraxx_xover_res_f.result()"
   ]
  },
  {
   "cell_type": "code",
   "execution_count": null,
   "metadata": {},
   "outputs": [],
   "source": [
    "print(itraxx_main_res)"
   ]
  },
  {
   "cell_type": "code",
   "execution_count": null,
   "metadata": {},
   "outputs": [],
   "source": [
    "import matplotlib.pyplot as plt\n",
    "\n",
    "fig, ax = plt.subplots()\n",
    "ax.plot(itraxx_main_res, label=\"iTraxx Main\")\n",
    "ax.plot(itraxx_xover_res, label=\"iTraxx XOVER\" )\n",
    "ax.set_xlabel('time')\n",
    "ax.set_ylabel('PV ($)')\n",
    "ax.set_title('PV over Time')\n",
    "ax.legend()\n",
    "fig.autofmt_xdate()"
   ]
  }
 ],
 "metadata": {
  "kernelspec": {
   "display_name": "Python 3",
   "language": "python",
   "name": "python3"
  },
  "language_info": {
   "codemirror_mode": {
    "name": "ipython",
    "version": 3
   },
   "file_extension": ".py",
   "mimetype": "text/x-python",
   "name": "python",
   "nbconvert_exporter": "python",
   "pygments_lexer": "ipython3",
   "version": "3.7.4"
  }
 },
 "nbformat": 4,
 "nbformat_minor": 5
}
