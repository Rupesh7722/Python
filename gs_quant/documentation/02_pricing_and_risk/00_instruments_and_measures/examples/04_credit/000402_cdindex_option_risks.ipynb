{
 "cells": [
  {
   "cell_type": "code",
   "execution_count": null,
   "metadata": {},
   "outputs": [],
   "source": [
    "from datetime import date\n",
    "from gs_quant.common import PayReceive, Currency\n",
    "from gs_quant.instrument import CDIndexOption\n",
    "from gs_quant.risk import DollarPrice, CDDelta, CDVega, CDTheta\n",
    "from gs_quant.session import Environment, GsSession\n",
    "from gs_quant.markets import PricingContext, HistoricalPricingContext"
   ]
  },
  {
   "cell_type": "code",
   "execution_count": null,
   "metadata": {},
   "outputs": [],
   "source": [
    "# external users should substitute their client id and secret; please skip this step if using internal jupyterhub\n",
    "GsSession.use(Environment.PROD, client_id=None, client_secret=None, scopes=('run_analytics'))"
   ]
  },
  {
   "cell_type": "code",
   "execution_count": null,
   "metadata": {},
   "outputs": [],
   "source": [
    "cd_option = CDIndexOption(index_family='iTraxx Europe XOVER', strike=0.0300, option_type='Call', \n",
    "                          buy_sell='Sell', expiration_date='1m', termination_date='5y', notional_amount=1)\n",
    "cd_option.as_dict()"
   ]
  },
  {
   "cell_type": "markdown",
   "metadata": {},
   "source": [
    "Index Option specific risk measures are:\n",
    "- CDDelta - sensitivty to underlier in terms of underlying index notional. Buying this amount of underlying index will give you flat delta\n",
    "- CDVega - sensitivty to implied volatility \n",
    "- CDTheta - option time decay, assuming constant vol and moving forwards"
   ]
  },
  {
   "cell_type": "code",
   "execution_count": null,
   "metadata": {},
   "outputs": [],
   "source": [
    "with PricingContext(market_data_location='LDN'):\n",
    "    greeks = cd_option.calc((CDDelta, CDVega, CDTheta))"
   ]
  },
  {
   "cell_type": "code",
   "execution_count": null,
   "metadata": {},
   "outputs": [],
   "source": [
    "greeks.result()"
   ]
  },
  {
   "cell_type": "markdown",
   "metadata": {},
   "source": [
    "View historic delta:"
   ]
  },
  {
   "cell_type": "code",
   "execution_count": null,
   "metadata": {},
   "outputs": [],
   "source": [
    "with HistoricalPricingContext(date(2021, 5, 5), date(2021, 5, 11), show_progress=True, is_batch=True):\n",
    "    previous_option_deltas_holder = cd_option.calc(CDDelta)"
   ]
  },
  {
   "cell_type": "code",
   "execution_count": null,
   "metadata": {
    "scrolled": true
   },
   "outputs": [],
   "source": [
    "previous_option_deltas = previous_option_deltas_holder.result()\n",
    "print(previous_option_deltas.value)"
   ]
  },
  {
   "cell_type": "code",
   "execution_count": null,
   "metadata": {},
   "outputs": [],
   "source": [
    "# plot the instrument delta over time\n",
    "import matplotlib.pyplot as plt\n",
    "from pandas.plotting import register_matplotlib_converters\n",
    "register_matplotlib_converters()\n",
    "\n",
    "fig, ax = plt.subplots()\n",
    "ax.plot(previous_option_deltas.value)\n",
    "ax.set_xlabel('time')\n",
    "ax.set_ylabel('delta')\n",
    "ax.set_title('delta over time')\n",
    "fig.autofmt_xdate()"
   ]
  }
 ],
 "metadata": {
  "kernelspec": {
   "display_name": "Python 3",
   "language": "python",
   "name": "python3"
  },
  "language_info": {
   "codemirror_mode": {
    "name": "ipython",
    "version": 3
   },
   "file_extension": ".py",
   "mimetype": "text/x-python",
   "name": "python",
   "nbconvert_exporter": "python",
   "pygments_lexer": "ipython3",
   "version": "3.7.4"
  }
 },
 "nbformat": 4,
 "nbformat_minor": 5
}
