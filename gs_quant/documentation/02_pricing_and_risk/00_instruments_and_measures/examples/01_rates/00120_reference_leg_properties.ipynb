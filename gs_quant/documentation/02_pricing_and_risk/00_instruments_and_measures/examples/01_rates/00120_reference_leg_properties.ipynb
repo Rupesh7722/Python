{
 "cells": [
  {
   "cell_type": "code",
   "execution_count": null,
   "id": "0af5ba20",
   "metadata": {},
   "outputs": [],
   "source": [
    "from gs_quant.instrument import IRSwaption, IRSwap\n",
    "from gs_quant.markets.portfolio import Portfolio\n",
    "from gs_quant.markets import HistoricalPricingContext\n",
    "from gs_quant.session import Environment, GsSession\n",
    "import gs_quant.risk as risk"
   ]
  },
  {
   "cell_type": "code",
   "execution_count": null,
   "id": "d5bf201e",
   "metadata": {},
   "outputs": [],
   "source": [
    "# external users should substitute their client id and secret; please skip this step if using internal jupyterhub\n",
    "GsSession.use(Environment.PROD, client_id=None, client_secret=None, scopes=('run_analytics',))"
   ]
  },
  {
   "cell_type": "markdown",
   "id": "6ea95f36",
   "metadata": {},
   "source": [
    "### Reference other leg properties in instrument fields"
   ]
  },
  {
   "cell_type": "code",
   "execution_count": null,
   "id": "96cac46c",
   "metadata": {},
   "outputs": [],
   "source": [
    "port = Portfolio((IRSwaption(expiration_date='1y', strike=0.015, name=\"foo\"),\n",
    "               IRSwaption(expiration_date='1y', strike=\"=[foo].strike*1.25\", name=\"bar\"),\n",
    "               IRSwaption(strike=\"=[foo].strike+[bar].strike\")))"
   ]
  },
  {
   "cell_type": "code",
   "execution_count": null,
   "id": "00f45d28",
   "metadata": {},
   "outputs": [],
   "source": [
    "port.resolve()"
   ]
  },
  {
   "cell_type": "code",
   "execution_count": null,
   "id": "c0913ba1",
   "metadata": {},
   "outputs": [],
   "source": [
    "port[0].strike"
   ]
  },
  {
   "cell_type": "code",
   "execution_count": null,
   "id": "e79e95b0",
   "metadata": {},
   "outputs": [],
   "source": [
    "port[1].strike==port[0].strike*1.25"
   ]
  },
  {
   "cell_type": "code",
   "execution_count": null,
   "id": "129551e2",
   "metadata": {},
   "outputs": [],
   "source": [
    "port[2].strike==(port[0].strike+port[1].strike)"
   ]
  }
 ],
 "metadata": {
  "kernelspec": {
   "display_name": "Python 3",
   "language": "python",
   "name": "python3"
  },
  "language_info": {
   "codemirror_mode": {
    "name": "ipython",
    "version": 3
   },
   "file_extension": ".py",
   "mimetype": "text/x-python",
   "name": "python",
   "nbconvert_exporter": "python",
   "pygments_lexer": "ipython3",
   "version": "3.7.4"
  }
 },
 "nbformat": 4,
 "nbformat_minor": 5
}
