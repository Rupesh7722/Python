{
 "cells": [
  {
   "cell_type": "code",
   "execution_count": null,
   "metadata": {},
   "outputs": [],
   "source": [
    "from gs_quant.instrument import IRSwaption\n",
    "from gs_quant.markets.portfolio import Portfolio\n",
    "from gs_quant.session import Environment, GsSession"
   ]
  },
  {
   "cell_type": "code",
   "execution_count": null,
   "metadata": {},
   "outputs": [],
   "source": [
    "# external users should substitute their client id and secret; please skip this step if using internal jupyterhub\n",
    "GsSession.use(client_id=None, client_secret=None, scopes=('run_analytics',)) "
   ]
  },
  {
   "cell_type": "markdown",
   "metadata": {},
   "source": [
    "### Solve for Present Value\n",
    "Using 1x2 receiver structure - solve for strike on second leg such that pv of leg2 = pv of leg1"
   ]
  },
  {
   "cell_type": "code",
   "execution_count": null,
   "metadata": {
    "pycharm": {
     "name": "#%%# buy 1x atmf payer, sell 2x atmf+X payer solving for 0 cost strike\n"
    }
   },
   "outputs": [],
   "source": [
    "zero_cost_portfolio = Portfolio((IRSwaption('Receive', '30y', 'USD', notional_amount=10e6, strike='atmf', expiration_date='3m', \n",
    "                                            buy_sell='Buy', name='30y_buy'),\n",
    "                                 IRSwaption('Receive', '30y', 'USD', notional_amount=20e6, expiration_date='3m', \n",
    "                                            strike='=solvefor([30y_buy].risk.Price,pv)', buy_sell='Sell')))\n",
    "\n",
    "# confirm it's 0 cost\n",
    "zero_cost_portfolio.price()"
   ]
  }
 ],
 "metadata": {
  "kernelspec": {
   "display_name": "Python 3",
   "language": "python",
   "name": "python3"
  },
  "language_info": {
   "codemirror_mode": {
    "name": "ipython",
    "version": 3
   },
   "file_extension": ".py",
   "mimetype": "text/x-python",
   "name": "python",
   "nbconvert_exporter": "python",
   "pygments_lexer": "ipython3",
   "version": "3.7.4"
  }
 },
 "nbformat": 4,
 "nbformat_minor": 1
}
