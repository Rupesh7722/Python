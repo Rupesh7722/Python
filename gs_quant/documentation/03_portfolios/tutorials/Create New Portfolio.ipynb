{
 "cells": [
  {
   "cell_type": "markdown",
   "metadata": {
    "collapsed": true,
    "pycharm": {
     "name": "#%% md\n"
    }
   },
   "source": [
    "# Create a Marquee Portfolio with GS Quant\n",
    "\n",
    "The Marquee Portfolio Service provides a powerful framework for uploading portfolio positions and retrieving analytics including historical performance, factor risk exposure, ESG analytics, and more. GS Quant makes operating the suite of Portfolio Service API's intuitive and fast.\n",
    "\n",
    "## Permission Prerequisites\n",
    "\n",
    "To execute all the code in this tutorial, you will need the following application scopes:\n",
    "- **read_product_data**\n",
    "- **read_financial_data**\n",
    "- **modify_financial_data** (must be requested)\n",
    "- **run_analytics** (must be requested)\n",
    "- **read_user_profile**\n",
    "\n",
    "If you are not yet permissioned for these scopes, please request them on your [My Applications Page](https://developer.gs.com/go/apps/view). If you have any other questions please reach out to the [Marquee sales team](mailto:gs-marquee-sales@gs.com).\n"
   ]
  },
  {
   "cell_type": "markdown",
   "metadata": {},
   "source": [
    "## Step 1: Authenticate and Initialize Your Session\n",
    "\n",
    "First you will import the necessary modules and add your client id and client secret."
   ]
  },
  {
   "cell_type": "code",
   "execution_count": null,
   "metadata": {
    "pycharm": {
     "name": "#%%\n"
    }
   },
   "outputs": [],
   "source": [
    "import itertools\n",
    "\n",
    "from gs_quant.api.gs.assets import GsAssetApi\n",
    "from gs_quant.api.gs.portfolios import GsPortfolioApi\n",
    "from gs_quant.common import PositionSet\n",
    "from gs_quant.entities.entitlements import Entitlements, EntitlementBlock, User\n",
    "from gs_quant.markets.portfolio_manager import PortfolioManager\n",
    "from gs_quant.session import GsSession, Environment\n",
    "from gs_quant.target.portfolios import Portfolio as MQPortfolio\n",
    "from gs_quant.target.portfolios import Position\n",
    "\n",
    "client = 'ENTER CLIENT ID'\n",
    "secret = 'ENTER CLIENT SECRET'\n",
    "\n",
    "\n",
    "GsSession.use(Environment.PROD, client_id=client, client_secret=secret, scopes=('read_product_data read_financial_data modify_financial_data run_analytics read_user_profile',))\n",
    "\n",
    "print('GS Session initialized.')"
   ]
  },
  {
   "cell_type": "markdown",
   "metadata": {},
   "source": [
    "## Step 2: Define Portfolio Entitlements\n",
    "\n",
    "By default, an application will have all entitlement permissions to a portfolio it makes. However, if you would like to share the portfolio with others, either Marquee users or other applications, you will need to specify them in the entitlements parameter of the portfolio. Let's walk through how we convert a list of admin and viewer emails into an `Entitlements` object:"
   ]
  },
  {
   "cell_type": "code",
   "execution_count": null,
   "metadata": {
    "pycharm": {
     "name": "#%%\n"
    },
    "scrolled": false
   },
   "outputs": [],
   "source": [
    "portfolio_admin_emails = ['LIST OF ADMIN EMAILS']\n",
    "portfolio_viewer_emails = ['LIST OF VIEWER EMAILS']\n",
    "\n",
    "admin_entitlements = EntitlementBlock(users=User.get_many(emails=portfolio_admin_emails))\n",
    "view_entitlements = EntitlementBlock(users=User.get_many(emails=portfolio_viewer_emails))\n",
    "\n",
    "entitlements = Entitlements(view=view_entitlements,\n",
    "                            admin=admin_entitlements)\n",
    "\n",
    "print(f'Entitlements:\\n{entitlements.to_dict()}')"
   ]
  },
  {
   "cell_type": "markdown",
   "metadata": {},
   "source": [
    "## Step 3: Define the Positions You Would Like to Upload\n",
    "\n",
    "Portfolio positions in Marquee are stored on a holding basis, when means you only upload positions for days where you are rebalancing your portfolio. Take the following set of positions:"
   ]
  },
  {
   "cell_type": "code",
   "execution_count": null,
   "metadata": {
    "pycharm": {
     "name": "#%%\n"
    }
   },
   "outputs": [],
   "source": [
    "positions = [\n",
    "    { 'identifier': 'GS UN', 'quantity': 50, 'positionDate': '2020-05-01'},\n",
    "    { 'identifier': 'AAPL UW', 'quantity': 25, 'positionDate': '2020-05-01'},\n",
    "    { 'identifier': 'GS UN', 'quantity': 51, 'positionDate': '2020-07-01'},\n",
    "    { 'identifier': 'AAPL UW', 'quantity': 26, 'positionDate': '2020-07-01'}\n",
    "]"
   ]
  },
  {
   "cell_type": "markdown",
   "metadata": {},
   "source": [
    "If these positions were to be uploaded correctly, this portfolio would hold 50 shares of GS UN and 25 shares of AAPL UW from May 1, 2020 to June 30, 2020, and it would hold 51 shares of GS UN and 26 shares of AAPL UW from July 1, 2020 to today.\n",
    "\n",
    "## Step 4: Format positions\n",
    "\n",
    "Now let's proceed with updating these positions to our portfolio. The first step is to resolve the identifiers provided into their corresponding unique Marquee identifiers. In this case, positions are identified by Bloomberg ID, but other identifiers can be used and resolved by adding them to the `fields` parameter in the function `GsAssetApi.resolve_assets`."
   ]
  },
  {
   "cell_type": "code",
   "execution_count": null,
   "metadata": {
    "pycharm": {
     "name": "#%%\n"
    }
   },
   "outputs": [],
   "source": [
    "all_identifiers = list(set([p['identifier'] for p in positions]))\n",
    "results = GsAssetApi.resolve_assets(identifier=all_identifiers, fields=['bbid', 'id'], limit=1)\n",
    "try:\n",
    "    identifier_to_marquee_id = dict(zip(results.keys(), [a[0]['id'] for a in results.values()]))\n",
    "except:\n",
    "    unmapped_assets = {k for k,v in results.items() if not v}\n",
    "    raise ValueError('Error in resolving the following identifiers: ' + ', '.join(unmapped_assets))\n",
    "\n",
    "print('Position identifiers successfully mapped as the following:')\n",
    "for mq_id in identifier_to_marquee_id:\n",
    "    print(f'{mq_id} --> {identifier_to_marquee_id[mq_id]}')"
   ]
  },
  {
   "cell_type": "markdown",
   "metadata": {},
   "source": [
    "Next we need to rearrange the data in the positions to fit the format expected in the Marquee API."
   ]
  },
  {
   "cell_type": "code",
   "execution_count": null,
   "metadata": {
    "pycharm": {
     "name": "#%%\n"
    }
   },
   "outputs": [],
   "source": [
    "portfolio_position_sets = []\n",
    "\n",
    "for position_date, positions_on_date in itertools.groupby(positions, lambda x: x['positionDate']):\n",
    "    formatted_positions = tuple(Position(asset_id=identifier_to_marquee_id[p['identifier']],\n",
    "                                    quantity=p['quantity']) for p in positions_on_date)\n",
    "    position_set = (PositionSet(position_date=position_date,\n",
    "                                positions=formatted_positions))\n",
    "    portfolio_position_sets.append(position_set)\n",
    "\n",
    "print('Portfolio positions successfully formatted.')"
   ]
  },
  {
   "cell_type": "markdown",
   "metadata": {},
   "source": [
    "## Step 5: Create the Portfolio\n",
    "We're finally ready to create our portfolio and update it with our newly formatted positions."
   ]
  },
  {
   "cell_type": "code",
   "execution_count": null,
   "metadata": {
    "pycharm": {
     "name": "#%%\n"
    }
   },
   "outputs": [],
   "source": [
    "# Format and create a new empty portfolio\n",
    "portfolio = GsPortfolioApi.create_portfolio(MQPortfolio(name='ENTER PORTFOLIO NAME HERE',\n",
    "                                                      currency='USD',\n",
    "                                                      entitlements=entitlements.to_target()))\n",
    "print(f\"Created portfolio '{portfolio.name}' with ID: {portfolio.id}\")\n",
    "\n",
    "GsPortfolioApi.update_positions(portfolio.id, portfolio_position_sets)\n",
    "print(f\"Updated positions in '{portfolio.name}'\")\n"
   ]
  },
  {
   "cell_type": "markdown",
   "metadata": {},
   "source": [
    "## Step 6: Schedule Reports\n",
    "By default, creating a portfolio will automatically create a corresponding Performance Report for it as well. If you would like to create a Factor Risk Report for it as well, follow the steps [here](../examples/marquee/00_create_factor_risk_report.ipynb). Then, remember to schedule all the portfolio reports with our `PortfolioManager` class.\n",
    "a"
   ]
  },
  {
   "cell_type": "code",
   "execution_count": null,
   "metadata": {
    "pycharm": {
     "name": "#%%\n"
    }
   },
   "outputs": [],
   "source": [
    "pm = PortfolioManager(portfolio.id)\n",
    "pm.schedule_reports()\n",
    "\n",
    "print('All portfolio reports scheduled.')"
   ]
  },
  {
   "cell_type": "markdown",
   "metadata": {},
   "source": [
    "### You're all set, Congrats! What's next?\n",
    "\n",
    "* [Creating and scheduling a factor risk report](../examples/marquee/00_create_factor_risk_report.ipynb)\n",
    "\n",
    "* [Updating the portfolio with new positions](../tutorials/Update%20Historical%20Portfolio.ipynb)\n",
    "\n",
    "* [Retrieving the portfolio's performance analytics](../tutorials/Pull%20Portfolio%20Performance%20Data.ipynb)\n",
    "\n",
    "* [Retrieving the portfolio's factor risk and attribution analytics](../tutorials/Pull%20Portfolio%20Factor%20Risk%20Data.ipynb)\n",
    "\n",
    "\n",
    "*Other questions? Reach out to the [Portfolio Analytics team](mailto:gs-marquee-analytics-support@gs.com)!*"
   ]
  }
 ],
 "metadata": {
  "kernelspec": {
   "display_name": "Python 3",
   "language": "python",
   "name": "python3"
  },
  "language_info": {
   "codemirror_mode": {
    "name": "ipython",
    "version": 3
   },
   "file_extension": ".py",
   "mimetype": "text/x-python",
   "name": "python",
   "nbconvert_exporter": "python",
   "pygments_lexer": "ipython3",
   "version": "3.7.4"
  }
 },
 "nbformat": 4,
 "nbformat_minor": 1
}
