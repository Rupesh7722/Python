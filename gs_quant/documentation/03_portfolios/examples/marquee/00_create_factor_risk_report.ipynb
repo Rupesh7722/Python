{
 "cells": [
  {
   "cell_type": "code",
   "execution_count": 4,
   "metadata": {
    "collapsed": true
   },
   "outputs": [],
   "source": [
    "\n",
    "from gs_quant.markets.report import FactorRiskReport\n",
    "from gs_quant.session import GsSession, Environment\n",
    "\n",
    "client = 'ENTER CLIENT ID'\n",
    "secret = 'ENTER CLIENT SECRET'\n",
    "\n",
    "\n",
    "GsSession.use(Environment.PROD, client_id=client, client_secret=secret, scopes=())"
   ]
  },
  {
   "cell_type": "code",
   "execution_count": 5,
   "outputs": [],
   "source": [
    "factor_risk_report = FactorRiskReport(risk_model_id='BARRA_USSLOWL',\n",
    "                                      fx_hedged=True)\n",
    "factor_risk_report.set_position_source('MP0P2141Y8B2SYDN')\n",
    "factor_risk_report.save()\n",
    "factor_risk_report.schedule()\n",
    "\n",
    "print(f\"Factor risk report '{factor_risk_report.id}' scheduled.\")"
   ],
   "metadata": {
    "collapsed": false,
    "pycharm": {
     "name": "#%%\n"
    }
   }
  }
 ],
 "metadata": {
  "kernelspec": {
   "display_name": "Python 3",
   "language": "python",
   "name": "python3"
  },
  "language_info": {
   "codemirror_mode": {
    "name": "ipython",
    "version": 2
   },
   "file_extension": ".py",
   "mimetype": "text/x-python",
   "name": "python",
   "nbconvert_exporter": "python",
   "pygments_lexer": "ipython2",
   "version": "2.7.6"
  }
 },
 "nbformat": 4,
 "nbformat_minor": 0
}
