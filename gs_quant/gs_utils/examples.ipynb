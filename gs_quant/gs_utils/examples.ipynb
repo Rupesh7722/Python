{
 "cells": [
  {
   "cell_type": "markdown",
   "metadata": {},
   "source": [
    "# Examples"
   ]
  },
  {
   "cell_type": "markdown",
   "metadata": {},
   "source": [
    "This notebook demonstrates basic usage of the custom Session class, which implements most of the Marquee Studio API calls wrapped into convenience functions. The session object is initialized with client credentials, and is used to make API calls. We use a sample portfolio composed of equal weighted DJI index names."
   ]
  },
  {
   "cell_type": "code",
   "execution_count": 1,
   "metadata": {},
   "outputs": [],
   "source": [
    "import pandas as pd\n",
    "import numpy as np\n",
    "import os, sys\n",
    "import matplotlib.pyplot as plt\n",
    "import seaborn as sns\n",
    "import datetime"
   ]
  },
  {
   "cell_type": "code",
   "execution_count": 11,
   "metadata": {},
   "outputs": [],
   "source": [
    "from gs_quant.gs_utils import Session"
   ]
  },
  {
   "cell_type": "markdown",
   "metadata": {},
   "source": [
    "#### Pass credentials and scope in a JSON file with the following format:"
   ]
  },
  {
   "cell_type": "markdown",
   "metadata": {},
   "source": [
    "```json\n",
    "{\n",
    " \"auth_data\": {\n",
    "  \"client_id\": \"\",\n",
    "  \"client_secret\": \"\",\n",
    "  \"scope\": \"read_content read_product_data read_financial_data\n",
    "            modify_financial_data read_user_profile run_analytics\",\n",
    "  \"grant_type\": \"client_credentials\"\n",
    " },\n",
    " \"auth_guid\": \"\"\n",
    "}\n",
    "```"
   ]
  },
  {
   "cell_type": "code",
   "execution_count": 12,
   "metadata": {},
   "outputs": [],
   "source": [
    "input_path = '/projects/'"
   ]
  },
  {
   "cell_type": "markdown",
   "metadata": {},
   "source": [
    "#### Start the session"
   ]
  },
  {
   "cell_type": "code",
   "execution_count": 13,
   "metadata": {},
   "outputs": [
    {
     "name": "stdout",
     "output_type": "stream",
     "text": [
      "Access token: xnh6B7C72s12KbPRKvzlqhOjASUT\n"
     ]
    }
   ],
   "source": [
    "sess = Session(auth_json_filepath=input_path + 'auth.json', verbose=True)\n",
    "sess.start(set_default_entitlements=True)"
   ]
  },
  {
   "cell_type": "markdown",
   "metadata": {},
   "source": [
    "#### Load the portfolio"
   ]
  },
  {
   "cell_type": "code",
   "execution_count": 14,
   "metadata": {},
   "outputs": [
    {
     "data": {
      "text/html": [
       "<div>\n",
       "<style scoped>\n",
       "    .dataframe tbody tr th:only-of-type {\n",
       "        vertical-align: middle;\n",
       "    }\n",
       "\n",
       "    .dataframe tbody tr th {\n",
       "        vertical-align: top;\n",
       "    }\n",
       "\n",
       "    .dataframe thead th {\n",
       "        text-align: right;\n",
       "    }\n",
       "</style>\n",
       "<table border=\"1\" class=\"dataframe\">\n",
       "  <thead>\n",
       "    <tr style=\"text-align: right;\">\n",
       "      <th></th>\n",
       "      <th>quantity</th>\n",
       "      <th>positionDate</th>\n",
       "      <th>bbid</th>\n",
       "    </tr>\n",
       "  </thead>\n",
       "  <tbody>\n",
       "    <tr>\n",
       "      <th>0</th>\n",
       "      <td>1960</td>\n",
       "      <td>01/28/19</td>\n",
       "      <td>AAPL UW</td>\n",
       "    </tr>\n",
       "    <tr>\n",
       "      <th>1</th>\n",
       "      <td>3108</td>\n",
       "      <td>01/28/19</td>\n",
       "      <td>AXP UN</td>\n",
       "    </tr>\n",
       "    <tr>\n",
       "      <th>2</th>\n",
       "      <td>801</td>\n",
       "      <td>01/28/19</td>\n",
       "      <td>BA UN</td>\n",
       "    </tr>\n",
       "    <tr>\n",
       "      <th>3</th>\n",
       "      <td>2460</td>\n",
       "      <td>01/28/19</td>\n",
       "      <td>CAT UN</td>\n",
       "    </tr>\n",
       "    <tr>\n",
       "      <th>4</th>\n",
       "      <td>6754</td>\n",
       "      <td>01/28/19</td>\n",
       "      <td>CSCO UW</td>\n",
       "    </tr>\n",
       "  </tbody>\n",
       "</table>\n",
       "</div>"
      ],
      "text/plain": [
       "   quantity positionDate     bbid\n",
       "0      1960     01/28/19  AAPL UW\n",
       "1      3108     01/28/19   AXP UN\n",
       "2       801     01/28/19    BA UN\n",
       "3      2460     01/28/19   CAT UN\n",
       "4      6754     01/28/19  CSCO UW"
      ]
     },
     "execution_count": 14,
     "metadata": {},
     "output_type": "execute_result"
    }
   ],
   "source": [
    "port = pd.read_csv(input_path + 'portfolio.csv')\n",
    "port.head()"
   ]
  },
  {
   "cell_type": "markdown",
   "metadata": {},
   "source": [
    "### Upload dataframe buildout\n",
    "\n",
    "This is the format of the dataframe to be uploaded:\n",
    "\n",
    "|No  | quantity   | positionDate   | assetId             |\n",
    "|:---|:-----------|:---------------|:--------------------|\n",
    "|  0 |       2499 | 12/31/2017     | MA4B66MW5E27UANEQ6Q |\n",
    "|  1 |       4708 | 12/31/2017     | MA4B66MW5E27UAKVA6N |\n",
    "|  2 |       4520 | 12/31/2017     | MA9VHN7TW4A6YZ0P    |\n",
    "|  3 |       2586 | 12/31/2017     | MA4B66MW5E27UAL9SUW |\n",
    "|  4 |       5813 | 12/31/2017     | MA4B66MW5E27U9VBB93 |\n",
    "|  * |       **** | ********       | ******************* |\n",
    "| 99 |       2875 | 12/31/2017     | MA4B66MW5E27U9YGMGX |"
   ]
  },
  {
   "cell_type": "markdown",
   "metadata": {},
   "source": [
    "#### Map the identifiers in the portfolio (`BBID` here) to the unique GS `assetId`"
   ]
  },
  {
   "cell_type": "code",
   "execution_count": 15,
   "metadata": {},
   "outputs": [],
   "source": [
    "includes = ['id', 'name', 'currency', 'listed', 'xref', 'rank']\n",
    "\n",
    "def get_df(gs_ids):\n",
    "    ids_list = []\n",
    "    for item in gs_ids:\n",
    "        tmp = dict([(i, item[i]) for i in includes if i != 'xref'])\n",
    "        tmp.update(item['xref'])\n",
    "        ids_list.append(tmp)\n",
    "    return pd.DataFrame(ids_list, columns=['id', 'name', 'currency',\n",
    "                                           'listed', 'gsid', 'bbid',\n",
    "                                           'bcid', 'ticker', 'rank'])\n",
    "\n",
    "mapping_dict = sess.get_many_assets(bbid=port.bbid.unique(),\n",
    "                                    assetClassificationsIsPrimary='true',\n",
    "                                    listed='true',\n",
    "                                    limit=300)['results']\n",
    "\n",
    "\n",
    "mappings = get_df(mapping_dict)"
   ]
  },
  {
   "cell_type": "code",
   "execution_count": 16,
   "metadata": {},
   "outputs": [
    {
     "name": "stdout",
     "output_type": "stream",
     "text": [
      "Number of unique securities in portfolio: 30\n",
      "Number of unique securities in mapping:   30\n"
     ]
    }
   ],
   "source": [
    "print('Number of unique securities in portfolio: {}'.format(len(port.bbid.unique())))\n",
    "print('Number of unique securities in mapping:   {}'.format(len(mappings.bbid.unique())))"
   ]
  },
  {
   "cell_type": "code",
   "execution_count": 17,
   "metadata": {},
   "outputs": [
    {
     "data": {
      "text/html": [
       "<div>\n",
       "<style scoped>\n",
       "    .dataframe tbody tr th:only-of-type {\n",
       "        vertical-align: middle;\n",
       "    }\n",
       "\n",
       "    .dataframe tbody tr th {\n",
       "        vertical-align: top;\n",
       "    }\n",
       "\n",
       "    .dataframe thead th {\n",
       "        text-align: right;\n",
       "    }\n",
       "</style>\n",
       "<table border=\"1\" class=\"dataframe\">\n",
       "  <thead>\n",
       "    <tr style=\"text-align: right;\">\n",
       "      <th></th>\n",
       "      <th>id</th>\n",
       "      <th>name</th>\n",
       "      <th>currency</th>\n",
       "      <th>listed</th>\n",
       "      <th>gsid</th>\n",
       "      <th>bbid</th>\n",
       "      <th>bcid</th>\n",
       "      <th>ticker</th>\n",
       "      <th>rank</th>\n",
       "    </tr>\n",
       "  </thead>\n",
       "  <tbody>\n",
       "    <tr>\n",
       "      <th>0</th>\n",
       "      <td>MA4B66MW5E27UAHKG34</td>\n",
       "      <td>The Goldman Sachs Group, Inc.</td>\n",
       "      <td>USD</td>\n",
       "      <td>True</td>\n",
       "      <td>901026</td>\n",
       "      <td>GS UN</td>\n",
       "      <td>GS US</td>\n",
       "      <td>GS</td>\n",
       "      <td>0.964215</td>\n",
       "    </tr>\n",
       "    <tr>\n",
       "      <th>1</th>\n",
       "      <td>MA4B66MW5E27U9ZPDFX</td>\n",
       "      <td>Boeing Co/the</td>\n",
       "      <td>USD</td>\n",
       "      <td>True</td>\n",
       "      <td>19561</td>\n",
       "      <td>BA UN</td>\n",
       "      <td>BA US</td>\n",
       "      <td>BA</td>\n",
       "      <td>0.861967</td>\n",
       "    </tr>\n",
       "    <tr>\n",
       "      <th>2</th>\n",
       "      <td>MA4B66MW5E27UAKHZFD</td>\n",
       "      <td>JPMorgan Chase &amp; Co</td>\n",
       "      <td>USD</td>\n",
       "      <td>True</td>\n",
       "      <td>47896</td>\n",
       "      <td>JPM UN</td>\n",
       "      <td>JPM US</td>\n",
       "      <td>JPM</td>\n",
       "      <td>0.949960</td>\n",
       "    </tr>\n",
       "    <tr>\n",
       "      <th>3</th>\n",
       "      <td>MA4B66MW5E27UAHKGMA</td>\n",
       "      <td>Home Depot Inc</td>\n",
       "      <td>USD</td>\n",
       "      <td>True</td>\n",
       "      <td>66181</td>\n",
       "      <td>HD UN</td>\n",
       "      <td>HD US</td>\n",
       "      <td>HD</td>\n",
       "      <td>0.859566</td>\n",
       "    </tr>\n",
       "    <tr>\n",
       "      <th>4</th>\n",
       "      <td>MA4B66MW5E27UAL9SUX</td>\n",
       "      <td>Microsoft Corp</td>\n",
       "      <td>USD</td>\n",
       "      <td>True</td>\n",
       "      <td>10107</td>\n",
       "      <td>MSFT UW</td>\n",
       "      <td>MSFT US</td>\n",
       "      <td>MSFT</td>\n",
       "      <td>0.914048</td>\n",
       "    </tr>\n",
       "  </tbody>\n",
       "</table>\n",
       "</div>"
      ],
      "text/plain": [
       "                    id                           name currency  listed  \\\n",
       "0  MA4B66MW5E27UAHKG34  The Goldman Sachs Group, Inc.      USD    True   \n",
       "1  MA4B66MW5E27U9ZPDFX                  Boeing Co/the      USD    True   \n",
       "2  MA4B66MW5E27UAKHZFD            JPMorgan Chase & Co      USD    True   \n",
       "3  MA4B66MW5E27UAHKGMA                 Home Depot Inc      USD    True   \n",
       "4  MA4B66MW5E27UAL9SUX                 Microsoft Corp      USD    True   \n",
       "\n",
       "     gsid     bbid     bcid ticker      rank  \n",
       "0  901026    GS UN    GS US     GS  0.964215  \n",
       "1   19561    BA UN    BA US     BA  0.861967  \n",
       "2   47896   JPM UN   JPM US    JPM  0.949960  \n",
       "3   66181    HD UN    HD US     HD  0.859566  \n",
       "4   10107  MSFT UW  MSFT US   MSFT  0.914048  "
      ]
     },
     "execution_count": 17,
     "metadata": {},
     "output_type": "execute_result"
    }
   ],
   "source": [
    "mappings.head()"
   ]
  },
  {
   "cell_type": "markdown",
   "metadata": {},
   "source": [
    "#### Merge our portfolio with the retrieved mappings"
   ]
  },
  {
   "cell_type": "code",
   "execution_count": 18,
   "metadata": {},
   "outputs": [
    {
     "data": {
      "text/html": [
       "<div>\n",
       "<style scoped>\n",
       "    .dataframe tbody tr th:only-of-type {\n",
       "        vertical-align: middle;\n",
       "    }\n",
       "\n",
       "    .dataframe tbody tr th {\n",
       "        vertical-align: top;\n",
       "    }\n",
       "\n",
       "    .dataframe thead th {\n",
       "        text-align: right;\n",
       "    }\n",
       "</style>\n",
       "<table border=\"1\" class=\"dataframe\">\n",
       "  <thead>\n",
       "    <tr style=\"text-align: right;\">\n",
       "      <th></th>\n",
       "      <th>quantity</th>\n",
       "      <th>positionDate</th>\n",
       "      <th>bbid</th>\n",
       "      <th>id</th>\n",
       "    </tr>\n",
       "  </thead>\n",
       "  <tbody>\n",
       "    <tr>\n",
       "      <th>0</th>\n",
       "      <td>1960</td>\n",
       "      <td>01/28/19</td>\n",
       "      <td>AAPL UW</td>\n",
       "      <td>MA4B66MW5E27U9VBB94</td>\n",
       "    </tr>\n",
       "    <tr>\n",
       "      <th>1</th>\n",
       "      <td>1960</td>\n",
       "      <td>01/29/19</td>\n",
       "      <td>AAPL UW</td>\n",
       "      <td>MA4B66MW5E27U9VBB94</td>\n",
       "    </tr>\n",
       "    <tr>\n",
       "      <th>2</th>\n",
       "      <td>1960</td>\n",
       "      <td>01/30/19</td>\n",
       "      <td>AAPL UW</td>\n",
       "      <td>MA4B66MW5E27U9VBB94</td>\n",
       "    </tr>\n",
       "    <tr>\n",
       "      <th>3</th>\n",
       "      <td>1960</td>\n",
       "      <td>01/31/19</td>\n",
       "      <td>AAPL UW</td>\n",
       "      <td>MA4B66MW5E27U9VBB94</td>\n",
       "    </tr>\n",
       "    <tr>\n",
       "      <th>4</th>\n",
       "      <td>3108</td>\n",
       "      <td>01/28/19</td>\n",
       "      <td>AXP UN</td>\n",
       "      <td>MA4B66MW5E27U9ZPDCJ</td>\n",
       "    </tr>\n",
       "  </tbody>\n",
       "</table>\n",
       "</div>"
      ],
      "text/plain": [
       "   quantity positionDate     bbid                   id\n",
       "0      1960     01/28/19  AAPL UW  MA4B66MW5E27U9VBB94\n",
       "1      1960     01/29/19  AAPL UW  MA4B66MW5E27U9VBB94\n",
       "2      1960     01/30/19  AAPL UW  MA4B66MW5E27U9VBB94\n",
       "3      1960     01/31/19  AAPL UW  MA4B66MW5E27U9VBB94\n",
       "4      3108     01/28/19   AXP UN  MA4B66MW5E27U9ZPDCJ"
      ]
     },
     "execution_count": 18,
     "metadata": {},
     "output_type": "execute_result"
    }
   ],
   "source": [
    "port_mapped = port.merge(mappings[['id', 'bbid']], on='bbid')\n",
    "port_mapped.head()"
   ]
  },
  {
   "cell_type": "code",
   "execution_count": 19,
   "metadata": {},
   "outputs": [
    {
     "data": {
      "text/html": [
       "<div>\n",
       "<style scoped>\n",
       "    .dataframe tbody tr th:only-of-type {\n",
       "        vertical-align: middle;\n",
       "    }\n",
       "\n",
       "    .dataframe tbody tr th {\n",
       "        vertical-align: top;\n",
       "    }\n",
       "\n",
       "    .dataframe thead th {\n",
       "        text-align: right;\n",
       "    }\n",
       "</style>\n",
       "<table border=\"1\" class=\"dataframe\">\n",
       "  <thead>\n",
       "    <tr style=\"text-align: right;\">\n",
       "      <th></th>\n",
       "      <th>quantity</th>\n",
       "      <th>positionDate</th>\n",
       "      <th>assetId</th>\n",
       "    </tr>\n",
       "  </thead>\n",
       "  <tbody>\n",
       "    <tr>\n",
       "      <th>0</th>\n",
       "      <td>1960</td>\n",
       "      <td>01/28/19</td>\n",
       "      <td>MA4B66MW5E27U9VBB94</td>\n",
       "    </tr>\n",
       "    <tr>\n",
       "      <th>1</th>\n",
       "      <td>1960</td>\n",
       "      <td>01/29/19</td>\n",
       "      <td>MA4B66MW5E27U9VBB94</td>\n",
       "    </tr>\n",
       "    <tr>\n",
       "      <th>2</th>\n",
       "      <td>1960</td>\n",
       "      <td>01/30/19</td>\n",
       "      <td>MA4B66MW5E27U9VBB94</td>\n",
       "    </tr>\n",
       "    <tr>\n",
       "      <th>3</th>\n",
       "      <td>1960</td>\n",
       "      <td>01/31/19</td>\n",
       "      <td>MA4B66MW5E27U9VBB94</td>\n",
       "    </tr>\n",
       "    <tr>\n",
       "      <th>4</th>\n",
       "      <td>3108</td>\n",
       "      <td>01/28/19</td>\n",
       "      <td>MA4B66MW5E27U9ZPDCJ</td>\n",
       "    </tr>\n",
       "  </tbody>\n",
       "</table>\n",
       "</div>"
      ],
      "text/plain": [
       "   quantity positionDate              assetId\n",
       "0      1960     01/28/19  MA4B66MW5E27U9VBB94\n",
       "1      1960     01/29/19  MA4B66MW5E27U9VBB94\n",
       "2      1960     01/30/19  MA4B66MW5E27U9VBB94\n",
       "3      1960     01/31/19  MA4B66MW5E27U9VBB94\n",
       "4      3108     01/28/19  MA4B66MW5E27U9ZPDCJ"
      ]
     },
     "execution_count": 19,
     "metadata": {},
     "output_type": "execute_result"
    }
   ],
   "source": [
    "port_mapped = port_mapped.drop('bbid', axis=1).rename({'id':'assetId'}, axis=1)\n",
    "port_mapped.head()"
   ]
  },
  {
   "cell_type": "markdown",
   "metadata": {},
   "source": [
    "#### Upload the portfolio"
   ]
  },
  {
   "cell_type": "code",
   "execution_count": 20,
   "metadata": {},
   "outputs": [
    {
     "name": "stdout",
     "output_type": "stream",
     "text": [
      "Portfolio ID: MP54T92ZF3K103F4\n"
     ]
    }
   ],
   "source": [
    "portfolio_id = sess.upload_portfolio(port_mapped,\n",
    "                                     port_name='Test Portfolio',\n",
    "                                     start_date=port_mapped.positionDate.min())"
   ]
  },
  {
   "cell_type": "markdown",
   "metadata": {},
   "source": [
    "#### Create and Schedule Portfolio Reports"
   ]
  },
  {
   "cell_type": "markdown",
   "metadata": {},
   "source": [
    "Let's set the _measures_ and _parameters_ for the **Portfolio Performance Analytics** report"
   ]
  },
  {
   "cell_type": "code",
   "execution_count": 21,
   "metadata": {},
   "outputs": [],
   "source": [
    "pa_measures=['pnl', 'longExposure', 'shortExposure',\n",
    "             'assetCount', 'turnover', 'assetCountLong',\n",
    "             'assetCountShort', 'netExposure', 'grossExposure',\n",
    "             'tradingPnl', 'tradingCostPnl', 'servicingCostLongPnl',\n",
    "             'servicingCostShortPnl']\n",
    "pa_parameters={\n",
    "    'transactionCostModel': 'FIXED',\n",
    "    'servicingCostLong': 0,\n",
    "    'servicingCostShort': 200,\n",
    "    'tradingCost': 8\n",
    "}"
   ]
  },
  {
   "cell_type": "markdown",
   "metadata": {},
   "source": [
    "Marquee automatically creates a **Portfolio Performance Analytics** report. We can either create a new one"
   ]
  },
  {
   "cell_type": "code",
   "execution_count": 22,
   "metadata": {},
   "outputs": [],
   "source": [
    "ppa_report = sess.create_report(positionSourceId=portfolio_id,\n",
    "                                type='Portfolio Performance Analytics',\n",
    "                                positionSourceType='Portfolio',\n",
    "                                measures=pa_measures,\n",
    "                                parameters=pa_parameters)"
   ]
  },
  {
   "cell_type": "markdown",
   "metadata": {},
   "source": [
    "Or update the Marquee-generated one with our parameters"
   ]
  },
  {
   "cell_type": "code",
   "execution_count": 23,
   "metadata": {},
   "outputs": [
    {
     "data": {
      "text/plain": [
       "{}"
      ]
     },
     "execution_count": 23,
     "metadata": {},
     "output_type": "execute_result"
    }
   ],
   "source": [
    "# get the default Portfolio Performance Analytics report\n",
    "ppa_report = sess.get_portfolio_reports(portfolio_id)['results'][0]\n",
    "ppa_report.update({'parameters':pa_parameters})\n",
    "ppa_report.update({'measures':pa_measures})\n",
    "sess.update_report(**ppa_report)"
   ]
  },
  {
   "cell_type": "markdown",
   "metadata": {},
   "source": [
    "We can create a **Portfolio Factor Risk** report"
   ]
  },
  {
   "cell_type": "code",
   "execution_count": 24,
   "metadata": {},
   "outputs": [],
   "source": [
    "pfr_report = sess.create_risk_report(portfolio_id=portfolio_id,\n",
    "                                     start_date=port_mapped.positionDate.min(),\n",
    "                                     end_date=port_mapped.positionDate.max(),\n",
    "                                     risk_model='AXUS4M')"
   ]
  },
  {
   "cell_type": "markdown",
   "metadata": {},
   "source": [
    "And we schedule report execution, which will run analytics for all dates across all positions between a given start and end date. For the **Portfolio Performance Analytics** report, setting the startDate to anything after T-1 **or** using the built-in batching function produces an error."
   ]
  },
  {
   "cell_type": "code",
   "execution_count": 27,
   "metadata": {},
   "outputs": [],
   "source": [
    "sess.schedule_report(ppa_report['id'],\n",
    "                     startDate=port_mapped.positionDate.min() - datetime.timedelta(days=3),\n",
    "                     endDate=port_mapped.positionDate.max(),\n",
    "                     batch=None)"
   ]
  },
  {
   "cell_type": "markdown",
   "metadata": {},
   "source": [
    "Schedule report execution for the **Portfolio Risk Report**, setting `batch='weekly'` or `batch='monthly'` to speed up the execution"
   ]
  },
  {
   "cell_type": "code",
   "execution_count": 29,
   "metadata": {},
   "outputs": [],
   "source": [
    "sess.schedule_report(pfr_report['id'],\n",
    "                     startDate=port_mapped.positionDate.min(),\n",
    "                     endDate=port_mapped.positionDate.max(),\n",
    "                     batch='weekly')"
   ]
  },
  {
   "cell_type": "markdown",
   "metadata": {},
   "source": [
    "Check the execution status"
   ]
  },
  {
   "cell_type": "code",
   "execution_count": 32,
   "metadata": {
    "scrolled": true
   },
   "outputs": [
    {
     "data": {
      "text/html": [
       "<div>\n",
       "<style scoped>\n",
       "    .dataframe tbody tr th:only-of-type {\n",
       "        vertical-align: middle;\n",
       "    }\n",
       "\n",
       "    .dataframe tbody tr th {\n",
       "        vertical-align: top;\n",
       "    }\n",
       "\n",
       "    .dataframe thead th {\n",
       "        text-align: right;\n",
       "    }\n",
       "</style>\n",
       "<table border=\"1\" class=\"dataframe\">\n",
       "  <thead>\n",
       "    <tr style=\"text-align: right;\">\n",
       "      <th></th>\n",
       "      <th>positionSourceName</th>\n",
       "      <th>positionSourceId</th>\n",
       "      <th>type</th>\n",
       "      <th>status</th>\n",
       "      <th>createdTime</th>\n",
       "      <th>lastUpdatedTime</th>\n",
       "      <th>id</th>\n",
       "    </tr>\n",
       "  </thead>\n",
       "  <tbody>\n",
       "    <tr>\n",
       "      <th>0</th>\n",
       "      <td>Test Portfolio</td>\n",
       "      <td>MP54T92ZF3K103F4</td>\n",
       "      <td>Portfolio Performance Analytics</td>\n",
       "      <td>done</td>\n",
       "      <td>2019-02-15T21:18:03.153Z</td>\n",
       "      <td>2019-02-15T21:18:03.153Z</td>\n",
       "      <td>RPZCC0TSHNDDHPGX</td>\n",
       "    </tr>\n",
       "    <tr>\n",
       "      <th>1</th>\n",
       "      <td>Test Portfolio</td>\n",
       "      <td>MP54T92ZF3K103F4</td>\n",
       "      <td>Portfolio Factor Risk</td>\n",
       "      <td>done</td>\n",
       "      <td>2019-02-15T21:19:10.525Z</td>\n",
       "      <td>2019-02-15T21:19:10.525Z</td>\n",
       "      <td>RP3CYPKQGTPWN4NA</td>\n",
       "    </tr>\n",
       "  </tbody>\n",
       "</table>\n",
       "</div>"
      ],
      "text/plain": [
       "  positionSourceName  positionSourceId                             type  \\\n",
       "0     Test Portfolio  MP54T92ZF3K103F4  Portfolio Performance Analytics   \n",
       "1     Test Portfolio  MP54T92ZF3K103F4            Portfolio Factor Risk   \n",
       "\n",
       "  status               createdTime           lastUpdatedTime                id  \n",
       "0   done  2019-02-15T21:18:03.153Z  2019-02-15T21:18:03.153Z  RPZCC0TSHNDDHPGX  \n",
       "1   done  2019-02-15T21:19:10.525Z  2019-02-15T21:19:10.525Z  RP3CYPKQGTPWN4NA  "
      ]
     },
     "execution_count": 32,
     "metadata": {},
     "output_type": "execute_result"
    }
   ],
   "source": [
    "sess.get_portfolio_reports(portfolio_id, return_df=True)[['positionSourceName',\n",
    "                                                          'positionSourceId','type',\n",
    "                                                          'status','createdTime',\n",
    "                                                          'lastUpdatedTime','id']]"
   ]
  },
  {
   "cell_type": "markdown",
   "metadata": {},
   "source": [
    "#### We can list the portfolios"
   ]
  },
  {
   "cell_type": "code",
   "execution_count": 42,
   "metadata": {},
   "outputs": [
    {
     "data": {
      "text/html": [
       "<div>\n",
       "<style scoped>\n",
       "    .dataframe tbody tr th:only-of-type {\n",
       "        vertical-align: middle;\n",
       "    }\n",
       "\n",
       "    .dataframe tbody tr th {\n",
       "        vertical-align: top;\n",
       "    }\n",
       "\n",
       "    .dataframe thead th {\n",
       "        text-align: right;\n",
       "    }\n",
       "</style>\n",
       "<table border=\"1\" class=\"dataframe\">\n",
       "  <thead>\n",
       "    <tr style=\"text-align: right;\">\n",
       "      <th></th>\n",
       "      <th>name</th>\n",
       "      <th>id</th>\n",
       "      <th>createdTime</th>\n",
       "    </tr>\n",
       "  </thead>\n",
       "  <tbody>\n",
       "    <tr>\n",
       "      <th>0</th>\n",
       "      <td>Test Portfolio</td>\n",
       "      <td>MP54T92ZF3K103F4</td>\n",
       "      <td>2019-02-15T21:18:03.152Z</td>\n",
       "    </tr>\n",
       "  </tbody>\n",
       "</table>\n",
       "</div>"
      ],
      "text/plain": [
       "             name                id               createdTime\n",
       "0  Test Portfolio  MP54T92ZF3K103F4  2019-02-15T21:18:03.152Z"
      ]
     },
     "execution_count": 42,
     "metadata": {},
     "output_type": "execute_result"
    }
   ],
   "source": [
    "sess.get_many_portfolios(return_df=True, limit=50) \\\n",
    "    .sort_values('createdTime', ascending=False)[['name', 'id', 'createdTime']].head(1)"
   ]
  },
  {
   "cell_type": "markdown",
   "metadata": {},
   "source": [
    "#### Or search by name"
   ]
  },
  {
   "cell_type": "code",
   "execution_count": 47,
   "metadata": {},
   "outputs": [
    {
     "data": {
      "text/html": [
       "<div>\n",
       "<style scoped>\n",
       "    .dataframe tbody tr th:only-of-type {\n",
       "        vertical-align: middle;\n",
       "    }\n",
       "\n",
       "    .dataframe tbody tr th {\n",
       "        vertical-align: top;\n",
       "    }\n",
       "\n",
       "    .dataframe thead th {\n",
       "        text-align: right;\n",
       "    }\n",
       "</style>\n",
       "<table border=\"1\" class=\"dataframe\">\n",
       "  <thead>\n",
       "    <tr style=\"text-align: right;\">\n",
       "      <th></th>\n",
       "      <th>name</th>\n",
       "      <th>id</th>\n",
       "      <th>createdTime</th>\n",
       "    </tr>\n",
       "  </thead>\n",
       "  <tbody>\n",
       "    <tr>\n",
       "      <th>0</th>\n",
       "      <td>Test Portfolio</td>\n",
       "      <td>MP54T92ZF3K103F4</td>\n",
       "      <td>2019-02-15T21:18:03.152Z</td>\n",
       "    </tr>\n",
       "  </tbody>\n",
       "</table>\n",
       "</div>"
      ],
      "text/plain": [
       "             name                id               createdTime\n",
       "0  Test Portfolio  MP54T92ZF3K103F4  2019-02-15T21:18:03.152Z"
      ]
     },
     "execution_count": 47,
     "metadata": {},
     "output_type": "execute_result"
    }
   ],
   "source": [
    "sess.search_portfolios(q='Test Portfolio',\n",
    "                       name='Test Portfolio',\n",
    "                       return_df=True)[['name', 'id', 'createdTime']]"
   ]
  },
  {
   "cell_type": "markdown",
   "metadata": {},
   "source": [
    "#### And retreive the reports we just generated"
   ]
  },
  {
   "cell_type": "code",
   "execution_count": 48,
   "metadata": {},
   "outputs": [],
   "source": [
    "portfolio_id = 'MP54T92ZF3K103F4'\n",
    "ppa_report = sess.search_reports(q=portfolio_id,\n",
    "                 positionSourceId=portfolio_id,\n",
    "                 reportType='Portfolio Performance Analytics')['results'][0]\n",
    "\n",
    "pfr_report = sess.search_reports(q=portfolio_id,\n",
    "                 positionSourceId=portfolio_id,\n",
    "                 reportType='Portfolio Factor Risk')['results'][0]"
   ]
  },
  {
   "cell_type": "code",
   "execution_count": 62,
   "metadata": {},
   "outputs": [],
   "source": [
    "ppa_data = sess.get_data(dataSetId='PPA',\n",
    "                         reportId=ppa_report['id'],\n",
    "                         startDate='2000-01-01',\n",
    "                         endDate='2020-12-31',\n",
    "                         return_df=True)\n",
    "\n",
    "pfr_data = sess.get_data(dataSetId='PFR',\n",
    "                         reportId=pfr_report['id'],\n",
    "                         startDate='2000-01-01',\n",
    "                         endDate='2020-12-31',\n",
    "                         return_df=True)"
   ]
  },
  {
   "cell_type": "markdown",
   "metadata": {},
   "source": [
    "#### View Portfolio Performance Analytics data"
   ]
  },
  {
   "cell_type": "code",
   "execution_count": 63,
   "metadata": {
    "scrolled": true
   },
   "outputs": [
    {
     "data": {
      "text/html": [
       "<div>\n",
       "<style scoped>\n",
       "    .dataframe tbody tr th:only-of-type {\n",
       "        vertical-align: middle;\n",
       "    }\n",
       "\n",
       "    .dataframe tbody tr th {\n",
       "        vertical-align: top;\n",
       "    }\n",
       "\n",
       "    .dataframe thead th {\n",
       "        text-align: right;\n",
       "    }\n",
       "</style>\n",
       "<table border=\"1\" class=\"dataframe\">\n",
       "  <thead>\n",
       "    <tr style=\"text-align: right;\">\n",
       "      <th></th>\n",
       "      <th>assetCount</th>\n",
       "      <th>assetCountLong</th>\n",
       "      <th>assetCountShort</th>\n",
       "      <th>date</th>\n",
       "      <th>grossExposure</th>\n",
       "      <th>longExposure</th>\n",
       "      <th>netExposure</th>\n",
       "      <th>pnl</th>\n",
       "      <th>reportId</th>\n",
       "      <th>reportRunTime</th>\n",
       "      <th>servicingCostLongPnl</th>\n",
       "      <th>servicingCostShortPnl</th>\n",
       "      <th>shortExposure</th>\n",
       "      <th>tradingCostPnl</th>\n",
       "      <th>tradingPnl</th>\n",
       "      <th>turnover</th>\n",
       "    </tr>\n",
       "  </thead>\n",
       "  <tbody>\n",
       "    <tr>\n",
       "      <th>0</th>\n",
       "      <td>30.0</td>\n",
       "      <td>30.0</td>\n",
       "      <td>0.0</td>\n",
       "      <td>2019-01-28</td>\n",
       "      <td>9583192.80</td>\n",
       "      <td>9583192.80</td>\n",
       "      <td>9583192.80</td>\n",
       "      <td>-7666.554240</td>\n",
       "      <td>RPZCC0TSHNDDHPGX</td>\n",
       "      <td>2019-02-15T21:25:58Z</td>\n",
       "      <td>0.0</td>\n",
       "      <td>0.0</td>\n",
       "      <td>0.0</td>\n",
       "      <td>-7.666554e+03</td>\n",
       "      <td>-7.666554e+03</td>\n",
       "      <td>9.583193e+06</td>\n",
       "    </tr>\n",
       "    <tr>\n",
       "      <th>1</th>\n",
       "      <td>30.0</td>\n",
       "      <td>30.0</td>\n",
       "      <td>0.0</td>\n",
       "      <td>2019-01-29</td>\n",
       "      <td>9599163.29</td>\n",
       "      <td>9599163.29</td>\n",
       "      <td>9599163.29</td>\n",
       "      <td>15970.490000</td>\n",
       "      <td>RPZCC0TSHNDDHPGX</td>\n",
       "      <td>2019-02-15T21:25:58Z</td>\n",
       "      <td>0.0</td>\n",
       "      <td>0.0</td>\n",
       "      <td>0.0</td>\n",
       "      <td>-5.587940e-13</td>\n",
       "      <td>-5.587940e-13</td>\n",
       "      <td>6.980000e-10</td>\n",
       "    </tr>\n",
       "    <tr>\n",
       "      <th>2</th>\n",
       "      <td>30.0</td>\n",
       "      <td>30.0</td>\n",
       "      <td>0.0</td>\n",
       "      <td>2019-01-30</td>\n",
       "      <td>9730429.09</td>\n",
       "      <td>9730429.09</td>\n",
       "      <td>9730429.09</td>\n",
       "      <td>131265.800000</td>\n",
       "      <td>RPZCC0TSHNDDHPGX</td>\n",
       "      <td>2019-02-15T21:25:58Z</td>\n",
       "      <td>0.0</td>\n",
       "      <td>0.0</td>\n",
       "      <td>0.0</td>\n",
       "      <td>-4.656610e-13</td>\n",
       "      <td>-4.656610e-13</td>\n",
       "      <td>5.820000e-10</td>\n",
       "    </tr>\n",
       "    <tr>\n",
       "      <th>3</th>\n",
       "      <td>30.0</td>\n",
       "      <td>30.0</td>\n",
       "      <td>0.0</td>\n",
       "      <td>2019-01-31</td>\n",
       "      <td>9729706.76</td>\n",
       "      <td>9729706.76</td>\n",
       "      <td>9729706.76</td>\n",
       "      <td>2102.848048</td>\n",
       "      <td>RPZCC0TSHNDDHPGX</td>\n",
       "      <td>2019-02-15T21:25:58Z</td>\n",
       "      <td>0.0</td>\n",
       "      <td>0.0</td>\n",
       "      <td>0.0</td>\n",
       "      <td>-2.261952e+00</td>\n",
       "      <td>-2.261952e+00</td>\n",
       "      <td>2.827440e+03</td>\n",
       "    </tr>\n",
       "  </tbody>\n",
       "</table>\n",
       "</div>"
      ],
      "text/plain": [
       "   assetCount  assetCountLong  assetCountShort        date  grossExposure  \\\n",
       "0        30.0            30.0              0.0  2019-01-28     9583192.80   \n",
       "1        30.0            30.0              0.0  2019-01-29     9599163.29   \n",
       "2        30.0            30.0              0.0  2019-01-30     9730429.09   \n",
       "3        30.0            30.0              0.0  2019-01-31     9729706.76   \n",
       "\n",
       "   longExposure  netExposure            pnl          reportId  \\\n",
       "0    9583192.80   9583192.80   -7666.554240  RPZCC0TSHNDDHPGX   \n",
       "1    9599163.29   9599163.29   15970.490000  RPZCC0TSHNDDHPGX   \n",
       "2    9730429.09   9730429.09  131265.800000  RPZCC0TSHNDDHPGX   \n",
       "3    9729706.76   9729706.76    2102.848048  RPZCC0TSHNDDHPGX   \n",
       "\n",
       "          reportRunTime  servicingCostLongPnl  servicingCostShortPnl  \\\n",
       "0  2019-02-15T21:25:58Z                   0.0                    0.0   \n",
       "1  2019-02-15T21:25:58Z                   0.0                    0.0   \n",
       "2  2019-02-15T21:25:58Z                   0.0                    0.0   \n",
       "3  2019-02-15T21:25:58Z                   0.0                    0.0   \n",
       "\n",
       "   shortExposure  tradingCostPnl    tradingPnl      turnover  \n",
       "0            0.0   -7.666554e+03 -7.666554e+03  9.583193e+06  \n",
       "1            0.0   -5.587940e-13 -5.587940e-13  6.980000e-10  \n",
       "2            0.0   -4.656610e-13 -4.656610e-13  5.820000e-10  \n",
       "3            0.0   -2.261952e+00 -2.261952e+00  2.827440e+03  "
      ]
     },
     "execution_count": 63,
     "metadata": {},
     "output_type": "execute_result"
    }
   ],
   "source": [
    "ppa_data.head()"
   ]
  },
  {
   "cell_type": "markdown",
   "metadata": {},
   "source": [
    "#### View Portfolio Factor Risk data"
   ]
  },
  {
   "cell_type": "code",
   "execution_count": 64,
   "metadata": {
    "scrolled": true
   },
   "outputs": [
    {
     "data": {
      "text/html": [
       "<div>\n",
       "<style scoped>\n",
       "    .dataframe tbody tr th:only-of-type {\n",
       "        vertical-align: middle;\n",
       "    }\n",
       "\n",
       "    .dataframe tbody tr th {\n",
       "        vertical-align: top;\n",
       "    }\n",
       "\n",
       "    .dataframe thead th {\n",
       "        text-align: right;\n",
       "    }\n",
       "</style>\n",
       "<table border=\"1\" class=\"dataframe\">\n",
       "  <thead>\n",
       "    <tr style=\"text-align: right;\">\n",
       "      <th></th>\n",
       "      <th>annualRisk</th>\n",
       "      <th>dailyRisk</th>\n",
       "      <th>date</th>\n",
       "      <th>exposure</th>\n",
       "      <th>factor</th>\n",
       "      <th>factorCategory</th>\n",
       "      <th>mctr</th>\n",
       "      <th>pnl</th>\n",
       "      <th>reportId</th>\n",
       "      <th>reportRunTime</th>\n",
       "      <th>sensitivity</th>\n",
       "    </tr>\n",
       "  </thead>\n",
       "  <tbody>\n",
       "    <tr>\n",
       "      <th>0</th>\n",
       "      <td>NaN</td>\n",
       "      <td>NaN</td>\n",
       "      <td>2019-01-29</td>\n",
       "      <td>9599163.29</td>\n",
       "      <td>1006</td>\n",
       "      <td>Market</td>\n",
       "      <td>1.001358</td>\n",
       "      <td>-10249.481711</td>\n",
       "      <td>RP3CYPKQGTPWN4NA</td>\n",
       "      <td>2019-02-15T21:26:43Z</td>\n",
       "      <td>104552.654254</td>\n",
       "    </tr>\n",
       "    <tr>\n",
       "      <th>1</th>\n",
       "      <td>NaN</td>\n",
       "      <td>NaN</td>\n",
       "      <td>2019-01-30</td>\n",
       "      <td>9730429.09</td>\n",
       "      <td>1006</td>\n",
       "      <td>Market</td>\n",
       "      <td>1.000098</td>\n",
       "      <td>121330.969518</td>\n",
       "      <td>RP3CYPKQGTPWN4NA</td>\n",
       "      <td>2019-02-15T21:26:43Z</td>\n",
       "      <td>105971.888507</td>\n",
       "    </tr>\n",
       "    <tr>\n",
       "      <th>2</th>\n",
       "      <td>NaN</td>\n",
       "      <td>NaN</td>\n",
       "      <td>2019-01-31</td>\n",
       "      <td>9729706.76</td>\n",
       "      <td>1006</td>\n",
       "      <td>Market</td>\n",
       "      <td>1.002974</td>\n",
       "      <td>84854.847852</td>\n",
       "      <td>RP3CYPKQGTPWN4NA</td>\n",
       "      <td>2019-02-15T21:26:43Z</td>\n",
       "      <td>106272.012355</td>\n",
       "    </tr>\n",
       "    <tr>\n",
       "      <th>3</th>\n",
       "      <td>NaN</td>\n",
       "      <td>NaN</td>\n",
       "      <td>2019-01-29</td>\n",
       "      <td>600680.19</td>\n",
       "      <td>142</td>\n",
       "      <td>IND</td>\n",
       "      <td>0.005784</td>\n",
       "      <td>10420.891678</td>\n",
       "      <td>RP3CYPKQGTPWN4NA</td>\n",
       "      <td>2019-02-15T21:26:43Z</td>\n",
       "      <td>4349.148253</td>\n",
       "    </tr>\n",
       "    <tr>\n",
       "      <th>4</th>\n",
       "      <td>NaN</td>\n",
       "      <td>NaN</td>\n",
       "      <td>2019-01-30</td>\n",
       "      <td>622300.76</td>\n",
       "      <td>142</td>\n",
       "      <td>IND</td>\n",
       "      <td>0.006079</td>\n",
       "      <td>-1977.254534</td>\n",
       "      <td>RP3CYPKQGTPWN4NA</td>\n",
       "      <td>2019-02-15T21:26:43Z</td>\n",
       "      <td>4476.362799</td>\n",
       "    </tr>\n",
       "  </tbody>\n",
       "</table>\n",
       "</div>"
      ],
      "text/plain": [
       "   annualRisk  dailyRisk        date    exposure factor factorCategory  \\\n",
       "0         NaN        NaN  2019-01-29  9599163.29   1006         Market   \n",
       "1         NaN        NaN  2019-01-30  9730429.09   1006         Market   \n",
       "2         NaN        NaN  2019-01-31  9729706.76   1006         Market   \n",
       "3         NaN        NaN  2019-01-29   600680.19    142            IND   \n",
       "4         NaN        NaN  2019-01-30   622300.76    142            IND   \n",
       "\n",
       "       mctr            pnl          reportId         reportRunTime  \\\n",
       "0  1.001358  -10249.481711  RP3CYPKQGTPWN4NA  2019-02-15T21:26:43Z   \n",
       "1  1.000098  121330.969518  RP3CYPKQGTPWN4NA  2019-02-15T21:26:43Z   \n",
       "2  1.002974   84854.847852  RP3CYPKQGTPWN4NA  2019-02-15T21:26:43Z   \n",
       "3  0.005784   10420.891678  RP3CYPKQGTPWN4NA  2019-02-15T21:26:43Z   \n",
       "4  0.006079   -1977.254534  RP3CYPKQGTPWN4NA  2019-02-15T21:26:43Z   \n",
       "\n",
       "     sensitivity  \n",
       "0  104552.654254  \n",
       "1  105971.888507  \n",
       "2  106272.012355  \n",
       "3    4349.148253  \n",
       "4    4476.362799  "
      ]
     },
     "execution_count": 64,
     "metadata": {},
     "output_type": "execute_result"
    }
   ],
   "source": [
    "pfr_data.head()"
   ]
  },
  {
   "cell_type": "markdown",
   "metadata": {},
   "source": [
    "Plot cumulative P&L and exposure over time"
   ]
  },
  {
   "cell_type": "code",
   "execution_count": 66,
   "metadata": {
    "scrolled": false
   },
   "outputs": [
    {
     "data": {
      "image/png": "[encoded data removed]",
      "text/plain": [
       "<Figure size 1080x360 with 1 Axes>"
      ]
     },
     "metadata": {
      "needs_background": "light"
     },
     "output_type": "display_data"
    },
    {
     "data": {
      "image/png": "[encoded data removed]",
      "text/plain": [
       "<Figure size 1080x360 with 1 Axes>"
      ]
     },
     "metadata": {
      "needs_background": "light"
     },
     "output_type": "display_data"
    }
   ],
   "source": [
    "ppa_pnl_cols = [col for col in ppa_data.columns if 'pnl' in col.lower()]\n",
    "for col in ppa_pnl_cols:\n",
    "    ppa_data['cum_{}'.format(col)] = ppa_data[col].cumsum()\n",
    "ppa_data['cum_total_pnl'] = ppa_data['cum_pnl'] + ppa_data['cum_tradingPnl']\n",
    "ppa_data.plot(x='date', y=['cum_pnl', 'cum_total_pnl'], figsize=(15,5),\n",
    "              title='Cumulative PnL including trading costs')\n",
    "ppa_data.plot(x='date', y=['grossExposure',\n",
    "                           'longExposure',\n",
    "                           'netExposure'], figsize=(15,5),\n",
    "              title='Exposure')\n",
    "plt.show()"
   ]
  },
  {
   "cell_type": "markdown",
   "metadata": {},
   "source": [
    "Close the session"
   ]
  },
  {
   "cell_type": "code",
   "execution_count": null,
   "metadata": {},
   "outputs": [],
   "source": [
    "sess.close_session()"
   ]
  }
 ],
 "metadata": {
  "kernelspec": {
   "display_name": "Python 3",
   "language": "python",
   "name": "python3"
  },
  "language_info": {
   "codemirror_mode": {
    "name": "ipython",
    "version": 3
   },
   "file_extension": ".py",
   "mimetype": "text/x-python",
   "name": "python",
   "nbconvert_exporter": "python",
   "pygments_lexer": "ipython3",
   "version": "3.7.2"
  }
 },
 "nbformat": 4,
 "nbformat_minor": 2
}
