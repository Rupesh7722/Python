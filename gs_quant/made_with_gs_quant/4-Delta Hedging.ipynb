{
 "cells": [
  {
   "cell_type": "markdown",
   "metadata": {},
   "source": [
    "## Delta Hedging\n",
    "\n",
    "### Summary \n",
    "\n",
    "Being short volatility would hasn't been profitable in this period of extreme implied and realized volatility movements but may be an interesting entry point for some. \n",
    "\n",
    "In this note I take a further look at this strategy and extend it with delta hedging to understand how it can impact performance.\n",
    "\n",
    "Each day I sell a 1m10y straddle (like last time) - but this time I also trade a swap with a matched effective date and termination date to hedge my delta. Each day I unwind the previous day's swap and trade into a new one.\n",
    "\n",
    "I examine premium collected at inception, payout on option expiry and mark-to-market over the life of the trade to compare the two strategies.\n",
    "\n",
    "Look out for future publications where I will build on this analysis further by adding transaction costs and analyzing performance accross strategies.\n",
    "\n",
    "The content of this notebook is split into:\n",
    "* [1 - Let's get started with gs quant](#1---Let's-get-started-with-gs-quant)\n",
    "* [2 - Create portfolio](#2---Create-portfolio)\n",
    "* [3 - Grab the data](#3---Grab-the-data)\n",
    "* [4 - Putting it all together](#4---Putting-it-all-together)"
   ]
  },
  {
   "cell_type": "markdown",
   "metadata": {},
   "source": [
    "### 1 - Let's get started with gs quant\n",
    "Start every session with authenticating with your unique client id and secret. If you don't have a registered app, create one [here](https://marquee.gs.com/s/developer/myapps/register). `run_analytics` scope is required for the functionality covered in this example. Below produced using gs-quant version 0.8.108."
   ]
  },
  {
   "cell_type": "code",
   "execution_count": 1,
   "metadata": {},
   "outputs": [],
   "source": [
    "from gs_quant.session import GsSession\n",
    "GsSession.use(client_id=None, client_secret=None, scopes=('run_analytics',))"
   ]
  },
  {
   "cell_type": "markdown",
   "metadata": {},
   "source": [
    "### 2 - Create portfolio\n",
    "Just like in our last analysis, let's start by creating a portfolio with a rolling strip of straddles. For each date in our date range (start of 2019 through today), we will construct a 1m10y straddle and include it in our portfolio."
   ]
  },
  {
   "cell_type": "code",
   "execution_count": 2,
   "metadata": {},
   "outputs": [],
   "source": [
    "from gs_quant.markets import HistoricalPricingContext, PricingContext\n",
    "from gs_quant.markets.portfolio import Portfolio\n",
    "from gs_quant.common import Currency, PayReceive\n",
    "from gs_quant.instrument import IRSwaption\n",
    "import datetime as dt\n",
    "\n",
    "start_date = dt.datetime(2019, 1, 1).date()\n",
    "end_date = dt.datetime.today().date()\n",
    "\n",
    "# create and resolve a new straddle on every day of the pricing context\n",
    "with HistoricalPricingContext(start=start_date, end=end_date): \n",
    "    f = IRSwaption(PayReceive.Straddle, '10y', Currency.USD, expiration_date='1m', \n",
    "                   notional_amount=1e8, buy_sell='Sell').resolve(in_place=False)\n",
    "\n",
    "# put resulting swaptions in a portfolio\n",
    "result = f.result().items()\n",
    "portfolio = Portfolio([v[1] for v in sorted(result)])"
   ]
  },
  {
   "cell_type": "markdown",
   "metadata": {},
   "source": [
    "I will now convert the portfolio to a dataframe, extend it with trade dates, format the dates and remove any instruments with a premium payment date after today."
   ]
  },
  {
   "cell_type": "code",
   "execution_count": 3,
   "metadata": {},
   "outputs": [
    {
     "data": {
      "text/html": [
       "<div>\n",
       "<style scoped>\n",
       "    .dataframe tbody tr th:only-of-type {\n",
       "        vertical-align: middle;\n",
       "    }\n",
       "\n",
       "    .dataframe tbody tr th {\n",
       "        vertical-align: top;\n",
       "    }\n",
       "\n",
       "    .dataframe thead th {\n",
       "        text-align: right;\n",
       "    }\n",
       "</style>\n",
       "<table border=\"1\" class=\"dataframe\">\n",
       "  <thead>\n",
       "    <tr style=\"text-align: right;\">\n",
       "      <th></th>\n",
       "      <th>pay_or_receive</th>\n",
       "      <th>premium</th>\n",
       "      <th>notional_currency</th>\n",
       "      <th>buy_sell</th>\n",
       "      <th>notional_amount</th>\n",
       "      <th>floating_rate_spread</th>\n",
       "      <th>expiration_date</th>\n",
       "      <th>asset_class</th>\n",
       "      <th>fixed_rate_day_count_fraction</th>\n",
       "      <th>fixed_rate_business_day_convention</th>\n",
       "      <th>...</th>\n",
       "      <th>settlement</th>\n",
       "      <th>fixed_rate_frequency</th>\n",
       "      <th>strike</th>\n",
       "      <th>type</th>\n",
       "      <th>fee_payment_date</th>\n",
       "      <th>effective_date</th>\n",
       "      <th>termination_date</th>\n",
       "      <th>floating_rate_business_day_convention</th>\n",
       "      <th>fee_currency</th>\n",
       "      <th>trade_date</th>\n",
       "    </tr>\n",
       "    <tr>\n",
       "      <th>instrument</th>\n",
       "      <th></th>\n",
       "      <th></th>\n",
       "      <th></th>\n",
       "      <th></th>\n",
       "      <th></th>\n",
       "      <th></th>\n",
       "      <th></th>\n",
       "      <th></th>\n",
       "      <th></th>\n",
       "      <th></th>\n",
       "      <th></th>\n",
       "      <th></th>\n",
       "      <th></th>\n",
       "      <th></th>\n",
       "      <th></th>\n",
       "      <th></th>\n",
       "      <th></th>\n",
       "      <th></th>\n",
       "      <th></th>\n",
       "      <th></th>\n",
       "      <th></th>\n",
       "    </tr>\n",
       "  </thead>\n",
       "  <tbody>\n",
       "    <tr>\n",
       "      <th>&lt;gs_quant.target.instrument.IRSwaption object at 0x000000000F490668&gt;</th>\n",
       "      <td>Straddle</td>\n",
       "      <td>0.0</td>\n",
       "      <td>Currency.USD</td>\n",
       "      <td>BuySell.Sell</td>\n",
       "      <td>100000000.0</td>\n",
       "      <td>0.0</td>\n",
       "      <td>2019-02-01</td>\n",
       "      <td>AssetClass.Rates</td>\n",
       "      <td>DayCountFraction._30_OVER_360</td>\n",
       "      <td>BusinessDayConvention.Modified_Following</td>\n",
       "      <td>...</td>\n",
       "      <td>SwapSettlement.Phys_CLEARED</td>\n",
       "      <td>6m</td>\n",
       "      <td>0.027521</td>\n",
       "      <td>AssetType.Swaption</td>\n",
       "      <td>2019-01-03</td>\n",
       "      <td>2019-02-05</td>\n",
       "      <td>2029-02-05</td>\n",
       "      <td>BusinessDayConvention.Modified_Following</td>\n",
       "      <td>Currency.USD</td>\n",
       "      <td>2019-01-01</td>\n",
       "    </tr>\n",
       "    <tr>\n",
       "      <th>&lt;gs_quant.target.instrument.IRSwaption object at 0x000000000F5AB2E8&gt;</th>\n",
       "      <td>Straddle</td>\n",
       "      <td>0.0</td>\n",
       "      <td>Currency.USD</td>\n",
       "      <td>BuySell.Sell</td>\n",
       "      <td>100000000.0</td>\n",
       "      <td>0.0</td>\n",
       "      <td>2019-02-04</td>\n",
       "      <td>AssetClass.Rates</td>\n",
       "      <td>DayCountFraction._30_OVER_360</td>\n",
       "      <td>BusinessDayConvention.Modified_Following</td>\n",
       "      <td>...</td>\n",
       "      <td>SwapSettlement.Phys_CLEARED</td>\n",
       "      <td>6m</td>\n",
       "      <td>0.027023</td>\n",
       "      <td>AssetType.Swaption</td>\n",
       "      <td>2019-01-04</td>\n",
       "      <td>2019-02-06</td>\n",
       "      <td>2029-02-06</td>\n",
       "      <td>BusinessDayConvention.Modified_Following</td>\n",
       "      <td>Currency.USD</td>\n",
       "      <td>2019-01-02</td>\n",
       "    </tr>\n",
       "  </tbody>\n",
       "</table>\n",
       "<p>2 rows × 26 columns</p>\n",
       "</div>"
      ],
      "text/plain": [
       "                                                   pay_or_receive  premium  \\\n",
       "instrument                                                                   \n",
       "<gs_quant.target.instrument.IRSwaption object a...       Straddle      0.0   \n",
       "<gs_quant.target.instrument.IRSwaption object a...       Straddle      0.0   \n",
       "\n",
       "                                                   notional_currency  \\\n",
       "instrument                                                             \n",
       "<gs_quant.target.instrument.IRSwaption object a...      Currency.USD   \n",
       "<gs_quant.target.instrument.IRSwaption object a...      Currency.USD   \n",
       "\n",
       "                                                        buy_sell  \\\n",
       "instrument                                                         \n",
       "<gs_quant.target.instrument.IRSwaption object a...  BuySell.Sell   \n",
       "<gs_quant.target.instrument.IRSwaption object a...  BuySell.Sell   \n",
       "\n",
       "                                                    notional_amount  \\\n",
       "instrument                                                            \n",
       "<gs_quant.target.instrument.IRSwaption object a...      100000000.0   \n",
       "<gs_quant.target.instrument.IRSwaption object a...      100000000.0   \n",
       "\n",
       "                                                    floating_rate_spread  \\\n",
       "instrument                                                                 \n",
       "<gs_quant.target.instrument.IRSwaption object a...                   0.0   \n",
       "<gs_quant.target.instrument.IRSwaption object a...                   0.0   \n",
       "\n",
       "                                                   expiration_date  \\\n",
       "instrument                                                           \n",
       "<gs_quant.target.instrument.IRSwaption object a...      2019-02-01   \n",
       "<gs_quant.target.instrument.IRSwaption object a...      2019-02-04   \n",
       "\n",
       "                                                         asset_class  \\\n",
       "instrument                                                             \n",
       "<gs_quant.target.instrument.IRSwaption object a...  AssetClass.Rates   \n",
       "<gs_quant.target.instrument.IRSwaption object a...  AssetClass.Rates   \n",
       "\n",
       "                                                    fixed_rate_day_count_fraction  \\\n",
       "instrument                                                                          \n",
       "<gs_quant.target.instrument.IRSwaption object a...  DayCountFraction._30_OVER_360   \n",
       "<gs_quant.target.instrument.IRSwaption object a...  DayCountFraction._30_OVER_360   \n",
       "\n",
       "                                                          fixed_rate_business_day_convention  \\\n",
       "instrument                                                                                     \n",
       "<gs_quant.target.instrument.IRSwaption object a...  BusinessDayConvention.Modified_Following   \n",
       "<gs_quant.target.instrument.IRSwaption object a...  BusinessDayConvention.Modified_Following   \n",
       "\n",
       "                                                    ...  \\\n",
       "instrument                                          ...   \n",
       "<gs_quant.target.instrument.IRSwaption object a...  ...   \n",
       "<gs_quant.target.instrument.IRSwaption object a...  ...   \n",
       "\n",
       "                                                                     settlement  \\\n",
       "instrument                                                                        \n",
       "<gs_quant.target.instrument.IRSwaption object a...  SwapSettlement.Phys_CLEARED   \n",
       "<gs_quant.target.instrument.IRSwaption object a...  SwapSettlement.Phys_CLEARED   \n",
       "\n",
       "                                                   fixed_rate_frequency  \\\n",
       "instrument                                                                \n",
       "<gs_quant.target.instrument.IRSwaption object a...                   6m   \n",
       "<gs_quant.target.instrument.IRSwaption object a...                   6m   \n",
       "\n",
       "                                                      strike  \\\n",
       "instrument                                                     \n",
       "<gs_quant.target.instrument.IRSwaption object a...  0.027521   \n",
       "<gs_quant.target.instrument.IRSwaption object a...  0.027023   \n",
       "\n",
       "                                                                  type  \\\n",
       "instrument                                                               \n",
       "<gs_quant.target.instrument.IRSwaption object a...  AssetType.Swaption   \n",
       "<gs_quant.target.instrument.IRSwaption object a...  AssetType.Swaption   \n",
       "\n",
       "                                                   fee_payment_date  \\\n",
       "instrument                                                            \n",
       "<gs_quant.target.instrument.IRSwaption object a...       2019-01-03   \n",
       "<gs_quant.target.instrument.IRSwaption object a...       2019-01-04   \n",
       "\n",
       "                                                    effective_date  \\\n",
       "instrument                                                           \n",
       "<gs_quant.target.instrument.IRSwaption object a...      2019-02-05   \n",
       "<gs_quant.target.instrument.IRSwaption object a...      2019-02-06   \n",
       "\n",
       "                                                   termination_date  \\\n",
       "instrument                                                            \n",
       "<gs_quant.target.instrument.IRSwaption object a...       2029-02-05   \n",
       "<gs_quant.target.instrument.IRSwaption object a...       2029-02-06   \n",
       "\n",
       "                                                       floating_rate_business_day_convention  \\\n",
       "instrument                                                                                     \n",
       "<gs_quant.target.instrument.IRSwaption object a...  BusinessDayConvention.Modified_Following   \n",
       "<gs_quant.target.instrument.IRSwaption object a...  BusinessDayConvention.Modified_Following   \n",
       "\n",
       "                                                    fee_currency  trade_date  \n",
       "instrument                                                                    \n",
       "<gs_quant.target.instrument.IRSwaption object a...  Currency.USD  2019-01-01  \n",
       "<gs_quant.target.instrument.IRSwaption object a...  Currency.USD  2019-01-02  \n",
       "\n",
       "[2 rows x 26 columns]"
      ]
     },
     "execution_count": 3,
     "metadata": {},
     "output_type": "execute_result"
    }
   ],
   "source": [
    "frame = portfolio.to_frame()\n",
    "\n",
    "# extend dataframe with trade dates\n",
    "trade_dates = {value:key for key, value in result}\n",
    "frame['trade_date'] = frame.apply(lambda x: trade_dates[x.name], axis=1)\n",
    "\n",
    "# apply formatting to represent dates as date type rather than string\n",
    "frame.premium_payment_date = frame.premium_payment_date.apply(\n",
    "    lambda x: dt.datetime.strptime(x, '%Y-%m-%d').date())\n",
    "frame.expiration_date = frame.expiration_date.apply(\n",
    "    lambda x: dt.datetime.strptime(x, '%Y-%m-%d').date())\n",
    "\n",
    "# filter any swaptions with premium date larger than today\n",
    "frame = frame[frame.premium_payment_date < dt.datetime.today().date()]\n",
    "frame.head(2)"
   ]
  },
  {
   "cell_type": "markdown",
   "metadata": {},
   "source": [
    "### 3 - Grab the Data\n",
    "\n",
    "Now the fun part - we need to calculate a lot of datapoints for this backtest. \n",
    "\n",
    "For each straddle, we need to define a new swap every day and price it the following day when we unwind it. This means about 36,000 points (~300 instruments * 30 days * 4 measures (swaption price, swaption delta, swap price, swap delta)).\n",
    "\n",
    "Like last time I will compute as much as I can asyncrously and keep track of the futures for each measure. To learn more about async and other compute controls and how to use them, please see our [pricing context guide](https://developer.gs.com/docs/gsquant/guides/Pricing-and-Risk/pricing-context/). \n",
    "\n",
    "I'll start by getting the prices and delta for the swaptions first."
   ]
  },
  {
   "cell_type": "code",
   "execution_count": 11,
   "metadata": {},
   "outputs": [],
   "source": [
    "from gs_quant.risk import IRDeltaParallel\n",
    "\n",
    "# insert columns in our frame to track the futures\n",
    "frame['so_price_f'] = len(frame) * [None]\n",
    "frame['so_delta_f'] = len(frame) * [None]\n",
    "\n",
    "# compute price and delta for each of the swaptions\n",
    "with PricingContext(is_batch=True):\n",
    "    # use an outer pricing context to batch up the requests\n",
    "    for inst, row in frame.iterrows():\n",
    "        with HistoricalPricingContext(start=row.trade_date, \n",
    "                                      end=min(row.expiration_date, dt.datetime.today().date()), \n",
    "                                      is_async=True):\n",
    "            so_price = inst.price()\n",
    "            so_delta = inst.calc(IRDeltaParallel)        \n",
    "            \n",
    "        frame.at[inst, 'so_price_f'] = so_price\n",
    "        frame.at[inst, 'so_delta_f'] = so_delta"
   ]
  },
  {
   "cell_type": "markdown",
   "metadata": {},
   "source": [
    "Easy enough. I will now do the same for the swaps which I will use to delta hedge. Note instead of pricing the same already resolved swaption each day, here I create and price a new swap each day which will reflect that's day's ATM rate and matches the effective date and termination date of the corresponding swaption."
   ]
  },
  {
   "cell_type": "code",
   "execution_count": 14,
   "metadata": {},
   "outputs": [],
   "source": [
    "from gs_quant.instrument import IRSwap\n",
    "\n",
    "# insert columns in our frame to track the futures\n",
    "frame['s_f'] = len(frame) * [None]\n",
    "frame['s_delta_f'] = len(frame) * [None]\n",
    "\n",
    "with PricingContext(is_batch=True):\n",
    "    # use an outer pricing context to batch up the requests\n",
    "    for inst, row in frame.iterrows():\n",
    "        swap = IRSwap(PayReceive.Pay, row.termination_date, Currency.USD, \n",
    "                      effective_date=row.effective_date, fixed_rate='ATMF', notional_amount=1e8)\n",
    "        \n",
    "        with HistoricalPricingContext(start=row.trade_date, \n",
    "                                      end=min(row.expiration_date, dt.datetime.today().date()), \n",
    "                                      is_async=True):\n",
    "            # track the resolved swap - we will need to price it when we unwind following day\n",
    "            s = swap.resolve(in_place=False)\n",
    "            s_delta = swap.calc(IRDeltaParallel)\n",
    "            \n",
    "        frame.at[inst, 's_f'] = s\n",
    "        frame.at[inst, 's_delta_f'] = s_delta"
   ]
  },
  {
   "cell_type": "markdown",
   "metadata": {},
   "source": [
    "In the above request, we created a new resolved swaption for each day but we still need to price it the following day when we unwind it. In the below, I collect the resolved swaps from the previous request and price lagged 1 day - that is, the following day."
   ]
  },
  {
   "cell_type": "code",
   "execution_count": 13,
   "metadata": {},
   "outputs": [],
   "source": [
    "from gs_quant.markets import PricingContext\n",
    "from gs_quant.timeseries import lag\n",
    "import pandas as pd\n",
    "\n",
    "swaps = lag(pd.concat([pd.Series(row.s_f.result(), name=row.name) for _, row in frame.iterrows()], \n",
    "                      axis=1, sort=True), 1)\n",
    "g = {}\n",
    "with PricingContext(is_batch=True):\n",
    "    for date, row in swaps.iterrows():\n",
    "        with PricingContext(date, is_async=True):\n",
    "            prices = {k: p if isinstance(p, float) else p.price() for k, p in row.iteritems()}\n",
    "        g[date] = prices\n",
    "        \n",
    "swap_prices = pd.DataFrame(g).T"
   ]
  },
  {
   "cell_type": "markdown",
   "metadata": {},
   "source": [
    "Finally, let's collect all the points and do some arithmetic to create a timeseries for each swaption. I will create two frames - one for the simple vol selling strategy and one taking into account the changing delta hedge."
   ]
  },
  {
   "cell_type": "code",
   "execution_count": 7,
   "metadata": {},
   "outputs": [
    {
     "ename": "TypeError",
     "evalue": "cannot concatenate object of type '<class 'gs_quant.risk.core.FloatWithInfo'>'; only Series and DataFrame objs are valid",
     "output_type": "error",
     "traceback": [
      "\u001b[1;31m---------------------------------------------------------------------------\u001b[0m",
      "\u001b[1;31mTypeError\u001b[0m                                 Traceback (most recent call last)",
      "\u001b[1;32m<ipython-input-7-b733877dfcbc>\u001b[0m in \u001b[0;36m<module>\u001b[1;34m\u001b[0m\n\u001b[0;32m      7\u001b[0m                               pd.Series({k: v.result() for k, v in swap_prices[inst].iteritems() \n\u001b[0;32m      8\u001b[0m                                          if not isinstance(v, float)}), \n\u001b[1;32m----> 9\u001b[1;33m                               row.s_delta_f.result()], axis=1, sort=True)\n\u001b[0m\u001b[0;32m     10\u001b[0m     \u001b[0mtotal_result\u001b[0m\u001b[1;33m.\u001b[0m\u001b[0mcolumns\u001b[0m \u001b[1;33m=\u001b[0m \u001b[1;33m[\u001b[0m\u001b[1;34m'swaption_prices'\u001b[0m\u001b[1;33m,\u001b[0m \u001b[1;34m'swaption_delta'\u001b[0m\u001b[1;33m,\u001b[0m \u001b[1;34m'swap_bought_prices'\u001b[0m\u001b[1;33m,\u001b[0m \u001b[1;34m'swap_sold_delta'\u001b[0m\u001b[1;33m]\u001b[0m\u001b[1;33m\u001b[0m\u001b[1;33m\u001b[0m\u001b[0m\n\u001b[0;32m     11\u001b[0m \u001b[1;33m\u001b[0m\u001b[0m\n",
      "\u001b[1;32mh:\\python\\gs_quant\\venv\\lib\\site-packages\\pandas\\core\\reshape\\concat.py\u001b[0m in \u001b[0;36mconcat\u001b[1;34m(objs, axis, join, ignore_index, keys, levels, names, verify_integrity, sort, copy)\u001b[0m\n\u001b[0;32m    279\u001b[0m         \u001b[0mverify_integrity\u001b[0m\u001b[1;33m=\u001b[0m\u001b[0mverify_integrity\u001b[0m\u001b[1;33m,\u001b[0m\u001b[1;33m\u001b[0m\u001b[1;33m\u001b[0m\u001b[0m\n\u001b[0;32m    280\u001b[0m         \u001b[0mcopy\u001b[0m\u001b[1;33m=\u001b[0m\u001b[0mcopy\u001b[0m\u001b[1;33m,\u001b[0m\u001b[1;33m\u001b[0m\u001b[1;33m\u001b[0m\u001b[0m\n\u001b[1;32m--> 281\u001b[1;33m         \u001b[0msort\u001b[0m\u001b[1;33m=\u001b[0m\u001b[0msort\u001b[0m\u001b[1;33m,\u001b[0m\u001b[1;33m\u001b[0m\u001b[1;33m\u001b[0m\u001b[0m\n\u001b[0m\u001b[0;32m    282\u001b[0m     )\n\u001b[0;32m    283\u001b[0m \u001b[1;33m\u001b[0m\u001b[0m\n",
      "\u001b[1;32mh:\\python\\gs_quant\\venv\\lib\\site-packages\\pandas\\core\\reshape\\concat.py\u001b[0m in \u001b[0;36m__init__\u001b[1;34m(self, objs, axis, join, keys, levels, names, ignore_index, verify_integrity, copy, sort)\u001b[0m\n\u001b[0;32m    355\u001b[0m                     \u001b[1;34m\"only Series and DataFrame objs are valid\"\u001b[0m\u001b[1;33m.\u001b[0m\u001b[0mformat\u001b[0m\u001b[1;33m(\u001b[0m\u001b[0mtyp\u001b[0m\u001b[1;33m=\u001b[0m\u001b[0mtype\u001b[0m\u001b[1;33m(\u001b[0m\u001b[0mobj\u001b[0m\u001b[1;33m)\u001b[0m\u001b[1;33m)\u001b[0m\u001b[1;33m\u001b[0m\u001b[1;33m\u001b[0m\u001b[0m\n\u001b[0;32m    356\u001b[0m                 )\n\u001b[1;32m--> 357\u001b[1;33m                 \u001b[1;32mraise\u001b[0m \u001b[0mTypeError\u001b[0m\u001b[1;33m(\u001b[0m\u001b[0mmsg\u001b[0m\u001b[1;33m)\u001b[0m\u001b[1;33m\u001b[0m\u001b[1;33m\u001b[0m\u001b[0m\n\u001b[0m\u001b[0;32m    358\u001b[0m \u001b[1;33m\u001b[0m\u001b[0m\n\u001b[0;32m    359\u001b[0m             \u001b[1;31m# consolidate\u001b[0m\u001b[1;33m\u001b[0m\u001b[1;33m\u001b[0m\u001b[1;33m\u001b[0m\u001b[0m\n",
      "\u001b[1;31mTypeError\u001b[0m: cannot concatenate object of type '<class 'gs_quant.risk.core.FloatWithInfo'>'; only Series and DataFrame objs are valid"
     ]
    }
   ],
   "source": [
    "not_delta_hedged = []\n",
    "delta_hedged = []\n",
    "\n",
    "for inst, row in frame.iterrows():\n",
    "    # collect all the results\n",
    "    total_result = pd.concat([row.so_price_f.result(), row.so_delta_f.result(), \n",
    "                              pd.Series({k: v.result() for k, v in swap_prices[inst].iteritems() \n",
    "                                         if not isinstance(v, float)}), \n",
    "                              row.s_delta_f.result()], axis=1, sort=True)\n",
    "    total_result.columns = ['swaption_prices', 'swaption_delta', 'swap_bought_prices', 'swap_sold_delta']\n",
    "    \n",
    "    # today's hedge notional will be the ratio of prior day's swaption/swap delta ratio - that's\n",
    "    # how much of the swap we bought to hedge so will use it to scale unwind PV of the swap today\n",
    "    total_result['hedge_notional'] = -lag(total_result.swaption_delta/total_result.swap_sold_delta,1)\n",
    "    total_result = total_result.fillna(0)\n",
    "    \n",
    "    # scale the umwind PV of prior day's swap hedge\n",
    "    total_result['swap_pos'] = total_result['hedge_notional'] * total_result['swap_bought_prices']\n",
    "    \n",
    "    # add to swaption price to get total performance cutting off last time due to the lag\n",
    "    total_result['total_pv'] = total_result['swaption_prices'] + total_result['swap_pos']\n",
    "    \n",
    "    not_delta_hedged.append(pd.Series(total_result['swaption_prices'][:-1], name=inst))\n",
    "    delta_hedged.append(pd.Series(total_result['total_pv'][:-1], name=inst))"
   ]
  },
  {
   "cell_type": "code",
   "execution_count": null,
   "metadata": {},
   "outputs": [],
   "source": [
    "not_delta_hedged = pd.concat(not_delta_hedged, axis=1, sort=True)\n",
    "delta_hedged = pd.concat(delta_hedged, axis=1, sort=True)"
   ]
  },
  {
   "cell_type": "markdown",
   "metadata": {},
   "source": [
    "### 4 - Putting it all together\n",
    "The rest should look similiar - with the portfolio and historical PV's in hand, let's comb through the data to tease out components we want to track: premium collected, payout on expiry and mark-to-mark of the strategy."
   ]
  },
  {
   "cell_type": "code",
   "execution_count": null,
   "metadata": {},
   "outputs": [],
   "source": [
    "from gs_quant.datetime import business_day_offset\n",
    "from collections import defaultdict\n",
    "\n",
    "def get_premia_or_payoff(df, first=True):\n",
    "    p_p = df.apply(lambda series: series.first_valid_index() if first else series.last_valid_index())\n",
    "    g = defaultdict(float)\n",
    "    for i, r in p_p.items():\n",
    "        if isinstance(df[i], pd.Series):\n",
    "            g[r]+=df[i][r]\n",
    "        else:\n",
    "            for _, v in df[i].iteritems():\n",
    "                g[r]+=v[r]\n",
    "        \n",
    "    return pd.Series(g)\n",
    "\n",
    "def analyze_components(ts):\n",
    "    premia = get_premia_or_payoff(ts)\n",
    "    payoffs = get_premia_or_payoff(ts, first=False)\n",
    "    mtm = ts.fillna(0).sum(axis=1)-payoffs\n",
    "\n",
    "    overview = pd.concat([premia.cumsum(), payoffs.cumsum(), mtm], axis=1, sort=False)\n",
    "    overview.columns = ['Premium Received at Inception', 'Paid at Expiry', 'Mark to Market']\n",
    "    overview = overview.sort_index()\n",
    "    overview = overview.fillna(method='ffill')[:business_day_offset(end_date,-2)]\n",
    "    return overview"
   ]
  },
  {
   "cell_type": "code",
   "execution_count": null,
   "metadata": {},
   "outputs": [],
   "source": [
    "import matplotlib.pyplot as plt\n",
    "\n",
    "nd_hedged = analyze_components(not_delta_hedged)\n",
    "nd_hedged.plot(figsize=(12, 8), title='Not Delta Hedged: Cumulative Payoff, Premium and Mark-to-Market')"
   ]
  },
  {
   "cell_type": "markdown",
   "metadata": {},
   "source": [
    "So far so good - you may recognize this image from the last note. Let's now look at the delta hedged backtest and compare them."
   ]
  },
  {
   "cell_type": "code",
   "execution_count": null,
   "metadata": {},
   "outputs": [],
   "source": [
    "d_hedged = analyze_components(delta_hedged)\n",
    "d_hedged.plot(figsize=(12, 8), title='Delta Hedged: Cumulative Payoff, Premium and Mark-to-Market')"
   ]
  },
  {
   "cell_type": "code",
   "execution_count": null,
   "metadata": {},
   "outputs": [],
   "source": [
    "realized_perf = pd.concat([d_hedged['Paid at Expiry']-d_hedged['Premium Received at Inception'],\n",
    "                           nd_hedged['Paid at Expiry']-nd_hedged['Premium Received at Inception']], \n",
    "                           axis=1)\n",
    "realized_perf.columns = ['Delta Hedged', 'Not Delta Hedged']\n",
    "realized_perf.plot(figsize=(12, 8), title='Realized Performance without MTM')"
   ]
  },
  {
   "cell_type": "code",
   "execution_count": null,
   "metadata": {},
   "outputs": [],
   "source": [
    "(realized_perf['Delta Hedged']-realized_perf['Not Delta Hedged']).plot(\n",
    "    figsize=(12, 8), title='Difference in Realized Performance (w/o MTM) Delta Hedged vs Not Hedged')"
   ]
  },
  {
   "cell_type": "markdown",
   "metadata": {},
   "source": [
    "Looking at the above, delta hedging has generally enhanced the realized performance of this volatility selling strategy especially (unsurprisingly) this year. Let's look at how MTM factors into this."
   ]
  },
  {
   "cell_type": "code",
   "execution_count": null,
   "metadata": {},
   "outputs": [],
   "source": [
    "realized_perf_mtm = pd.concat([d_hedged['Paid at Expiry']-d_hedged['Premium Received at Inception']+\n",
    "                               d_hedged['Mark to Market'],\n",
    "                              nd_hedged['Paid at Expiry']-nd_hedged['Premium Received at Inception']+\n",
    "                               nd_hedged['Mark to Market']], axis=1)\n",
    "realized_perf_mtm.columns = ['Delta Hedged', 'Not Delta Hedged']\n",
    "realized_perf_mtm.plot(figsize=(12, 8), title='Realized Performance including MTM')"
   ]
  },
  {
   "cell_type": "code",
   "execution_count": null,
   "metadata": {},
   "outputs": [],
   "source": [
    "(realized_perf_mtm['Delta Hedged']-realized_perf_mtm['Not Delta Hedged']).plot(\n",
    "    figsize=(12, 8), title='Difference in Realized Performance without MTM Delta Hedged vs Not Hedged')"
   ]
  },
  {
   "cell_type": "markdown",
   "metadata": {},
   "source": [
    "The trend is generally the same but with a lot more volatility. \n",
    "\n",
    "Note that this backtesting doesn't include transaction costs and the implementation is different from how one might hedge in practice (unwinding and trading a new swap every day) but is economically equivalent to layering the hedges (and is cleaner from a calculation perspective).\n",
    "\n",
    "Look out for future publications for added transaction costs and ways to quantitatively compare these strategies."
   ]
  }
 ],
 "metadata": {
  "kernelspec": {
   "display_name": "Python 3",
   "language": "python",
   "name": "python3"
  },
  "language_info": {
   "codemirror_mode": {
    "name": "ipython",
    "version": 3
   },
   "file_extension": ".py",
   "mimetype": "text/x-python",
   "name": "python",
   "nbconvert_exporter": "python",
   "pygments_lexer": "ipython3",
   "version": "3.7.2"
  }
 },
 "nbformat": 4,
 "nbformat_minor": 4
}
