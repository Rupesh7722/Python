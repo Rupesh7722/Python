{
 "cells": [
  {
   "cell_type": "markdown",
   "metadata": {},
   "source": [
    "## Introduction to Rates"
   ]
  },
  {
   "cell_type": "markdown",
   "metadata": {},
   "source": [
    "Start every session with authenticating with your unique client id and secret. If you don't have a registered app, create one [here](https://marquee.gs.com/s/developer/myapps/register). `run_analytics` scope is required for the functionality covered in this example."
   ]
  },
  {
   "cell_type": "code",
   "execution_count": 1,
   "metadata": {},
   "outputs": [],
   "source": [
    "from gs_quant.session import GsSession, Environment\n",
    "GsSession.use(Environment.PROD, client_id=None, client_secret=None, scopes=('run_analytics',)) "
   ]
  },
  {
   "cell_type": "markdown",
   "metadata": {},
   "source": [
    "Let’s now create IR Swaptions for a number of strikes, expiries and tenors. This will create 64 swaptions (4 strikes x 4 tenors x 4 expiries). All the available instruments can be [viewed here](https://developer.gs.com/docs/gsquant/guides/Pricing-and-Risk/instruments/#supported-instruments)."
   ]
  },
  {
   "cell_type": "code",
   "execution_count": 2,
   "metadata": {},
   "outputs": [
    {
     "data": {
      "text/plain": [
       "64"
      ]
     },
     "execution_count": 2,
     "metadata": {},
     "output_type": "execute_result"
    }
   ],
   "source": [
    "from gs_quant.common import Currency, PayReceive\n",
    "from gs_quant.instrument import IRSwaption\n",
    "\n",
    "strikes = ['ATMF-10', 'ATMF+10', 'ATMF+50','ATMF+100']\n",
    "tenors = ['1y', '2y', '5y', '10y']\n",
    "expiries = ['3m', '6m', '1y', '3y']\n",
    "\n",
    "swaptions = [ IRSwaption(PayReceive.Receive, tenor, Currency.USD, expirationDate=expiry, strike=strike, notionalAmount=1e8) \n",
    "             for strike in strikes for tenor in tenors for expiry in expiries ]\n",
    "\n",
    "len(swaptions)"
   ]
  },
  {
   "cell_type": "markdown",
   "metadata": {},
   "source": [
    "We can now calculate a number of risk measures for these swaptions. Let’s calculate dollar price and vega in a single call using pricing context and retrieve the result. All the available measures can be [viewed here](https://developer.gs.com/docs/gsquant/guides/Pricing-and-Risk/measures/)."
   ]
  },
  {
   "cell_type": "code",
   "execution_count": 3,
   "metadata": {},
   "outputs": [],
   "source": [
    "from gs_quant.markets import PricingContext\n",
    "from gs_quant.risk import IRVega\n",
    "\n",
    "with PricingContext():\n",
    "    price_f = [swaption.dollar_price() for swaption in swaptions]\n",
    "    vega_f = [swaption.calc(IRVega) for swaption in swaptions]\n",
    "\n",
    "prices = [f.result() for f in price_f]\n",
    "vegas = [f.result() for f in vega_f]"
   ]
  },
  {
   "cell_type": "markdown",
   "metadata": {},
   "source": [
    "Let’s now construct a grid summarizing our results and sort risk."
   ]
  },
  {
   "cell_type": "code",
   "execution_count": 4,
   "metadata": {},
   "outputs": [],
   "source": [
    "import pandas as pd\n",
    "vegas_frame = pd.concat(vegas).reset_index(drop=True).rename(columns={'value': 'vega'})\n",
    "swaption_params = [ [ x.expirationDate, x.terminationDate, x.strike, prices[i] ] for i, x in enumerate(swaptions) ]\n",
    "swaption_frame = pd.DataFrame(swaption_params, columns=['expiry', 'tenor', 'strike', 'price'])"
   ]
  },
  {
   "cell_type": "code",
   "execution_count": 5,
   "metadata": {},
   "outputs": [
    {
     "data": {
      "text/html": [
       "<div>\n",
       "<style scoped>\n",
       "    .dataframe tbody tr th:only-of-type {\n",
       "        vertical-align: middle;\n",
       "    }\n",
       "\n",
       "    .dataframe tbody tr th {\n",
       "        vertical-align: top;\n",
       "    }\n",
       "\n",
       "    .dataframe thead th {\n",
       "        text-align: right;\n",
       "    }\n",
       "</style>\n",
       "<table border=\"1\" class=\"dataframe\">\n",
       "  <thead>\n",
       "    <tr style=\"text-align: right;\">\n",
       "      <th></th>\n",
       "      <th>marketDataType</th>\n",
       "      <th>assetId</th>\n",
       "      <th>pointClass</th>\n",
       "      <th>point</th>\n",
       "      <th>vega</th>\n",
       "      <th>expiry</th>\n",
       "      <th>tenor</th>\n",
       "      <th>strike</th>\n",
       "      <th>price</th>\n",
       "    </tr>\n",
       "  </thead>\n",
       "  <tbody>\n",
       "    <tr>\n",
       "      <th>0</th>\n",
       "      <td>IR VOL</td>\n",
       "      <td>USD-LIBOR-BBA</td>\n",
       "      <td>SWAPTION</td>\n",
       "      <td>1Y;3M</td>\n",
       "      <td>1637.735726</td>\n",
       "      <td>3m</td>\n",
       "      <td>1y</td>\n",
       "      <td>ATMF-10</td>\n",
       "      <td>29279.861182</td>\n",
       "    </tr>\n",
       "    <tr>\n",
       "      <th>1</th>\n",
       "      <td>IR VOL</td>\n",
       "      <td>USD-LIBOR-BBA</td>\n",
       "      <td>SWAPTION</td>\n",
       "      <td>1Y;3M</td>\n",
       "      <td>1575.957990</td>\n",
       "      <td>3m</td>\n",
       "      <td>1y</td>\n",
       "      <td>ATMF+10</td>\n",
       "      <td>122832.344562</td>\n",
       "    </tr>\n",
       "    <tr>\n",
       "      <th>2</th>\n",
       "      <td>IR VOL</td>\n",
       "      <td>USD-LIBOR-BBA</td>\n",
       "      <td>SWAPTION</td>\n",
       "      <td>1Y;3M</td>\n",
       "      <td>26.713023</td>\n",
       "      <td>3m</td>\n",
       "      <td>1y</td>\n",
       "      <td>ATMF+50</td>\n",
       "      <td>492588.795907</td>\n",
       "    </tr>\n",
       "    <tr>\n",
       "      <th>3</th>\n",
       "      <td>IR VOL</td>\n",
       "      <td>USD-LIBOR-BBA</td>\n",
       "      <td>SWAPTION</td>\n",
       "      <td>1Y;3M</td>\n",
       "      <td>0.114935</td>\n",
       "      <td>3m</td>\n",
       "      <td>1y</td>\n",
       "      <td>ATMF+100</td>\n",
       "      <td>984955.333067</td>\n",
       "    </tr>\n",
       "    <tr>\n",
       "      <th>4</th>\n",
       "      <td>IR VOL</td>\n",
       "      <td>USD-LIBOR-BBA</td>\n",
       "      <td>SWAPTION</td>\n",
       "      <td>1Y;6M</td>\n",
       "      <td>2605.643265</td>\n",
       "      <td>6m</td>\n",
       "      <td>1y</td>\n",
       "      <td>ATMF-10</td>\n",
       "      <td>73542.011651</td>\n",
       "    </tr>\n",
       "    <tr>\n",
       "      <th>5</th>\n",
       "      <td>IR VOL</td>\n",
       "      <td>USD-LIBOR-BBA</td>\n",
       "      <td>SWAPTION</td>\n",
       "      <td>1Y;6M</td>\n",
       "      <td>2590.462164</td>\n",
       "      <td>6m</td>\n",
       "      <td>1y</td>\n",
       "      <td>ATMF+10</td>\n",
       "      <td>166013.487734</td>\n",
       "    </tr>\n",
       "    <tr>\n",
       "      <th>6</th>\n",
       "      <td>IR VOL</td>\n",
       "      <td>USD-LIBOR-BBA</td>\n",
       "      <td>SWAPTION</td>\n",
       "      <td>1Y;6M</td>\n",
       "      <td>528.261783</td>\n",
       "      <td>6m</td>\n",
       "      <td>1y</td>\n",
       "      <td>ATMF+50</td>\n",
       "      <td>495247.605509</td>\n",
       "    </tr>\n",
       "    <tr>\n",
       "      <th>7</th>\n",
       "      <td>IR VOL</td>\n",
       "      <td>USD-LIBOR-BBA</td>\n",
       "      <td>SWAPTION</td>\n",
       "      <td>1Y;6M</td>\n",
       "      <td>23.317284</td>\n",
       "      <td>6m</td>\n",
       "      <td>1y</td>\n",
       "      <td>ATMF+100</td>\n",
       "      <td>981609.184716</td>\n",
       "    </tr>\n",
       "    <tr>\n",
       "      <th>8</th>\n",
       "      <td>IR VOL</td>\n",
       "      <td>USD-LIBOR-BBA</td>\n",
       "      <td>SWAPTION</td>\n",
       "      <td>1Y;1Y</td>\n",
       "      <td>3815.760705</td>\n",
       "      <td>1y</td>\n",
       "      <td>1y</td>\n",
       "      <td>ATMF-10</td>\n",
       "      <td>161377.202961</td>\n",
       "    </tr>\n",
       "    <tr>\n",
       "      <th>9</th>\n",
       "      <td>IR VOL</td>\n",
       "      <td>USD-LIBOR-BBA</td>\n",
       "      <td>SWAPTION</td>\n",
       "      <td>1Y;1Y</td>\n",
       "      <td>3814.458256</td>\n",
       "      <td>1y</td>\n",
       "      <td>1y</td>\n",
       "      <td>ATMF+10</td>\n",
       "      <td>253025.741128</td>\n",
       "    </tr>\n",
       "  </tbody>\n",
       "</table>\n",
       "</div>"
      ],
      "text/plain": [
       "  marketDataType        assetId pointClass  point         vega expiry tenor  \\\n",
       "0         IR VOL  USD-LIBOR-BBA   SWAPTION  1Y;3M  1637.735726     3m    1y   \n",
       "1         IR VOL  USD-LIBOR-BBA   SWAPTION  1Y;3M  1575.957990     3m    1y   \n",
       "2         IR VOL  USD-LIBOR-BBA   SWAPTION  1Y;3M    26.713023     3m    1y   \n",
       "3         IR VOL  USD-LIBOR-BBA   SWAPTION  1Y;3M     0.114935     3m    1y   \n",
       "4         IR VOL  USD-LIBOR-BBA   SWAPTION  1Y;6M  2605.643265     6m    1y   \n",
       "5         IR VOL  USD-LIBOR-BBA   SWAPTION  1Y;6M  2590.462164     6m    1y   \n",
       "6         IR VOL  USD-LIBOR-BBA   SWAPTION  1Y;6M   528.261783     6m    1y   \n",
       "7         IR VOL  USD-LIBOR-BBA   SWAPTION  1Y;6M    23.317284     6m    1y   \n",
       "8         IR VOL  USD-LIBOR-BBA   SWAPTION  1Y;1Y  3815.760705     1y    1y   \n",
       "9         IR VOL  USD-LIBOR-BBA   SWAPTION  1Y;1Y  3814.458256     1y    1y   \n",
       "\n",
       "     strike          price  \n",
       "0   ATMF-10   29279.861182  \n",
       "1   ATMF+10  122832.344562  \n",
       "2   ATMF+50  492588.795907  \n",
       "3  ATMF+100  984955.333067  \n",
       "4   ATMF-10   73542.011651  \n",
       "5   ATMF+10  166013.487734  \n",
       "6   ATMF+50  495247.605509  \n",
       "7  ATMF+100  981609.184716  \n",
       "8   ATMF-10  161377.202961  \n",
       "9   ATMF+10  253025.741128  "
      ]
     },
     "execution_count": 5,
     "metadata": {},
     "output_type": "execute_result"
    }
   ],
   "source": [
    "from gs_quant.risk import sort_risk\n",
    "\n",
    "result = pd.concat([vegas_frame, swaption_frame],axis=1)\n",
    "sort_risk(result).head(10) "
   ]
  },
  {
   "cell_type": "markdown",
   "metadata": {},
   "source": [
    "Please reach out to `gs-quant@gs.com` with any questions."
   ]
  },
  {
   "cell_type": "markdown",
   "metadata": {},
   "source": [
    "### Disclaimer\n",
    "This website may contain links to websites and the content of third parties (\"Third Party Content\"). We do not monitor, review or update, and do not have any control over, any Third Party Content or third party websites. We make no representation, warranty or guarantee as to the accuracy, completeness, timeliness or reliability of any Third Party Content and are not responsible for any loss or damage of any sort resulting from the use of, or for any failure of, products or services provided at or from a third party resource. If you use these links and the Third Party Content, you acknowledge that you are doing so entirely at your own risk."
   ]
  }
 ],
 "metadata": {
  "kernelspec": {
   "display_name": "Python 3",
   "language": "python",
   "name": "python3"
  },
  "language_info": {
   "codemirror_mode": {
    "name": "ipython",
    "version": 3
   },
   "file_extension": ".py",
   "mimetype": "text/x-python",
   "name": "python",
   "nbconvert_exporter": "python",
   "pygments_lexer": "ipython3",
   "version": "3.7.2"
  }
 },
 "nbformat": 4,
 "nbformat_minor": 4
}
