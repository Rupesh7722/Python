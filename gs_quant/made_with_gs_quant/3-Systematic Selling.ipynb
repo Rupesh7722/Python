{
 "cells": [
  {
   "cell_type": "markdown",
   "metadata": {},
   "source": [
    "## Systematic Selling\n",
    "\n",
    "### Summary \n",
    "\n",
    "In this note I look at running a simple backtest where I sell a 1m10y straddle each day. I examine premium collected at inception, payout on option expiry and mark-to-market over the life of the trade. \n",
    "\n",
    "Look out for future publications where I will build on this strategy with added delta hedging and add analytics for understanding strategy performance!\n",
    "\n",
    "The content of this notebook is split into:\n",
    "* [1 - Let's get started with gs quant](#1---Let's-get-started-with-gs-quant)\n",
    "* [2 - Create portfolio](#2---Create-portfolio)\n",
    "* [3 - Evaluate portfolio historically](#3---Evaluate-portfolio-historically)\n",
    "* [4 - Putting it all together](#4---Putting-it-all-together)"
   ]
  },
  {
   "cell_type": "markdown",
   "metadata": {},
   "source": [
    "### 1 - Let's get started with gs quant\n",
    "Start every session with authenticating with your unique client id and secret. If you don't have a registered app, create one [here](https://marquee.gs.com/s/developer/myapps/register). `run_analytics` scope is required for the functionality covered in this example. Below produced using gs-quant version 0.8.102."
   ]
  },
  {
   "cell_type": "code",
   "execution_count": 1,
   "metadata": {},
   "outputs": [],
   "source": [
    "from gs_quant.session import GsSession\n",
    "GsSession.use(client_id=None, client_secret=None, scopes=('run_analytics',)) "
   ]
  },
  {
   "cell_type": "markdown",
   "metadata": {},
   "source": [
    "### 2 - Create portfolio\n",
    "Let's create a portfolio with a rolling strip of straddles. For each date in our date range (start of 2019 through today), we will construct a 1m10y straddle and include it in our portfolio."
   ]
  },
  {
   "cell_type": "code",
   "execution_count": 2,
   "metadata": {},
   "outputs": [],
   "source": [
    "from gs_quant.markets.portfolio import Portfolio\n",
    "from gs_quant.common import Currency, PayReceive\n",
    "from gs_quant.instrument import IRSwaption\n",
    "from gs_quant.markets import HistoricalPricingContext\n",
    "from datetime import datetime\n",
    "from datetime import date\n",
    "\n",
    "with HistoricalPricingContext(start=date(2019, 1, 1), end=datetime.today().date()): \n",
    "    f = IRSwaption(PayReceive.Straddle, '10y', Currency.USD, expiration_date='1m', notional_amount=1e8,\n",
    "                   buy_sell='Sell').resolve(in_place=False)\n",
    "\n",
    "portfolio = Portfolio([v[1] for v in sorted(f.result().items())])"
   ]
  },
  {
   "cell_type": "markdown",
   "metadata": {},
   "source": [
    "We can use `to_frame` to take a look at our portfolio and resolved instrument details as a dataframe. Let's also convert date representations to date types and remove any instruments iwth premium_payment_date larger than today."
   ]
  },
  {
   "cell_type": "code",
   "execution_count": 3,
   "metadata": {},
   "outputs": [
    {
     "data": {
      "text/html": [
       "<div>\n",
       "<style scoped>\n",
       "    .dataframe tbody tr th:only-of-type {\n",
       "        vertical-align: middle;\n",
       "    }\n",
       "\n",
       "    .dataframe tbody tr th {\n",
       "        vertical-align: top;\n",
       "    }\n",
       "\n",
       "    .dataframe thead th {\n",
       "        text-align: right;\n",
       "    }\n",
       "</style>\n",
       "<table border=\"1\" class=\"dataframe\">\n",
       "  <thead>\n",
       "    <tr style=\"text-align: right;\">\n",
       "      <th></th>\n",
       "      <th>fixed_rate_day_count_fraction</th>\n",
       "      <th>premium_payment_date</th>\n",
       "      <th>floating_rate_frequency</th>\n",
       "      <th>premium</th>\n",
       "      <th>notional_amount</th>\n",
       "      <th>floating_rate_designated_maturity</th>\n",
       "      <th>floating_rate_day_count_fraction</th>\n",
       "      <th>effective_date</th>\n",
       "      <th>fee_currency</th>\n",
       "      <th>fee</th>\n",
       "      <th>...</th>\n",
       "      <th>notional_currency</th>\n",
       "      <th>settlement</th>\n",
       "      <th>expiration_date</th>\n",
       "      <th>buy_sell</th>\n",
       "      <th>floating_rate_spread</th>\n",
       "      <th>floating_rate_business_day_convention</th>\n",
       "      <th>fee_payment_date</th>\n",
       "      <th>asset_class</th>\n",
       "      <th>fixed_rate_frequency</th>\n",
       "      <th>fixed_rate_business_day_convention</th>\n",
       "    </tr>\n",
       "    <tr>\n",
       "      <th>instrument</th>\n",
       "      <th></th>\n",
       "      <th></th>\n",
       "      <th></th>\n",
       "      <th></th>\n",
       "      <th></th>\n",
       "      <th></th>\n",
       "      <th></th>\n",
       "      <th></th>\n",
       "      <th></th>\n",
       "      <th></th>\n",
       "      <th></th>\n",
       "      <th></th>\n",
       "      <th></th>\n",
       "      <th></th>\n",
       "      <th></th>\n",
       "      <th></th>\n",
       "      <th></th>\n",
       "      <th></th>\n",
       "      <th></th>\n",
       "      <th></th>\n",
       "      <th></th>\n",
       "    </tr>\n",
       "  </thead>\n",
       "  <tbody>\n",
       "    <tr>\n",
       "      <th>&lt;gs_quant.target.instrument.IRSwaption object at 0x000000000F4B4B38&gt;</th>\n",
       "      <td>DayCountFraction._30_OVER_360</td>\n",
       "      <td>2019-01-03</td>\n",
       "      <td>3m</td>\n",
       "      <td>0.0</td>\n",
       "      <td>100000000.0</td>\n",
       "      <td>3m</td>\n",
       "      <td>DayCountFraction.ACT_OVER_360</td>\n",
       "      <td>2019-02-05</td>\n",
       "      <td>Currency.USD</td>\n",
       "      <td>0.0</td>\n",
       "      <td>...</td>\n",
       "      <td>Currency.USD</td>\n",
       "      <td>SwapSettlement.Phys_CLEARED</td>\n",
       "      <td>2019-02-01</td>\n",
       "      <td>BuySell.Sell</td>\n",
       "      <td>0.0</td>\n",
       "      <td>BusinessDayConvention.Modified_Following</td>\n",
       "      <td>2019-01-03</td>\n",
       "      <td>AssetClass.Rates</td>\n",
       "      <td>6m</td>\n",
       "      <td>BusinessDayConvention.Modified_Following</td>\n",
       "    </tr>\n",
       "    <tr>\n",
       "      <th>&lt;gs_quant.target.instrument.IRSwaption object at 0x000000000F5CE240&gt;</th>\n",
       "      <td>DayCountFraction._30_OVER_360</td>\n",
       "      <td>2019-01-04</td>\n",
       "      <td>3m</td>\n",
       "      <td>0.0</td>\n",
       "      <td>100000000.0</td>\n",
       "      <td>3m</td>\n",
       "      <td>DayCountFraction.ACT_OVER_360</td>\n",
       "      <td>2019-02-06</td>\n",
       "      <td>Currency.USD</td>\n",
       "      <td>0.0</td>\n",
       "      <td>...</td>\n",
       "      <td>Currency.USD</td>\n",
       "      <td>SwapSettlement.Phys_CLEARED</td>\n",
       "      <td>2019-02-04</td>\n",
       "      <td>BuySell.Sell</td>\n",
       "      <td>0.0</td>\n",
       "      <td>BusinessDayConvention.Modified_Following</td>\n",
       "      <td>2019-01-04</td>\n",
       "      <td>AssetClass.Rates</td>\n",
       "      <td>6m</td>\n",
       "      <td>BusinessDayConvention.Modified_Following</td>\n",
       "    </tr>\n",
       "    <tr>\n",
       "      <th>&lt;gs_quant.target.instrument.IRSwaption object at 0x000000000F5E1CF8&gt;</th>\n",
       "      <td>DayCountFraction._30_OVER_360</td>\n",
       "      <td>2019-01-07</td>\n",
       "      <td>3m</td>\n",
       "      <td>0.0</td>\n",
       "      <td>100000000.0</td>\n",
       "      <td>3m</td>\n",
       "      <td>DayCountFraction.ACT_OVER_360</td>\n",
       "      <td>2019-02-06</td>\n",
       "      <td>Currency.USD</td>\n",
       "      <td>0.0</td>\n",
       "      <td>...</td>\n",
       "      <td>Currency.USD</td>\n",
       "      <td>SwapSettlement.Phys_CLEARED</td>\n",
       "      <td>2019-02-04</td>\n",
       "      <td>BuySell.Sell</td>\n",
       "      <td>0.0</td>\n",
       "      <td>BusinessDayConvention.Modified_Following</td>\n",
       "      <td>2019-01-07</td>\n",
       "      <td>AssetClass.Rates</td>\n",
       "      <td>6m</td>\n",
       "      <td>BusinessDayConvention.Modified_Following</td>\n",
       "    </tr>\n",
       "    <tr>\n",
       "      <th>&lt;gs_quant.target.instrument.IRSwaption object at 0x000000000F5CEF98&gt;</th>\n",
       "      <td>DayCountFraction._30_OVER_360</td>\n",
       "      <td>2019-01-08</td>\n",
       "      <td>3m</td>\n",
       "      <td>0.0</td>\n",
       "      <td>100000000.0</td>\n",
       "      <td>3m</td>\n",
       "      <td>DayCountFraction.ACT_OVER_360</td>\n",
       "      <td>2019-02-06</td>\n",
       "      <td>Currency.USD</td>\n",
       "      <td>0.0</td>\n",
       "      <td>...</td>\n",
       "      <td>Currency.USD</td>\n",
       "      <td>SwapSettlement.Phys_CLEARED</td>\n",
       "      <td>2019-02-04</td>\n",
       "      <td>BuySell.Sell</td>\n",
       "      <td>0.0</td>\n",
       "      <td>BusinessDayConvention.Modified_Following</td>\n",
       "      <td>2019-01-08</td>\n",
       "      <td>AssetClass.Rates</td>\n",
       "      <td>6m</td>\n",
       "      <td>BusinessDayConvention.Modified_Following</td>\n",
       "    </tr>\n",
       "    <tr>\n",
       "      <th>&lt;gs_quant.target.instrument.IRSwaption object at 0x000000000F5EB668&gt;</th>\n",
       "      <td>DayCountFraction._30_OVER_360</td>\n",
       "      <td>2019-01-09</td>\n",
       "      <td>3m</td>\n",
       "      <td>0.0</td>\n",
       "      <td>100000000.0</td>\n",
       "      <td>3m</td>\n",
       "      <td>DayCountFraction.ACT_OVER_360</td>\n",
       "      <td>2019-02-11</td>\n",
       "      <td>Currency.USD</td>\n",
       "      <td>0.0</td>\n",
       "      <td>...</td>\n",
       "      <td>Currency.USD</td>\n",
       "      <td>SwapSettlement.Phys_CLEARED</td>\n",
       "      <td>2019-02-07</td>\n",
       "      <td>BuySell.Sell</td>\n",
       "      <td>0.0</td>\n",
       "      <td>BusinessDayConvention.Modified_Following</td>\n",
       "      <td>2019-01-09</td>\n",
       "      <td>AssetClass.Rates</td>\n",
       "      <td>6m</td>\n",
       "      <td>BusinessDayConvention.Modified_Following</td>\n",
       "    </tr>\n",
       "  </tbody>\n",
       "</table>\n",
       "<p>5 rows × 25 columns</p>\n",
       "</div>"
      ],
      "text/plain": [
       "                                                    fixed_rate_day_count_fraction  \\\n",
       "instrument                                                                          \n",
       "<gs_quant.target.instrument.IRSwaption object a...  DayCountFraction._30_OVER_360   \n",
       "<gs_quant.target.instrument.IRSwaption object a...  DayCountFraction._30_OVER_360   \n",
       "<gs_quant.target.instrument.IRSwaption object a...  DayCountFraction._30_OVER_360   \n",
       "<gs_quant.target.instrument.IRSwaption object a...  DayCountFraction._30_OVER_360   \n",
       "<gs_quant.target.instrument.IRSwaption object a...  DayCountFraction._30_OVER_360   \n",
       "\n",
       "                                                   premium_payment_date  \\\n",
       "instrument                                                                \n",
       "<gs_quant.target.instrument.IRSwaption object a...           2019-01-03   \n",
       "<gs_quant.target.instrument.IRSwaption object a...           2019-01-04   \n",
       "<gs_quant.target.instrument.IRSwaption object a...           2019-01-07   \n",
       "<gs_quant.target.instrument.IRSwaption object a...           2019-01-08   \n",
       "<gs_quant.target.instrument.IRSwaption object a...           2019-01-09   \n",
       "\n",
       "                                                   floating_rate_frequency  \\\n",
       "instrument                                                                   \n",
       "<gs_quant.target.instrument.IRSwaption object a...                      3m   \n",
       "<gs_quant.target.instrument.IRSwaption object a...                      3m   \n",
       "<gs_quant.target.instrument.IRSwaption object a...                      3m   \n",
       "<gs_quant.target.instrument.IRSwaption object a...                      3m   \n",
       "<gs_quant.target.instrument.IRSwaption object a...                      3m   \n",
       "\n",
       "                                                    premium  notional_amount  \\\n",
       "instrument                                                                     \n",
       "<gs_quant.target.instrument.IRSwaption object a...      0.0      100000000.0   \n",
       "<gs_quant.target.instrument.IRSwaption object a...      0.0      100000000.0   \n",
       "<gs_quant.target.instrument.IRSwaption object a...      0.0      100000000.0   \n",
       "<gs_quant.target.instrument.IRSwaption object a...      0.0      100000000.0   \n",
       "<gs_quant.target.instrument.IRSwaption object a...      0.0      100000000.0   \n",
       "\n",
       "                                                   floating_rate_designated_maturity  \\\n",
       "instrument                                                                             \n",
       "<gs_quant.target.instrument.IRSwaption object a...                                3m   \n",
       "<gs_quant.target.instrument.IRSwaption object a...                                3m   \n",
       "<gs_quant.target.instrument.IRSwaption object a...                                3m   \n",
       "<gs_quant.target.instrument.IRSwaption object a...                                3m   \n",
       "<gs_quant.target.instrument.IRSwaption object a...                                3m   \n",
       "\n",
       "                                                   floating_rate_day_count_fraction  \\\n",
       "instrument                                                                            \n",
       "<gs_quant.target.instrument.IRSwaption object a...    DayCountFraction.ACT_OVER_360   \n",
       "<gs_quant.target.instrument.IRSwaption object a...    DayCountFraction.ACT_OVER_360   \n",
       "<gs_quant.target.instrument.IRSwaption object a...    DayCountFraction.ACT_OVER_360   \n",
       "<gs_quant.target.instrument.IRSwaption object a...    DayCountFraction.ACT_OVER_360   \n",
       "<gs_quant.target.instrument.IRSwaption object a...    DayCountFraction.ACT_OVER_360   \n",
       "\n",
       "                                                   effective_date  \\\n",
       "instrument                                                          \n",
       "<gs_quant.target.instrument.IRSwaption object a...     2019-02-05   \n",
       "<gs_quant.target.instrument.IRSwaption object a...     2019-02-06   \n",
       "<gs_quant.target.instrument.IRSwaption object a...     2019-02-06   \n",
       "<gs_quant.target.instrument.IRSwaption object a...     2019-02-06   \n",
       "<gs_quant.target.instrument.IRSwaption object a...     2019-02-11   \n",
       "\n",
       "                                                    fee_currency  fee  ...  \\\n",
       "instrument                                                             ...   \n",
       "<gs_quant.target.instrument.IRSwaption object a...  Currency.USD  0.0  ...   \n",
       "<gs_quant.target.instrument.IRSwaption object a...  Currency.USD  0.0  ...   \n",
       "<gs_quant.target.instrument.IRSwaption object a...  Currency.USD  0.0  ...   \n",
       "<gs_quant.target.instrument.IRSwaption object a...  Currency.USD  0.0  ...   \n",
       "<gs_quant.target.instrument.IRSwaption object a...  Currency.USD  0.0  ...   \n",
       "\n",
       "                                                   notional_currency  \\\n",
       "instrument                                                             \n",
       "<gs_quant.target.instrument.IRSwaption object a...      Currency.USD   \n",
       "<gs_quant.target.instrument.IRSwaption object a...      Currency.USD   \n",
       "<gs_quant.target.instrument.IRSwaption object a...      Currency.USD   \n",
       "<gs_quant.target.instrument.IRSwaption object a...      Currency.USD   \n",
       "<gs_quant.target.instrument.IRSwaption object a...      Currency.USD   \n",
       "\n",
       "                                                                     settlement  \\\n",
       "instrument                                                                        \n",
       "<gs_quant.target.instrument.IRSwaption object a...  SwapSettlement.Phys_CLEARED   \n",
       "<gs_quant.target.instrument.IRSwaption object a...  SwapSettlement.Phys_CLEARED   \n",
       "<gs_quant.target.instrument.IRSwaption object a...  SwapSettlement.Phys_CLEARED   \n",
       "<gs_quant.target.instrument.IRSwaption object a...  SwapSettlement.Phys_CLEARED   \n",
       "<gs_quant.target.instrument.IRSwaption object a...  SwapSettlement.Phys_CLEARED   \n",
       "\n",
       "                                                   expiration_date  \\\n",
       "instrument                                                           \n",
       "<gs_quant.target.instrument.IRSwaption object a...      2019-02-01   \n",
       "<gs_quant.target.instrument.IRSwaption object a...      2019-02-04   \n",
       "<gs_quant.target.instrument.IRSwaption object a...      2019-02-04   \n",
       "<gs_quant.target.instrument.IRSwaption object a...      2019-02-04   \n",
       "<gs_quant.target.instrument.IRSwaption object a...      2019-02-07   \n",
       "\n",
       "                                                        buy_sell  \\\n",
       "instrument                                                         \n",
       "<gs_quant.target.instrument.IRSwaption object a...  BuySell.Sell   \n",
       "<gs_quant.target.instrument.IRSwaption object a...  BuySell.Sell   \n",
       "<gs_quant.target.instrument.IRSwaption object a...  BuySell.Sell   \n",
       "<gs_quant.target.instrument.IRSwaption object a...  BuySell.Sell   \n",
       "<gs_quant.target.instrument.IRSwaption object a...  BuySell.Sell   \n",
       "\n",
       "                                                   floating_rate_spread  \\\n",
       "instrument                                                                \n",
       "<gs_quant.target.instrument.IRSwaption object a...                  0.0   \n",
       "<gs_quant.target.instrument.IRSwaption object a...                  0.0   \n",
       "<gs_quant.target.instrument.IRSwaption object a...                  0.0   \n",
       "<gs_quant.target.instrument.IRSwaption object a...                  0.0   \n",
       "<gs_quant.target.instrument.IRSwaption object a...                  0.0   \n",
       "\n",
       "                                                       floating_rate_business_day_convention  \\\n",
       "instrument                                                                                     \n",
       "<gs_quant.target.instrument.IRSwaption object a...  BusinessDayConvention.Modified_Following   \n",
       "<gs_quant.target.instrument.IRSwaption object a...  BusinessDayConvention.Modified_Following   \n",
       "<gs_quant.target.instrument.IRSwaption object a...  BusinessDayConvention.Modified_Following   \n",
       "<gs_quant.target.instrument.IRSwaption object a...  BusinessDayConvention.Modified_Following   \n",
       "<gs_quant.target.instrument.IRSwaption object a...  BusinessDayConvention.Modified_Following   \n",
       "\n",
       "                                                   fee_payment_date  \\\n",
       "instrument                                                            \n",
       "<gs_quant.target.instrument.IRSwaption object a...       2019-01-03   \n",
       "<gs_quant.target.instrument.IRSwaption object a...       2019-01-04   \n",
       "<gs_quant.target.instrument.IRSwaption object a...       2019-01-07   \n",
       "<gs_quant.target.instrument.IRSwaption object a...       2019-01-08   \n",
       "<gs_quant.target.instrument.IRSwaption object a...       2019-01-09   \n",
       "\n",
       "                                                         asset_class  \\\n",
       "instrument                                                             \n",
       "<gs_quant.target.instrument.IRSwaption object a...  AssetClass.Rates   \n",
       "<gs_quant.target.instrument.IRSwaption object a...  AssetClass.Rates   \n",
       "<gs_quant.target.instrument.IRSwaption object a...  AssetClass.Rates   \n",
       "<gs_quant.target.instrument.IRSwaption object a...  AssetClass.Rates   \n",
       "<gs_quant.target.instrument.IRSwaption object a...  AssetClass.Rates   \n",
       "\n",
       "                                                   fixed_rate_frequency  \\\n",
       "instrument                                                                \n",
       "<gs_quant.target.instrument.IRSwaption object a...                   6m   \n",
       "<gs_quant.target.instrument.IRSwaption object a...                   6m   \n",
       "<gs_quant.target.instrument.IRSwaption object a...                   6m   \n",
       "<gs_quant.target.instrument.IRSwaption object a...                   6m   \n",
       "<gs_quant.target.instrument.IRSwaption object a...                   6m   \n",
       "\n",
       "                                                          fixed_rate_business_day_convention  \n",
       "instrument                                                                                    \n",
       "<gs_quant.target.instrument.IRSwaption object a...  BusinessDayConvention.Modified_Following  \n",
       "<gs_quant.target.instrument.IRSwaption object a...  BusinessDayConvention.Modified_Following  \n",
       "<gs_quant.target.instrument.IRSwaption object a...  BusinessDayConvention.Modified_Following  \n",
       "<gs_quant.target.instrument.IRSwaption object a...  BusinessDayConvention.Modified_Following  \n",
       "<gs_quant.target.instrument.IRSwaption object a...  BusinessDayConvention.Modified_Following  \n",
       "\n",
       "[5 rows x 25 columns]"
      ]
     },
     "execution_count": 3,
     "metadata": {},
     "output_type": "execute_result"
    }
   ],
   "source": [
    "frame = portfolio.to_frame()\n",
    "frame.premium_payment_date = frame.premium_payment_date.apply(lambda x: datetime.strptime(x, '%Y-%m-%d').date())\n",
    "frame.expiration_date = frame.expiration_date.apply(lambda x: datetime.strptime(x, '%Y-%m-%d').date())\n",
    "frame = frame[frame.premium_payment_date < datetime.today().date()]\n",
    "frame.head()"
   ]
  },
  {
   "cell_type": "markdown",
   "metadata": {},
   "source": [
    "### 3 - Evaluate portfolio historically\n",
    "Let's now evaluate each instrument for the relevant date range (inception to option expiry).\n",
    "\n",
    "Note that I use the async flag in pricing context - this is what makes computing 9000 points so fast (~300 instruments * ~30 days)! It sends off a request for 1 month of data for each instrument to be computed in parallel. I keep track of each future in our portfolio frame.\n",
    "\n",
    "To learn more about async and other compute controls and how to use them, please see our [pricing context guide](https://developer.gs.com/docs/gsquant/guides/Pricing-and-Risk/pricing-context/). "
   ]
  },
  {
   "cell_type": "code",
   "execution_count": 4,
   "metadata": {},
   "outputs": [],
   "source": [
    "frame['future'] = len(frame) * [None]\n",
    "\n",
    "for inst, row in frame.iterrows():\n",
    "    with HistoricalPricingContext(start=row.premium_payment_date, end=row.expiration_date, is_async=True):\n",
    "        pv = inst.price()\n",
    "    frame.at[inst, 'future'] = pv"
   ]
  },
  {
   "cell_type": "markdown",
   "metadata": {},
   "source": [
    "We can now grab all the results and organize them into a dataframe. This call will wait for all the results to come back from the pool so it's as fast as the slowest single request out of the ~300 we sent in the previous step."
   ]
  },
  {
   "cell_type": "code",
   "execution_count": 5,
   "metadata": {},
   "outputs": [],
   "source": [
    "import pandas as pd\n",
    "\n",
    "timeseries = pd.concat([pd.Series(row.future.result(), name=row.name) for _, row in frame.iterrows()], axis=1, sort=True)"
   ]
  },
  {
   "cell_type": "markdown",
   "metadata": {},
   "source": [
    "### 4 - Putting it all together\n",
    "With the portfolio and historical PV's in hand, let's comb through the data to tease out components we want to track: premium collected, payout on expiry and mark-to-mark of the swaption."
   ]
  },
  {
   "cell_type": "code",
   "execution_count": 6,
   "metadata": {},
   "outputs": [
    {
     "data": {
      "text/plain": [
       "<matplotlib.axes._subplots.AxesSubplot at 0x10301b70>"
      ]
     },
     "execution_count": 6,
     "metadata": {},
     "output_type": "execute_result"
    }
   ],
   "source": [
    "import matplotlib.pyplot as plt\n",
    "from collections import defaultdict\n",
    "\n",
    "def get_p(df, first=True):\n",
    "    p_p = df.apply(lambda series: series.first_valid_index() if first else series.last_valid_index())\n",
    "    g = defaultdict(float)\n",
    "    for i, r in p_p.items():\n",
    "        g[r]+=df[i][r]\n",
    "    return pd.Series(g)\n",
    "\n",
    "premia = get_p(timeseries)\n",
    "payoffs = get_p(timeseries, first=False)\n",
    "mtm = timeseries.fillna(0).sum(axis=1)-payoffs\n",
    "\n",
    "overview = pd.concat([premia.cumsum(), payoffs.cumsum(), mtm], axis=1, sort=False)\n",
    "overview.columns = ['Premium Received at Inception', 'Paid at Expiry', 'Mark to Market']\n",
    "overview = overview.sort_index()\n",
    "overview = overview.fillna(method='ffill')[:datetime.today().date()]\n",
    "overview.plot(figsize=(12, 8), title='Cumulative Payoff, Premium and Mark-to-Market')"
   ]
  },
  {
   "cell_type": "markdown",
   "metadata": {},
   "source": [
    "From the above, we can see that premium received at inception varies relative to payout at expiry. We can see when this is the case more clearly by looking at the difference between the two."
   ]
  },
  {
   "cell_type": "code",
   "execution_count": 7,
   "metadata": {},
   "outputs": [
    {
     "data": {
      "text/plain": [
       "<matplotlib.axes._subplots.AxesSubplot at 0x103d3c50>"
      ]
     },
     "execution_count": 7,
     "metadata": {},
     "output_type": "execute_result"
    },
    {
     "data": {
      "image/png": "[encoded data removed]",
      "text/plain": [
       "<Figure size 864x576 with 1 Axes>"
      ]
     },
     "metadata": {
      "needs_background": "light"
     },
     "output_type": "display_data"
    }
   ],
   "source": [
    "(overview['Paid at Expiry'] - overview['Premium Received at Inception']).plot(figsize=(12, 8), title='Realized Performance')"
   ]
  },
  {
   "cell_type": "markdown",
   "metadata": {},
   "source": [
    "But looking at only premium collected and amount paid out doesn't speak to the volatility of this strategy - let's add mark-to-market in to see that. "
   ]
  },
  {
   "cell_type": "code",
   "execution_count": 8,
   "metadata": {},
   "outputs": [
    {
     "data": {
      "text/plain": [
       "<matplotlib.axes._subplots.AxesSubplot at 0x1042f7b8>"
      ]
     },
     "execution_count": 8,
     "metadata": {},
     "output_type": "execute_result"
    },
    {
     "data": {
      "image/png": "[encoded data removed]",
      "text/plain": [
       "<Figure size 864x576 with 1 Axes>"
      ]
     },
     "metadata": {
      "needs_background": "light"
     },
     "output_type": "display_data"
    }
   ],
   "source": [
    "(overview['Paid at Expiry'] - overview['Premium Received at Inception'] + \n",
    " overview['Mark to Market']).plot(figsize=(12, 8), title='Performance Including Mark to Market')"
   ]
  },
  {
   "cell_type": "markdown",
   "metadata": {},
   "source": [
    "As we can see above, since beginning of 2019 this has mostly been a losing strategy although it has worked well 4Q19.\n",
    "\n",
    "Stay tuned to futher editions of gs quant for ways to modify this strategy (delta hedging, for example) and to analyze performance of strategies like this one."
   ]
  },
  {
   "cell_type": "markdown",
   "metadata": {},
   "source": [
    "### Disclaimer\n",
    "This website may contain links to websites and the content of third parties (\"Third Party Content\"). We do not monitor, review or update, and do not have any control over, any Third Party Content or third party websites. We make no representation, warranty or guarantee as to the accuracy, completeness, timeliness or reliability of any Third Party Content and are not responsible for any loss or damage of any sort resulting from the use of, or for any failure of, products or services provided at or from a third party resource. If you use these links and the Third Party Content, you acknowledge that you are doing so entirely at your own risk."
   ]
  }
 ],
 "metadata": {
  "kernelspec": {
   "display_name": "Python 3",
   "language": "python",
   "name": "python3"
  },
  "language_info": {
   "codemirror_mode": {
    "name": "ipython",
    "version": 3
   },
   "file_extension": ".py",
   "mimetype": "text/x-python",
   "name": "python",
   "nbconvert_exporter": "python",
   "pygments_lexer": "ipython3",
   "version": "3.7.2"
  }
 },
 "nbformat": 4,
 "nbformat_minor": 4
}
