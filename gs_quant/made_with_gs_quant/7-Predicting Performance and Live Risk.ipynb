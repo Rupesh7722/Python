{
 "cells": [
  {
   "cell_type": "markdown",
   "metadata": {},
   "source": [
    "## Live Risk and Performance Predict\n",
    "\n",
    "### Summary \n",
    "\n",
    "While we are working on delivering live risk in gs-quant, computing risk real-time for large portfolios can be computationaly expensive. In this notebook so we introduce a simple and lightweight framework for approximating it. This means you can compute your end of day risk and connect a live market feed to this code to estimate how performance, delta and gamma risk are changing for your book in real time. \n",
    "\n",
    "You can also use this framework to predict performance - that is, estimate impact of a hypothetical market move, which can be a useful risk management tool.\n",
    "\n",
    "More specifically, we do this by calculating a delta ladder for our portfolio via applying a number of spot shocks. We use the delta values to fit a polynomial for each instrument in the curve and then use this polynomial to calculate delta, gamma and pnl for any given market move in these instruments.\n",
    "\n",
    "Let's get started!\n",
    "\n",
    "Don't forget to check out the [What's New](#What's-New) section for the latest gs-quant additions.\n",
    "\n",
    "The content of this notebook is split into:\n",
    "* [1 - Let's get started with gs quant](#1---Let's-get-started-with-gs-quant)\n",
    "* [2 - Create or load portfolio](#2---Create-or-load-portfolio)\n",
    "* [3 - Calculate delta ladder](#3---Calculate-delta-ladder)\n",
    "* [4 - Fit polynomial](#4---Fit-polynomial)\n",
    "* [5 - Estimate performance and risk for any market move](#5---Estimate-performance-and-risk-for-any-market-move)\n",
    "* [What's New](#What's-New)"
   ]
  },
  {
   "cell_type": "markdown",
   "metadata": {},
   "source": [
    "### 1 - Let's get started with gs quant\n",
    "Start every session with authenticating with your unique client id and secret. If you don't have a registered app, create one [here](https://marquee.gs.com/s/developer/myapps/register). `run_analytics` scope is required for the functionality covered in this example. Below produced using gs-quant version 0.8.130."
   ]
  },
  {
   "cell_type": "code",
   "execution_count": 116,
   "metadata": {},
   "outputs": [],
   "source": [
    "from gs_quant.session import GsSession\n",
    "GsSession.use(client_id=None, client_secret=None, scopes=('run_analytics',))"
   ]
  },
  {
   "cell_type": "markdown",
   "metadata": {},
   "source": [
    "### 2 - Create or load portfolio\n",
    "\n",
    "The goal for this section is to load your own book. If you are an internal user please reach out for ways to connect your book.\n",
    "\n",
    "If you are an external user, we have additional natural language processing tools to help map your book coming soon! \n",
    "\n",
    "For this note, I'll create a sample portfolio of a combination of 1y, 2y, 3y expiry payer swaptions on 5y, 10y, 15y tails struck 10, 20 and 30bps OTMF and resolve it to fix all the relative parameters."
   ]
  },
  {
   "cell_type": "code",
   "execution_count": 117,
   "metadata": {},
   "outputs": [],
   "source": [
    "from gs_quant.instrument import IRSwaption\n",
    "from gs_quant.markets.portfolio import Portfolio\n",
    "from gs_quant.target.common import PayReceive, Currency\n",
    "\n",
    "ccy = Currency.USD\n",
    "\n",
    "portfolio = Portfolio([IRSwaption(PayReceive.Pay, termination_date='{}y'.format(t), notional_currency=ccy, \n",
    "                                  expiration_date='{}y'.format(e), strike='a+{}'.format(s)) \n",
    "                       for t in [5, 10, 15] for e in [1, 2, 3] for s in [10, 20, 30]])\n",
    "portfolio.resolve()"
   ]
  },
  {
   "cell_type": "markdown",
   "metadata": {},
   "source": [
    "### 3 - Calculate Delta Ladder\n",
    "\n",
    "Now, let's take our portfolio and calculate a delta ladder by shocking spot with varying shifts (where 0 our portfolio delta without any shocks applied). We will use this delta information to fit a polynomial for each instrument in the curve in the next step."
   ]
  },
  {
   "cell_type": "code",
   "execution_count": 118,
   "metadata": {},
   "outputs": [
    {
     "data": {
      "text/html": [
       "<div>\n",
       "<style scoped>\n",
       "    .dataframe tbody tr th:only-of-type {\n",
       "        vertical-align: middle;\n",
       "    }\n",
       "\n",
       "    .dataframe tbody tr th {\n",
       "        vertical-align: top;\n",
       "    }\n",
       "\n",
       "    .dataframe thead th {\n",
       "        text-align: right;\n",
       "    }\n",
       "</style>\n",
       "<table border=\"1\" class=\"dataframe\">\n",
       "  <thead>\n",
       "    <tr style=\"text-align: right;\">\n",
       "      <th></th>\n",
       "      <th>mkt_type</th>\n",
       "      <th>mkt_asset</th>\n",
       "      <th>mkt_class</th>\n",
       "      <th>mkt_point</th>\n",
       "      <th>-50</th>\n",
       "      <th>-40</th>\n",
       "      <th>-30</th>\n",
       "      <th>-20</th>\n",
       "      <th>-10</th>\n",
       "      <th>-5</th>\n",
       "      <th>-2</th>\n",
       "      <th>0</th>\n",
       "      <th>2</th>\n",
       "      <th>5</th>\n",
       "      <th>10</th>\n",
       "      <th>20</th>\n",
       "      <th>30</th>\n",
       "      <th>40</th>\n",
       "      <th>50</th>\n",
       "    </tr>\n",
       "  </thead>\n",
       "  <tbody>\n",
       "    <tr>\n",
       "      <th>0</th>\n",
       "      <td>IR</td>\n",
       "      <td>USD</td>\n",
       "      <td>CASH</td>\n",
       "      <td>O/N</td>\n",
       "      <td>-27.594898</td>\n",
       "      <td>-32.141872</td>\n",
       "      <td>-37.390034</td>\n",
       "      <td>-43.429898</td>\n",
       "      <td>-50.345349</td>\n",
       "      <td>-54.153785</td>\n",
       "      <td>-56.555187</td>\n",
       "      <td>-58.205335</td>\n",
       "      <td>-59.895185</td>\n",
       "      <td>-62.504898</td>\n",
       "      <td>-67.055480</td>\n",
       "      <td>-76.911440</td>\n",
       "      <td>-87.755587</td>\n",
       "      <td>-99.538063</td>\n",
       "      <td>-112.181812</td>\n",
       "    </tr>\n",
       "    <tr>\n",
       "      <th>1</th>\n",
       "      <td>IR</td>\n",
       "      <td>USD</td>\n",
       "      <td>CASH</td>\n",
       "      <td>CASH STUB</td>\n",
       "      <td>-4298.903415</td>\n",
       "      <td>-5023.342969</td>\n",
       "      <td>-5854.230881</td>\n",
       "      <td>-6791.659069</td>\n",
       "      <td>-7827.610584</td>\n",
       "      <td>-8377.480045</td>\n",
       "      <td>-8715.970872</td>\n",
       "      <td>-8944.747698</td>\n",
       "      <td>-9175.747855</td>\n",
       "      <td>-9525.872322</td>\n",
       "      <td>-10116.889161</td>\n",
       "      <td>-11311.500049</td>\n",
       "      <td>-12493.828059</td>\n",
       "      <td>-13631.544054</td>\n",
       "      <td>-14698.530788</td>\n",
       "    </tr>\n",
       "    <tr>\n",
       "      <th>2</th>\n",
       "      <td>IR</td>\n",
       "      <td>USD</td>\n",
       "      <td>FRA</td>\n",
       "      <td>JUN20</td>\n",
       "      <td>-13473.892076</td>\n",
       "      <td>-15741.851142</td>\n",
       "      <td>-18342.526120</td>\n",
       "      <td>-21275.936842</td>\n",
       "      <td>-24516.659423</td>\n",
       "      <td>-26236.330421</td>\n",
       "      <td>-27294.760504</td>\n",
       "      <td>-28010.050076</td>\n",
       "      <td>-28732.223138</td>\n",
       "      <td>-29826.682968</td>\n",
       "      <td>-31673.778846</td>\n",
       "      <td>-35405.670253</td>\n",
       "      <td>-39096.705860</td>\n",
       "      <td>-42645.571317</td>\n",
       "      <td>-45970.527180</td>\n",
       "    </tr>\n",
       "  </tbody>\n",
       "</table>\n",
       "</div>"
      ],
      "text/plain": [
       "  mkt_type mkt_asset mkt_class  mkt_point           -50           -40  \\\n",
       "0       IR       USD      CASH        O/N    -27.594898    -32.141872   \n",
       "1       IR       USD      CASH  CASH STUB  -4298.903415  -5023.342969   \n",
       "2       IR       USD       FRA      JUN20 -13473.892076 -15741.851142   \n",
       "\n",
       "            -30           -20           -10            -5            -2  \\\n",
       "0    -37.390034    -43.429898    -50.345349    -54.153785    -56.555187   \n",
       "1  -5854.230881  -6791.659069  -7827.610584  -8377.480045  -8715.970872   \n",
       "2 -18342.526120 -21275.936842 -24516.659423 -26236.330421 -27294.760504   \n",
       "\n",
       "              0             2             5            10            20  \\\n",
       "0    -58.205335    -59.895185    -62.504898    -67.055480    -76.911440   \n",
       "1  -8944.747698  -9175.747855  -9525.872322 -10116.889161 -11311.500049   \n",
       "2 -28010.050076 -28732.223138 -29826.682968 -31673.778846 -35405.670253   \n",
       "\n",
       "             30            40            50  \n",
       "0    -87.755587    -99.538063   -112.181812  \n",
       "1 -12493.828059 -13631.544054 -14698.530788  \n",
       "2 -39096.705860 -42645.571317 -45970.527180  "
      ]
     },
     "execution_count": 118,
     "metadata": {},
     "output_type": "execute_result"
    }
   ],
   "source": [
    "from gs_quant.markets import PricingContext\n",
    "from gs_quant.risk import MarketDataShockBasedScenario, MarketDataPattern, MarketDataShock, MarketDataShockType, Price, IRDeltaLocalCcy\n",
    "\n",
    "# calculate the base delta case (current delta of portfolio - 0bp shift in the rates)\n",
    "delta = portfolio.calc(IRDeltaLocalCcy).aggregate().rename(columns = {'value': 0})\n",
    "\n",
    "# calculate delta ladder (local delta for a number of shifts)\n",
    "shifts = [-50, -40, -30, -20, -10, -5, -2, 0, 2, 5, 10, 20, 30, 40, 50]\n",
    "results = {}\n",
    "with PricingContext(is_async=True):\n",
    "    for shift in shifts:\n",
    "        with MarketDataShockBasedScenario({\n",
    "            MarketDataPattern('IR', ccy): MarketDataShock(MarketDataShockType.Absolute, shift / 10000),\n",
    "            MarketDataPattern('IR Reset', '{}-3m'.format(ccy)): MarketDataShock(MarketDataShockType.Absolute, shift / 10000),\n",
    "            MarketDataPattern('IR Reset', '{}-6m'.format(ccy)): MarketDataShock(MarketDataShockType.Absolute, shift / 10000)\n",
    "        }):\n",
    "            results[shift] = portfolio.calc(IRDeltaLocalCcy)\n",
    "\n",
    "# aggregate delta and insert into dataframe\n",
    "for shift in shifts:\n",
    "    delta[shift] = results[shift].aggregate().value\n",
    "\n",
    "# insert base delta into sorted numerical column order    \n",
    "cols = list(delta.columns)\n",
    "column_list = cols[:4] + sorted(cols[4:])\n",
    "delta = delta[column_list]\n",
    "delta.head(3)"
   ]
  },
  {
   "cell_type": "markdown",
   "metadata": {},
   "source": [
    "### 4 - Fit Polynomial\n",
    "\n",
    "With delta accross various shocks for each instrument in hand (the frame above), we can calculate a polynomial which fits the evolution of delta across the shifts for each of these instruments.\n",
    "\n",
    "`coeffs` will give us the polynomial (order number of shifts-1) coefficients for each instrument.\n",
    "\n",
    "We'll use this polynomial in the next step to extrapolate delta, gamma and performance to any market move."
   ]
  },
  {
   "cell_type": "code",
   "execution_count": 132,
   "metadata": {
    "scrolled": true
   },
   "outputs": [],
   "source": [
    "import numpy as np\n",
    "\n",
    "coeffs = [np.polynomial.polynomial.polyfit(shifts, row.values, len(shifts)-1) for _, row in delta[shifts].iterrows()]"
   ]
  },
  {
   "cell_type": "markdown",
   "metadata": {},
   "source": [
    "We can now visualize what the polynomial looks for a particular point in the curve - '5Y' in the example below. The points are the shocks we fit the polynomial on.\n",
    "\n",
    "This means that for '5Y' instrument (and the rest of instruments in the table above) we can plug in any market move and get the expected delta (plug in x and get y)."
   ]
  },
  {
   "cell_type": "code",
   "execution_count": 133,
   "metadata": {},
   "outputs": [
    {
     "data": {
      "text/plain": [
       "Text(0, 0.5, 'Delta')"
      ]
     },
     "execution_count": 133,
     "metadata": {},
     "output_type": "execute_result"
    },
    {
     "data": {
      "image/png": "[encoded data removed]",
      "text/plain": [
       "<Figure size 432x288 with 1 Axes>"
      ]
     },
     "metadata": {
      "needs_background": "light"
     },
     "output_type": "display_data"
    }
   ],
   "source": [
    "import matplotlib.pyplot as plt\n",
    "\n",
    "point = '5Y'\n",
    "\n",
    "x = shifts\n",
    "y = delta[delta['mkt_point'] == point][shifts].values[0]\n",
    "coefficients = np.polyfit(x, y, len(x)-1)\n",
    "poly = np.poly1d(coefficients)\n",
    "\n",
    "new_x = np.linspace(x[0], x[-1], 100)\n",
    "new_y = poly(new_x)\n",
    "\n",
    "plt.plot(x, y, \"o\", new_x, new_y)\n",
    "plt.xlim([x[0]-1, x[-1] + 1])\n",
    "plt.title('Delta curve for {}'.format(point))\n",
    "plt.xlabel('Spot Move (bps)')\n",
    "plt.ylabel('Delta')"
   ]
  },
  {
   "cell_type": "markdown",
   "metadata": {},
   "source": [
    "### 5 - Predicting Performance and Risk\n",
    "\n",
    "We can already get expected delta for any market move using our polynomial - with a big of simple math, we can also get gamma (first derivative) and pnl. Let's define a few functions to help us to that."
   ]
  },
  {
   "cell_type": "code",
   "execution_count": 134,
   "metadata": {},
   "outputs": [],
   "source": [
    "def delta_f(coeff, market_move):\n",
    "    return sum([c*market_move**(i) for i, c in enumerate(coeff)])\n",
    "\n",
    "def gamma_f(coeff, market_move):\n",
    "    return sum([(i + 1)*c*market_move**(i) for i, c in enumerate(coeff[1:])])\n",
    "    \n",
    "def pnl_f(coeff, market_move):\n",
    "    return sum([(c*market_move**(i + 1))/(i + 1) for i, c in enumerate(coeff)])\n",
    "   \n",
    "def get_derived_values(coeff, market_move):\n",
    "    b_delta = coeff[0]\n",
    "    b_gamma = gamma_f(coeff, 0)\n",
    "    \n",
    "    new_delta = delta_f(coeff, market_move)\n",
    "    new_gamma = gamma_f(coeff, market_move)\n",
    "\n",
    "    delta_pnl = b_delta * market_move\n",
    "    gamma_pnl = pnl_f(coeff, market_move) - delta_pnl\n",
    "    \n",
    "    return {'current_delta': b_delta, 'current_gamma': b_gamma, 'new_delta': new_delta, 'new_gamma': new_gamma,\n",
    "            'delta_pnl': delta_pnl, 'gamma_pnl': gamma_pnl}"
   ]
  },
  {
   "cell_type": "markdown",
   "metadata": {},
   "source": [
    "Now imagine you have a live market data feed - you can plug that in for `market_moves` and get live risk on your book. You can also plug in any market move to predict pnl and risk for your book."
   ]
  },
  {
   "cell_type": "code",
   "execution_count": 149,
   "metadata": {},
   "outputs": [
    {
     "data": {
      "text/html": [
       "<div>\n",
       "<style scoped>\n",
       "    .dataframe tbody tr th:only-of-type {\n",
       "        vertical-align: middle;\n",
       "    }\n",
       "\n",
       "    .dataframe tbody tr th {\n",
       "        vertical-align: top;\n",
       "    }\n",
       "\n",
       "    .dataframe thead th {\n",
       "        text-align: right;\n",
       "    }\n",
       "</style>\n",
       "<table border=\"1\" class=\"dataframe\">\n",
       "  <thead>\n",
       "    <tr style=\"text-align: right;\">\n",
       "      <th></th>\n",
       "      <th>current_delta</th>\n",
       "      <th>current_gamma</th>\n",
       "      <th>new_delta</th>\n",
       "      <th>new_gamma</th>\n",
       "      <th>delta_pnl</th>\n",
       "      <th>gamma_pnl</th>\n",
       "    </tr>\n",
       "    <tr>\n",
       "      <th>mkt_point</th>\n",
       "      <th></th>\n",
       "      <th></th>\n",
       "      <th></th>\n",
       "      <th></th>\n",
       "      <th></th>\n",
       "      <th></th>\n",
       "    </tr>\n",
       "  </thead>\n",
       "  <tbody>\n",
       "    <tr>\n",
       "      <th>O/N</th>\n",
       "      <td>-58.205335</td>\n",
       "      <td>-0.834978</td>\n",
       "      <td>-79.002788</td>\n",
       "      <td>-1.055600</td>\n",
       "      <td>-1280.517366</td>\n",
       "      <td>-219.855367</td>\n",
       "    </tr>\n",
       "    <tr>\n",
       "      <th>CASH STUB</th>\n",
       "      <td>-8944.747698</td>\n",
       "      <td>-114.964230</td>\n",
       "      <td>-11549.729027</td>\n",
       "      <td>-118.889090</td>\n",
       "      <td>-196784.449361</td>\n",
       "      <td>-28490.490964</td>\n",
       "    </tr>\n",
       "    <tr>\n",
       "      <th>JUN20</th>\n",
       "      <td>-28010.050076</td>\n",
       "      <td>-359.428563</td>\n",
       "      <td>-36150.107600</td>\n",
       "      <td>-371.572418</td>\n",
       "      <td>-616221.101666</td>\n",
       "      <td>-89039.534357</td>\n",
       "    </tr>\n",
       "  </tbody>\n",
       "</table>\n",
       "</div>"
      ],
      "text/plain": [
       "           current_delta  current_gamma     new_delta   new_gamma  \\\n",
       "mkt_point                                                           \n",
       "O/N           -58.205335      -0.834978    -79.002788   -1.055600   \n",
       "CASH STUB   -8944.747698    -114.964230 -11549.729027 -118.889090   \n",
       "JUN20      -28010.050076    -359.428563 -36150.107600 -371.572418   \n",
       "\n",
       "               delta_pnl     gamma_pnl  \n",
       "mkt_point                               \n",
       "O/N         -1280.517366   -219.855367  \n",
       "CASH STUB -196784.449361 -28490.490964  \n",
       "JUN20     -616221.101666 -89039.534357  "
      ]
     },
     "execution_count": 149,
     "metadata": {},
     "output_type": "execute_result"
    }
   ],
   "source": [
    "import pandas as pd \n",
    "\n",
    "# plug in move (bps) - flat accross all instruments or construct custom dictionary\n",
    "move = 22\n",
    "market_moves = dict(zip(delta.mkt_point.values, len(delta.mkt_point)*[move]))\n",
    "\n",
    "# calculate values for all the instruments\n",
    "instruments = delta['mkt_point']\n",
    "results = pd.DataFrame([get_derived_values(coeffs[delta[delta['mkt_point'] == instrument].index[0]], \n",
    "                              market_moves[instrument]) for instrument in list(instruments)])\n",
    "results.index = instruments\n",
    "results.head(3)"
   ]
  },
  {
   "cell_type": "markdown",
   "metadata": {},
   "source": [
    "We now have delta, gamma and delta given a specified move in each instrument. Current delta and gamma are values for the current portfolio and new delta and gamma are values after the market move is applied.\n",
    "\n",
    "Now to better understand the results, let's examine them visually! As expected, this portfolio benefits from a spot move up and almost all the risk changes are driven by changes in delta."
   ]
  },
  {
   "cell_type": "code",
   "execution_count": 152,
   "metadata": {},
   "outputs": [
    {
     "data": {
      "text/plain": [
       "<matplotlib.axes._subplots.AxesSubplot at 0x1bdd0160>"
      ]
     },
     "execution_count": 152,
     "metadata": {},
     "output_type": "execute_result"
    },
    {
     "data": {
      "image/png": "[encoded data removed]",
      "text/plain": [
       "<Figure size 720x360 with 1 Axes>"
      ]
     },
     "metadata": {
      "needs_background": "light"
     },
     "output_type": "display_data"
    }
   ],
   "source": [
    "results[['delta_pnl', 'gamma_pnl']].plot(kind='bar', stacked=True, title='Gamma and Delta PnL given a {}bp move'.format(move), figsize=(10, 5))"
   ]
  },
  {
   "cell_type": "code",
   "execution_count": 156,
   "metadata": {},
   "outputs": [
    {
     "data": {
      "text/plain": [
       "<matplotlib.axes._subplots.AxesSubplot at 0x1bd18a58>"
      ]
     },
     "execution_count": 156,
     "metadata": {},
     "output_type": "execute_result"
    },
    {
     "data": {
      "image/png": "[encoded data removed]",
      "text/plain": [
       "<Figure size 720x432 with 1 Axes>"
      ]
     },
     "metadata": {
      "needs_background": "light"
     },
     "output_type": "display_data"
    }
   ],
   "source": [
    "risk_changes = pd.DataFrame([results.new_delta - results.current_delta, results.new_gamma - results.current_gamma]).T\n",
    "risk_changes.columns = ['delta change', 'gamma change']\n",
    "risk_changes.plot(kind='bar', stacked=True, figsize=(10, 6), title='Risk changes given a {}bp move'.format(move))"
   ]
  },
  {
   "cell_type": "markdown",
   "metadata": {},
   "source": [
    "Please reach out with your thoughts and feedback!"
   ]
  },
  {
   "cell_type": "markdown",
   "metadata": {},
   "source": [
    "### What's New\n",
    "\n",
    "* New `IRXccySwapFixFlt` and `IRXccySwapFixFix` instruments (`from gs_quant.instruments import IRXccySwapFixFlt, IRXccySwapFixFix`)\n",
    "* Improved error handling\n",
    "* Improved computational efficiency - see `4-Delta Hedging` for examples"
   ]
  }
 ],
 "metadata": {
  "kernelspec": {
   "display_name": "Python 3",
   "language": "python",
   "name": "python3"
  },
  "language_info": {
   "codemirror_mode": {
    "name": "ipython",
    "version": 3
   },
   "file_extension": ".py",
   "mimetype": "text/x-python",
   "name": "python",
   "nbconvert_exporter": "python",
   "pygments_lexer": "ipython3",
   "version": "3.7.2"
  }
 },
 "nbformat": 4,
 "nbformat_minor": 4
}
