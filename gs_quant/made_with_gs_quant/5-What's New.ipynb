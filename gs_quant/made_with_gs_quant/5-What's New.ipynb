{
 "cells": [
  {
   "cell_type": "markdown",
   "metadata": {},
   "source": [
    "## What's New\n",
    "\n",
    "### Summary \n",
    "\n",
    "Brought to you by popular demand, this edition of `made-with-gs-quant` will showcase some of our newest features and capabilities. Going forward, look out for a `What's New` section in `made_with_gs_quant` that will highlight new additions.\n",
    "\n",
    "The content of this notebook is split into:\n",
    "* [1 - Let's get started with gs quant](#1---Let's-get-started-with-gs-quant)\n",
    "* [2 - Cash flows](#2---Cash-flows)\n",
    "* [3 - Portfolios](#3---Portfolios)\n",
    "* [4 - Scenarios](#4---Scenarios)\n",
    "* [5 - Compute](#4---Compute)"
   ]
  },
  {
   "cell_type": "markdown",
   "metadata": {},
   "source": [
    "### 1 - Let's get started with gs quant\n",
    "Start every session with authenticating with your unique client id and secret. If you don't have a registered app, create one [here](https://marquee.gs.com/s/developer/myapps/register). `run_analytics` scope is required for the functionality covered in this example. Below produced using gs-quant version 0.8.115."
   ]
  },
  {
   "cell_type": "code",
   "execution_count": 1,
   "metadata": {},
   "outputs": [],
   "source": [
    "from gs_quant.session import GsSession\n",
    "GsSession.use(client_id=None, client_secret=None, scopes=('run_analytics',))"
   ]
  },
  {
   "cell_type": "markdown",
   "metadata": {},
   "source": [
    "### 2 - Cash flows\n",
    "\n",
    "Let's start with something small but impactful - ability to model future cashflows. You can simply use `CashFlows` as any of the other risk measures to get a dataframe of future cashflows."
   ]
  },
  {
   "cell_type": "code",
   "execution_count": 2,
   "metadata": {},
   "outputs": [
    {
     "data": {
      "text/html": [
       "<div>\n",
       "<style scoped>\n",
       "    .dataframe tbody tr th:only-of-type {\n",
       "        vertical-align: middle;\n",
       "    }\n",
       "\n",
       "    .dataframe tbody tr th {\n",
       "        vertical-align: top;\n",
       "    }\n",
       "\n",
       "    .dataframe thead th {\n",
       "        text-align: right;\n",
       "    }\n",
       "</style>\n",
       "<table border=\"1\" class=\"dataframe\">\n",
       "  <thead>\n",
       "    <tr style=\"text-align: right;\">\n",
       "      <th></th>\n",
       "      <th>payment_date</th>\n",
       "      <th>payment_type</th>\n",
       "      <th>accrual_start_date</th>\n",
       "      <th>accrual_end_date</th>\n",
       "      <th>floating_rate_option</th>\n",
       "      <th>floating_rate_designated_maturity</th>\n",
       "      <th>rate</th>\n",
       "      <th>payment_amount</th>\n",
       "      <th>spread</th>\n",
       "    </tr>\n",
       "  </thead>\n",
       "  <tbody>\n",
       "    <tr>\n",
       "      <td>0</td>\n",
       "      <td>2021-01-11</td>\n",
       "      <td>Flt</td>\n",
       "      <td>2020-10-09</td>\n",
       "      <td>2021-01-11</td>\n",
       "      <td>USD-LIBOR-BBA</td>\n",
       "      <td>3m</td>\n",
       "      <td>0.003892</td>\n",
       "      <td>101613.871028</td>\n",
       "      <td>0.0</td>\n",
       "    </tr>\n",
       "    <tr>\n",
       "      <td>1</td>\n",
       "      <td>2021-04-09</td>\n",
       "      <td>Fix</td>\n",
       "      <td>2020-10-09</td>\n",
       "      <td>2021-04-09</td>\n",
       "      <td>None</td>\n",
       "      <td>None</td>\n",
       "      <td>0.007041</td>\n",
       "      <td>-352064.002823</td>\n",
       "      <td>NaN</td>\n",
       "    </tr>\n",
       "    <tr>\n",
       "      <td>2</td>\n",
       "      <td>2021-04-09</td>\n",
       "      <td>Flt</td>\n",
       "      <td>2021-01-11</td>\n",
       "      <td>2021-04-09</td>\n",
       "      <td>USD-LIBOR-BBA</td>\n",
       "      <td>3m</td>\n",
       "      <td>0.003373</td>\n",
       "      <td>82451.629575</td>\n",
       "      <td>0.0</td>\n",
       "    </tr>\n",
       "    <tr>\n",
       "      <td>3</td>\n",
       "      <td>2021-07-09</td>\n",
       "      <td>Flt</td>\n",
       "      <td>2021-04-09</td>\n",
       "      <td>2021-07-09</td>\n",
       "      <td>USD-LIBOR-BBA</td>\n",
       "      <td>3m</td>\n",
       "      <td>0.002920</td>\n",
       "      <td>73802.600632</td>\n",
       "      <td>0.0</td>\n",
       "    </tr>\n",
       "    <tr>\n",
       "      <td>4</td>\n",
       "      <td>2021-10-12</td>\n",
       "      <td>Fix</td>\n",
       "      <td>2021-04-09</td>\n",
       "      <td>2021-10-12</td>\n",
       "      <td>None</td>\n",
       "      <td>None</td>\n",
       "      <td>0.007041</td>\n",
       "      <td>-357931.736204</td>\n",
       "      <td>NaN</td>\n",
       "    </tr>\n",
       "  </tbody>\n",
       "</table>\n",
       "</div>"
      ],
      "text/plain": [
       "  payment_date payment_type accrual_start_date accrual_end_date  \\\n",
       "0   2021-01-11          Flt         2020-10-09       2021-01-11   \n",
       "1   2021-04-09          Fix         2020-10-09       2021-04-09   \n",
       "2   2021-04-09          Flt         2021-01-11       2021-04-09   \n",
       "3   2021-07-09          Flt         2021-04-09       2021-07-09   \n",
       "4   2021-10-12          Fix         2021-04-09       2021-10-12   \n",
       "\n",
       "  floating_rate_option floating_rate_designated_maturity      rate  \\\n",
       "0        USD-LIBOR-BBA                                3m  0.003892   \n",
       "1                 None                              None  0.007041   \n",
       "2        USD-LIBOR-BBA                                3m  0.003373   \n",
       "3        USD-LIBOR-BBA                                3m  0.002920   \n",
       "4                 None                              None  0.007041   \n",
       "\n",
       "   payment_amount  spread  \n",
       "0   101613.871028     0.0  \n",
       "1  -352064.002823     NaN  \n",
       "2    82451.629575     0.0  \n",
       "3    73802.600632     0.0  \n",
       "4  -357931.736204     NaN  "
      ]
     },
     "execution_count": 2,
     "metadata": {},
     "output_type": "execute_result"
    }
   ],
   "source": [
    "from gs_quant.risk import Cashflows\n",
    "from gs_quant.common import Currency, PayReceive\n",
    "from gs_quant.instrument import IRSwaption\n",
    "\n",
    "swaption = IRSwaption(PayReceive.Receive, '10y', Currency.USD, expiration_date='6m')\n",
    "cf = swaption.calc(Cashflows)\n",
    "cf.head()"
   ]
  },
  {
   "cell_type": "markdown",
   "metadata": {},
   "source": [
    "### 3 - Portfolios\n",
    "I have used `Portfolio` wrappers in my previous analyses, so this one should be somewhat familiar. `Portfolio` makes working with many positions easier and allows risk to be viewed both at position level and aggregate level (more portfolio features like saving in the pipeline..look for it in `What's New` section in the new editions!)\n",
    "\n",
    "Let's first define a portfolio - I will define a book of swaptions with varying strikes."
   ]
  },
  {
   "cell_type": "code",
   "execution_count": 3,
   "metadata": {},
   "outputs": [],
   "source": [
    "from gs_quant.markets.portfolio import Portfolio\n",
    "from gs_quant.common import Currency, PayReceive\n",
    "from gs_quant.instrument import IRSwaption\n",
    "\n",
    "swaptions = [IRSwaption(PayReceive.Receive, '10y', Currency.USD, expiration_date='6m', strike=strike, \n",
    "                        name=strike) for strike in ('atm', 'atm-10', 'atm-25', 'atm-50')]\n",
    "\n",
    "# create portfolio from list of instruments\n",
    "portfolio = Portfolio(swaptions)\n",
    "\n",
    "# resolve all the instruments in place\n",
    "portfolio.resolve()"
   ]
  },
  {
   "cell_type": "markdown",
   "metadata": {},
   "source": [
    "Now we can work with this portfolio the same way we do with an instrument - that is, we can price it or calculate any of the available risk measures on it. "
   ]
  },
  {
   "cell_type": "code",
   "execution_count": 4,
   "metadata": {},
   "outputs": [],
   "source": [
    "from gs_quant.risk import DollarPrice, IRVegaParallel\n",
    "risks = portfolio.calc((DollarPrice, IRVegaParallel))"
   ]
  },
  {
   "cell_type": "markdown",
   "metadata": {},
   "source": [
    "With `risks` in hand, we can examine these risks on an instrument level or aggregate level:"
   ]
  },
  {
   "cell_type": "code",
   "execution_count": 5,
   "metadata": {},
   "outputs": [
    {
     "name": "stdout",
     "output_type": "stream",
     "text": [
      "{DollarPrice: 2231272.8174612066, IRVegaParallel: 27673.171005129243}\n",
      "2231272.8174612066\n",
      "2231272.8174612066\n",
      "94186.10431254894\n"
     ]
    }
   ],
   "source": [
    "# all risks for a specific (in this case, first) instrument in the portfolio\n",
    "print(risks[portfolio[0]])\n",
    "\n",
    "# single risk for a specific (in this case, first) instrument in the portfolio\n",
    "print(risks[portfolio[0]][DollarPrice])\n",
    "# or...\n",
    "print(risks[DollarPrice][portfolio[0]])\n",
    "\n",
    "# aggregate risk for the portfolio\n",
    "print(risks[IRVegaParallel].aggregate())"
   ]
  },
  {
   "cell_type": "markdown",
   "metadata": {},
   "source": [
    "Finally, we can convert our portfolio to a dataframe where each row will represent an instrument. "
   ]
  },
  {
   "cell_type": "code",
   "execution_count": 6,
   "metadata": {},
   "outputs": [
    {
     "data": {
      "text/html": [
       "<div>\n",
       "<style scoped>\n",
       "    .dataframe tbody tr th:only-of-type {\n",
       "        vertical-align: middle;\n",
       "    }\n",
       "\n",
       "    .dataframe tbody tr th {\n",
       "        vertical-align: top;\n",
       "    }\n",
       "\n",
       "    .dataframe thead th {\n",
       "        text-align: right;\n",
       "    }\n",
       "</style>\n",
       "<table border=\"1\" class=\"dataframe\">\n",
       "  <thead>\n",
       "    <tr style=\"text-align: right;\">\n",
       "      <th></th>\n",
       "      <th>floating_rate_designated_maturity</th>\n",
       "      <th>fee</th>\n",
       "      <th>fee_payment_date</th>\n",
       "      <th>premium_payment_date</th>\n",
       "      <th>buy_sell</th>\n",
       "      <th>premium</th>\n",
       "      <th>strike</th>\n",
       "      <th>fixed_rate_frequency</th>\n",
       "      <th>fixed_rate_business_day_convention</th>\n",
       "      <th>pay_or_receive</th>\n",
       "      <th>...</th>\n",
       "      <th>asset_class</th>\n",
       "      <th>floating_rate_option</th>\n",
       "      <th>expiration_date</th>\n",
       "      <th>notional_amount</th>\n",
       "      <th>effective_date</th>\n",
       "      <th>floating_rate_frequency</th>\n",
       "      <th>settlement</th>\n",
       "      <th>floating_rate_spread</th>\n",
       "      <th>type</th>\n",
       "      <th>floating_rate_business_day_convention</th>\n",
       "    </tr>\n",
       "    <tr>\n",
       "      <th>instrument</th>\n",
       "      <th></th>\n",
       "      <th></th>\n",
       "      <th></th>\n",
       "      <th></th>\n",
       "      <th></th>\n",
       "      <th></th>\n",
       "      <th></th>\n",
       "      <th></th>\n",
       "      <th></th>\n",
       "      <th></th>\n",
       "      <th></th>\n",
       "      <th></th>\n",
       "      <th></th>\n",
       "      <th></th>\n",
       "      <th></th>\n",
       "      <th></th>\n",
       "      <th></th>\n",
       "      <th></th>\n",
       "      <th></th>\n",
       "      <th></th>\n",
       "      <th></th>\n",
       "    </tr>\n",
       "  </thead>\n",
       "  <tbody>\n",
       "    <tr>\n",
       "      <td>atm</td>\n",
       "      <td>3m</td>\n",
       "      <td>0.0</td>\n",
       "      <td>2020-04-09</td>\n",
       "      <td>2020-04-09</td>\n",
       "      <td>BuySell.Buy</td>\n",
       "      <td>0.0</td>\n",
       "      <td>0.007041</td>\n",
       "      <td>6m</td>\n",
       "      <td>BusinessDayConvention.Modified_Following</td>\n",
       "      <td>Receive</td>\n",
       "      <td>...</td>\n",
       "      <td>AssetClass.Rates</td>\n",
       "      <td>USD-LIBOR-BBA</td>\n",
       "      <td>2020-10-07</td>\n",
       "      <td>100000000.0</td>\n",
       "      <td>2020-10-09</td>\n",
       "      <td>3m</td>\n",
       "      <td>SwapSettlement.Phys_CLEARED</td>\n",
       "      <td>0.0</td>\n",
       "      <td>AssetType.Swaption</td>\n",
       "      <td>BusinessDayConvention.Modified_Following</td>\n",
       "    </tr>\n",
       "    <tr>\n",
       "      <td>atm-10</td>\n",
       "      <td>3m</td>\n",
       "      <td>0.0</td>\n",
       "      <td>2020-04-09</td>\n",
       "      <td>2020-04-09</td>\n",
       "      <td>BuySell.Buy</td>\n",
       "      <td>0.0</td>\n",
       "      <td>0.006041</td>\n",
       "      <td>6m</td>\n",
       "      <td>BusinessDayConvention.Modified_Following</td>\n",
       "      <td>Receive</td>\n",
       "      <td>...</td>\n",
       "      <td>AssetClass.Rates</td>\n",
       "      <td>USD-LIBOR-BBA</td>\n",
       "      <td>2020-10-07</td>\n",
       "      <td>100000000.0</td>\n",
       "      <td>2020-10-09</td>\n",
       "      <td>3m</td>\n",
       "      <td>SwapSettlement.Phys_CLEARED</td>\n",
       "      <td>0.0</td>\n",
       "      <td>AssetType.Swaption</td>\n",
       "      <td>BusinessDayConvention.Modified_Following</td>\n",
       "    </tr>\n",
       "  </tbody>\n",
       "</table>\n",
       "<p>2 rows × 25 columns</p>\n",
       "</div>"
      ],
      "text/plain": [
       "           floating_rate_designated_maturity  fee fee_payment_date  \\\n",
       "instrument                                                           \n",
       "atm                                       3m  0.0       2020-04-09   \n",
       "atm-10                                    3m  0.0       2020-04-09   \n",
       "\n",
       "           premium_payment_date     buy_sell  premium    strike  \\\n",
       "instrument                                                        \n",
       "atm                  2020-04-09  BuySell.Buy      0.0  0.007041   \n",
       "atm-10               2020-04-09  BuySell.Buy      0.0  0.006041   \n",
       "\n",
       "           fixed_rate_frequency        fixed_rate_business_day_convention  \\\n",
       "instrument                                                                  \n",
       "atm                          6m  BusinessDayConvention.Modified_Following   \n",
       "atm-10                       6m  BusinessDayConvention.Modified_Following   \n",
       "\n",
       "           pay_or_receive  ...       asset_class floating_rate_option  \\\n",
       "instrument                 ...                                          \n",
       "atm               Receive  ...  AssetClass.Rates        USD-LIBOR-BBA   \n",
       "atm-10            Receive  ...  AssetClass.Rates        USD-LIBOR-BBA   \n",
       "\n",
       "           expiration_date notional_amount effective_date  \\\n",
       "instrument                                                  \n",
       "atm             2020-10-07     100000000.0     2020-10-09   \n",
       "atm-10          2020-10-07     100000000.0     2020-10-09   \n",
       "\n",
       "           floating_rate_frequency                   settlement  \\\n",
       "instrument                                                        \n",
       "atm                             3m  SwapSettlement.Phys_CLEARED   \n",
       "atm-10                          3m  SwapSettlement.Phys_CLEARED   \n",
       "\n",
       "           floating_rate_spread                type  \\\n",
       "instrument                                            \n",
       "atm                         0.0  AssetType.Swaption   \n",
       "atm-10                      0.0  AssetType.Swaption   \n",
       "\n",
       "               floating_rate_business_day_convention  \n",
       "instrument                                            \n",
       "atm         BusinessDayConvention.Modified_Following  \n",
       "atm-10      BusinessDayConvention.Modified_Following  \n",
       "\n",
       "[2 rows x 25 columns]"
      ]
     },
     "execution_count": 6,
     "metadata": {},
     "output_type": "execute_result"
    }
   ],
   "source": [
    "frame = portfolio.to_frame()\n",
    "frame.head(2)"
   ]
  },
  {
   "cell_type": "markdown",
   "metadata": {},
   "source": [
    "We can append `RiskResults` as columns to this dataframe as we compute additional measures."
   ]
  },
  {
   "cell_type": "code",
   "execution_count": 7,
   "metadata": {},
   "outputs": [
    {
     "data": {
      "text/html": [
       "<div>\n",
       "<style scoped>\n",
       "    .dataframe tbody tr th:only-of-type {\n",
       "        vertical-align: middle;\n",
       "    }\n",
       "\n",
       "    .dataframe tbody tr th {\n",
       "        vertical-align: top;\n",
       "    }\n",
       "\n",
       "    .dataframe thead th {\n",
       "        text-align: right;\n",
       "    }\n",
       "</style>\n",
       "<table border=\"1\" class=\"dataframe\">\n",
       "  <thead>\n",
       "    <tr style=\"text-align: right;\">\n",
       "      <th></th>\n",
       "      <th>floating_rate_designated_maturity</th>\n",
       "      <th>fee</th>\n",
       "      <th>fee_payment_date</th>\n",
       "      <th>premium_payment_date</th>\n",
       "      <th>buy_sell</th>\n",
       "      <th>premium</th>\n",
       "      <th>strike</th>\n",
       "      <th>fixed_rate_frequency</th>\n",
       "      <th>fixed_rate_business_day_convention</th>\n",
       "      <th>pay_or_receive</th>\n",
       "      <th>...</th>\n",
       "      <th>expiration_date</th>\n",
       "      <th>notional_amount</th>\n",
       "      <th>effective_date</th>\n",
       "      <th>floating_rate_frequency</th>\n",
       "      <th>settlement</th>\n",
       "      <th>floating_rate_spread</th>\n",
       "      <th>type</th>\n",
       "      <th>floating_rate_business_day_convention</th>\n",
       "      <th>DollarPrice</th>\n",
       "      <th>IRVegaParallel</th>\n",
       "    </tr>\n",
       "    <tr>\n",
       "      <th>instrument</th>\n",
       "      <th></th>\n",
       "      <th></th>\n",
       "      <th></th>\n",
       "      <th></th>\n",
       "      <th></th>\n",
       "      <th></th>\n",
       "      <th></th>\n",
       "      <th></th>\n",
       "      <th></th>\n",
       "      <th></th>\n",
       "      <th></th>\n",
       "      <th></th>\n",
       "      <th></th>\n",
       "      <th></th>\n",
       "      <th></th>\n",
       "      <th></th>\n",
       "      <th></th>\n",
       "      <th></th>\n",
       "      <th></th>\n",
       "      <th></th>\n",
       "      <th></th>\n",
       "    </tr>\n",
       "  </thead>\n",
       "  <tbody>\n",
       "    <tr>\n",
       "      <td>atm</td>\n",
       "      <td>3m</td>\n",
       "      <td>0.0</td>\n",
       "      <td>2020-04-09</td>\n",
       "      <td>2020-04-09</td>\n",
       "      <td>BuySell.Buy</td>\n",
       "      <td>0.0</td>\n",
       "      <td>0.007041</td>\n",
       "      <td>6m</td>\n",
       "      <td>BusinessDayConvention.Modified_Following</td>\n",
       "      <td>Receive</td>\n",
       "      <td>...</td>\n",
       "      <td>2020-10-07</td>\n",
       "      <td>100000000.0</td>\n",
       "      <td>2020-10-09</td>\n",
       "      <td>3m</td>\n",
       "      <td>SwapSettlement.Phys_CLEARED</td>\n",
       "      <td>0.0</td>\n",
       "      <td>AssetType.Swaption</td>\n",
       "      <td>BusinessDayConvention.Modified_Following</td>\n",
       "      <td>2.231273e+06</td>\n",
       "      <td>27673.171005</td>\n",
       "    </tr>\n",
       "    <tr>\n",
       "      <td>atm-10</td>\n",
       "      <td>3m</td>\n",
       "      <td>0.0</td>\n",
       "      <td>2020-04-09</td>\n",
       "      <td>2020-04-09</td>\n",
       "      <td>BuySell.Buy</td>\n",
       "      <td>0.0</td>\n",
       "      <td>0.006041</td>\n",
       "      <td>6m</td>\n",
       "      <td>BusinessDayConvention.Modified_Following</td>\n",
       "      <td>Receive</td>\n",
       "      <td>...</td>\n",
       "      <td>2020-10-07</td>\n",
       "      <td>100000000.0</td>\n",
       "      <td>2020-10-09</td>\n",
       "      <td>3m</td>\n",
       "      <td>SwapSettlement.Phys_CLEARED</td>\n",
       "      <td>0.0</td>\n",
       "      <td>AssetType.Swaption</td>\n",
       "      <td>BusinessDayConvention.Modified_Following</td>\n",
       "      <td>1.730759e+06</td>\n",
       "      <td>26915.456690</td>\n",
       "    </tr>\n",
       "    <tr>\n",
       "      <td>atm-25</td>\n",
       "      <td>3m</td>\n",
       "      <td>0.0</td>\n",
       "      <td>2020-04-09</td>\n",
       "      <td>2020-04-09</td>\n",
       "      <td>BuySell.Buy</td>\n",
       "      <td>0.0</td>\n",
       "      <td>0.004541</td>\n",
       "      <td>6m</td>\n",
       "      <td>BusinessDayConvention.Modified_Following</td>\n",
       "      <td>Receive</td>\n",
       "      <td>...</td>\n",
       "      <td>2020-10-07</td>\n",
       "      <td>100000000.0</td>\n",
       "      <td>2020-10-09</td>\n",
       "      <td>3m</td>\n",
       "      <td>SwapSettlement.Phys_CLEARED</td>\n",
       "      <td>0.0</td>\n",
       "      <td>AssetType.Swaption</td>\n",
       "      <td>BusinessDayConvention.Modified_Following</td>\n",
       "      <td>1.128369e+06</td>\n",
       "      <td>23892.001745</td>\n",
       "    </tr>\n",
       "    <tr>\n",
       "      <td>atm-50</td>\n",
       "      <td>3m</td>\n",
       "      <td>0.0</td>\n",
       "      <td>2020-04-09</td>\n",
       "      <td>2020-04-09</td>\n",
       "      <td>BuySell.Buy</td>\n",
       "      <td>0.0</td>\n",
       "      <td>0.002041</td>\n",
       "      <td>6m</td>\n",
       "      <td>BusinessDayConvention.Modified_Following</td>\n",
       "      <td>Receive</td>\n",
       "      <td>...</td>\n",
       "      <td>2020-10-07</td>\n",
       "      <td>100000000.0</td>\n",
       "      <td>2020-10-09</td>\n",
       "      <td>3m</td>\n",
       "      <td>SwapSettlement.Phys_CLEARED</td>\n",
       "      <td>0.0</td>\n",
       "      <td>AssetType.Swaption</td>\n",
       "      <td>BusinessDayConvention.Modified_Following</td>\n",
       "      <td>4.911116e+05</td>\n",
       "      <td>15705.474872</td>\n",
       "    </tr>\n",
       "  </tbody>\n",
       "</table>\n",
       "<p>4 rows × 27 columns</p>\n",
       "</div>"
      ],
      "text/plain": [
       "           floating_rate_designated_maturity  fee fee_payment_date  \\\n",
       "instrument                                                           \n",
       "atm                                       3m  0.0       2020-04-09   \n",
       "atm-10                                    3m  0.0       2020-04-09   \n",
       "atm-25                                    3m  0.0       2020-04-09   \n",
       "atm-50                                    3m  0.0       2020-04-09   \n",
       "\n",
       "           premium_payment_date     buy_sell  premium    strike  \\\n",
       "instrument                                                        \n",
       "atm                  2020-04-09  BuySell.Buy      0.0  0.007041   \n",
       "atm-10               2020-04-09  BuySell.Buy      0.0  0.006041   \n",
       "atm-25               2020-04-09  BuySell.Buy      0.0  0.004541   \n",
       "atm-50               2020-04-09  BuySell.Buy      0.0  0.002041   \n",
       "\n",
       "           fixed_rate_frequency        fixed_rate_business_day_convention  \\\n",
       "instrument                                                                  \n",
       "atm                          6m  BusinessDayConvention.Modified_Following   \n",
       "atm-10                       6m  BusinessDayConvention.Modified_Following   \n",
       "atm-25                       6m  BusinessDayConvention.Modified_Following   \n",
       "atm-50                       6m  BusinessDayConvention.Modified_Following   \n",
       "\n",
       "           pay_or_receive  ... expiration_date notional_amount effective_date  \\\n",
       "instrument                 ...                                                  \n",
       "atm               Receive  ...      2020-10-07     100000000.0     2020-10-09   \n",
       "atm-10            Receive  ...      2020-10-07     100000000.0     2020-10-09   \n",
       "atm-25            Receive  ...      2020-10-07     100000000.0     2020-10-09   \n",
       "atm-50            Receive  ...      2020-10-07     100000000.0     2020-10-09   \n",
       "\n",
       "           floating_rate_frequency                   settlement  \\\n",
       "instrument                                                        \n",
       "atm                             3m  SwapSettlement.Phys_CLEARED   \n",
       "atm-10                          3m  SwapSettlement.Phys_CLEARED   \n",
       "atm-25                          3m  SwapSettlement.Phys_CLEARED   \n",
       "atm-50                          3m  SwapSettlement.Phys_CLEARED   \n",
       "\n",
       "           floating_rate_spread                type  \\\n",
       "instrument                                            \n",
       "atm                         0.0  AssetType.Swaption   \n",
       "atm-10                      0.0  AssetType.Swaption   \n",
       "atm-25                      0.0  AssetType.Swaption   \n",
       "atm-50                      0.0  AssetType.Swaption   \n",
       "\n",
       "               floating_rate_business_day_convention   DollarPrice  \\\n",
       "instrument                                                           \n",
       "atm         BusinessDayConvention.Modified_Following  2.231273e+06   \n",
       "atm-10      BusinessDayConvention.Modified_Following  1.730759e+06   \n",
       "atm-25      BusinessDayConvention.Modified_Following  1.128369e+06   \n",
       "atm-50      BusinessDayConvention.Modified_Following  4.911116e+05   \n",
       "\n",
       "           IRVegaParallel  \n",
       "instrument                 \n",
       "atm          27673.171005  \n",
       "atm-10       26915.456690  \n",
       "atm-25       23892.001745  \n",
       "atm-50       15705.474872  \n",
       "\n",
       "[4 rows x 27 columns]"
      ]
     },
     "execution_count": 7,
     "metadata": {},
     "output_type": "execute_result"
    }
   ],
   "source": [
    "import pandas as pd\n",
    "\n",
    "rks = pd.DataFrame(risks) \n",
    "rks.index = frame.index\n",
    "\n",
    "pd.concat([frame, rks], axis=1)"
   ]
  },
  {
   "cell_type": "markdown",
   "metadata": {},
   "source": [
    "Note the last two columns in the frame are the risks we appended!\n",
    "\n",
    "Want to see more portfolio examples? Refer to portfolio [examples here](https://nbviewer.jupyter.org/github/goldmansachs/gs-quant/tree/master/gs_quant/examples/02_portfolio/) and [previous editions](https://nbviewer.jupyter.org/github/goldmansachs/gs-quant/tree/master/gs_quant/made_with_gs_quant/) of `made_with_gs_quant`."
   ]
  },
  {
   "cell_type": "markdown",
   "metadata": {},
   "source": [
    "### 4 - Scenarios\n",
    "\n",
    "The team has also invested to build our scenario capabilities. In particular we: (1) simplified `MarketDataShock` scenario (2) added aging or `carry` scenario (3) introduced composite scenarios. Let's look at an example of each."
   ]
  },
  {
   "cell_type": "markdown",
   "metadata": {},
   "source": [
    "##### Simple Market Shock\n",
    "\n",
    "`MarketDataShockBasedScenario` is designed to allow users to shock any kind of market data. In this example we will shock the spot by 1bp. Note while before you had to specify each of the underlying curves used to build spot curve, you can now simply indicate `('IR', 'USD')`"
   ]
  },
  {
   "cell_type": "code",
   "execution_count": 8,
   "metadata": {},
   "outputs": [
    {
     "name": "stdout",
     "output_type": "stream",
     "text": [
      "Base price:        5,581,512.55\n",
      "Spot shock price:  5,463,793.78\n"
     ]
    }
   ],
   "source": [
    "from gs_quant.risk import MarketDataShockBasedScenario, MarketDataPattern, MarketDataShock, MarketDataShockType\n",
    "\n",
    "ir_spot_scenario = MarketDataShockBasedScenario(\n",
    "    shocks={\n",
    "        MarketDataPattern('IR', 'USD'): MarketDataShock(MarketDataShockType.Absolute, 1e-4),  # 1 bp shock\n",
    "        MarketDataPattern('IR Reset', 'USD-3m'): MarketDataShock(shock_type=MarketDataShockType.Absolute, value=1e-4),\n",
    "    })\n",
    "\n",
    "with ir_spot_scenario:\n",
    "    spot_shock = portfolio.price()\n",
    "    \n",
    "print('Base price:        {:,.2f}'.format(risks[DollarPrice].aggregate())) # or portfolio.price().aggregate()\n",
    "print('Spot shock price:  {:,.2f}'.format(spot_shock.aggregate()))"
   ]
  },
  {
   "cell_type": "markdown",
   "metadata": {},
   "source": [
    "##### Carry Scenario\n",
    "\n",
    "The `CarryScenario` can be used to move the pricing date into the future. In order to do this we do two things: (1) project the market data forward in time (either keeping spot rates constant or fwd rates constant - more on this in a bit) to the new pricing date and (2) lifecycle the trades so that any fixings or expiries that happen between today’s date and the target future date have been handled."
   ]
  },
  {
   "cell_type": "code",
   "execution_count": 9,
   "metadata": {},
   "outputs": [
    {
     "name": "stdout",
     "output_type": "stream",
     "text": [
      "Base price:        5,581,512.55\n",
      "Carry shock price: 4,877,362.31\n"
     ]
    }
   ],
   "source": [
    "from gs_quant.markets import PricingContext\n",
    "from gs_quant.risk import CarryScenario\n",
    "\n",
    "carry_scenario = CarryScenario(time_shift=22)\n",
    "with carry_scenario:\n",
    "    carry_shock = portfolio.price()\n",
    "    \n",
    "print('Base price:        {:,.2f}'.format(risks[DollarPrice].aggregate())) # portfolio.price().aggregate()\n",
    "print('Carry shock price: {:,.2f}'.format(carry_shock.aggregate()))"
   ]
  },
  {
   "cell_type": "markdown",
   "metadata": {},
   "source": [
    "##### Combined Scenarios\n",
    "\n",
    "We can now combine these two scenarios to produce a 'carry then bump' scenario (note all permutations aren't supported yet but are underway):"
   ]
  },
  {
   "cell_type": "code",
   "execution_count": 10,
   "metadata": {},
   "outputs": [
    {
     "name": "stdout",
     "output_type": "stream",
     "text": [
      "Base price:            5,581,512.55\n",
      "Carry then bump price: 4,721,982.56\n"
     ]
    }
   ],
   "source": [
    "with carry_scenario, ir_spot_scenario:\n",
    "    carry_then_bump_shock = portfolio.price()\n",
    "    \n",
    "print('Base price:            {:,.2f}'.format(risks[DollarPrice].aggregate())) # portfolio.price().aggregate()\n",
    "print('Carry then bump price: {:,.2f}'.format(carry_then_bump_shock.aggregate()))"
   ]
  },
  {
   "cell_type": "markdown",
   "metadata": {},
   "source": [
    "More on scenario examples in the [examples folder](https://nbviewer.jupyter.org/github/goldmansachs/gs-quant/tree/master/gs_quant/examples/04_scenario/) in the gs-quant repo."
   ]
  },
  {
   "cell_type": "markdown",
   "metadata": {},
   "source": [
    "### 5 - Compute\n",
    "\n",
    "Finally to optimize both speed and performance we have improved our async and batch framework.\n",
    "\n",
    "In a nutshell, `async` allows the requests to be processed in parallel and `batch` allows them to be grouped together and avoid timeouts for particularly large requests.\n",
    "\n",
    "Additionally, multiple contexts can be controlled by a 'master' `PricingContext` to batch requests together in order to also avoid timeouts and sending too many requests. For example of this please see [`4-Delta Hedging`](https://nbviewer.jupyter.org/github/goldmansachs/gs-quant/blob/master/gs_quant/made_with_gs_quant/4-Delta%20Hedging.ipynb) notebook. \n",
    "\n",
    "For now, let's look at a simpler example using the scenarios we discussed in the previous section. Here we will look at how the price of our portfolio evolved as we move it 21 days forward in time both keeping spot rates constant (`roll_to_fwds=False`) and fwd rates constant (`roll_to_fwds=True`). Let's use a `PricingContext` with batch mode to organize these requests."
   ]
  },
  {
   "cell_type": "code",
   "execution_count": 11,
   "metadata": {},
   "outputs": [],
   "source": [
    "from gs_quant.markets import PricingContext\n",
    "\n",
    "roll_to_spot = []\n",
    "roll_to_fwd = []\n",
    "\n",
    "with PricingContext(is_batch=True):\n",
    "    for time_shift in range(22):\n",
    "        with PricingContext(is_async=True), CarryScenario(time_shift, roll_to_fwds=True):\n",
    "            roll_to_spot.append(portfolio.price())\n",
    "        with PricingContext(is_async=True), CarryScenario(time_shift, roll_to_fwds=False):\n",
    "            roll_to_fwd.append(portfolio.price())"
   ]
  },
  {
   "cell_type": "markdown",
   "metadata": {},
   "source": [
    "Let's now visualize the result:"
   ]
  },
  {
   "cell_type": "code",
   "execution_count": 13,
   "metadata": {},
   "outputs": [
    {
     "data": {
      "text/plain": [
       "Text(0, 0.5, 'PV')"
      ]
     },
     "execution_count": 13,
     "metadata": {},
     "output_type": "execute_result"
    },
    {
     "data": {
      "image/png": "[encoded data removed]",
      "text/plain": [
       "<Figure size 720x432 with 1 Axes>"
      ]
     },
     "metadata": {
      "needs_background": "light"
     },
     "output_type": "display_data"
    }
   ],
   "source": [
    "import matplotlib.pyplot as plt\n",
    "\n",
    "pd.Series([r.aggregate() for r in roll_to_spot], name='Roll to Spot').plot(figsize=(10, 6))\n",
    "pd.Series([r.aggregate() for r in roll_to_fwd], name='Roll to Fwd').plot(figsize=(10, 6))\n",
    "plt.xlabel('TimeShift')\n",
    "plt.ylabel('PV')"
   ]
  },
  {
   "cell_type": "markdown",
   "metadata": {},
   "source": [
    "That's all for this edition - please keep sharing your feedback on what would make `gs-quant` even more useful for you as well as suggestions for `made_with_gs_quant` you would like to see in the future.\n",
    "\n",
    "Happy coding!"
   ]
  }
 ],
 "metadata": {
  "kernelspec": {
   "display_name": "Python 3",
   "language": "python",
   "name": "python3"
  },
  "language_info": {
   "codemirror_mode": {
    "name": "ipython",
    "version": 3
   },
   "file_extension": ".py",
   "mimetype": "text/x-python",
   "name": "python",
   "nbconvert_exporter": "python",
   "pygments_lexer": "ipython3",
   "version": "3.7.2"
  }
 },
 "nbformat": 4,
 "nbformat_minor": 4
}
